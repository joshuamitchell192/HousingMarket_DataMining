{
 "cells": [
  {
   "cell_type": "markdown",
   "metadata": {},
   "source": [
    "# A Multi-Method Analysis of the Russian Housing Market\n",
    "### 3804ICT Assignment Part I | Data Investigation Notebook | Trimester 2, 2019\n",
    "\n",
    "Joshua Russell (s5057545) | joshua.russell2@griffithuni.edu.au\n",
    "\n",
    "\n",
    "Joshua Mitchell (s5055278) | joshua.mitchell4@griffithuni.edu.au\n",
    "\n",
    "\n",
    "Hayden Flatley (s5088623) | hayden.flatley@griffithuni.edu.au"
   ]
  },
  {
   "cell_type": "markdown",
   "metadata": {},
   "source": [
    "//(Intro)\n",
    "\n",
    "The sections of the data investigation are as follows:\n",
    "\n",
    "**1. Data Exploration**\n",
    "\n",
    "    1.1. Number of Data Samples and Attributes\n",
    "    \n",
    "**2. Data Visualisation**\n",
    "\n",
    "- Heading\n",
    "    - Sub-heading\n",
    "\n",
    "**3. Data Pre-Processing**\n",
    "\n",
    "- Heading\n",
    "    - Sub-heading"
   ]
  },
  {
   "cell_type": "markdown",
   "metadata": {},
   "source": [
    "![title](SS.png)"
   ]
  },
  {
   "cell_type": "code",
   "execution_count": 69,
   "metadata": {},
   "outputs": [],
   "source": [
    "# Imports\n",
    "import math\n",
    "import folium\n",
    "import random\n",
    "import statistics\n",
    "import numpy as np\n",
    "import pandas as pd\n",
    "import seaborn as sn\n",
    "import matplotlib.pyplot as plt\n",
    "\n",
    "from IPython.display import display\n",
    "from geopy.geocoders import Nominatim"
   ]
  },
  {
   "cell_type": "code",
   "execution_count": 2,
   "metadata": {},
   "outputs": [],
   "source": [
    "# Load the Russian Housing Market datasets into pandas DataFrames\n",
    "df_test = pd.read_csv(\"Data/test.csv\")\n",
    "df_train = pd.read_csv(\"Data/train.csv\")"
   ]
  },
  {
   "cell_type": "markdown",
   "metadata": {},
   "source": [
    "## 1. Data Exploration"
   ]
  },
  {
   "cell_type": "markdown",
   "metadata": {},
   "source": [
    "### 1.1. Number of Data Samples and Attributes"
   ]
  },
  {
   "cell_type": "markdown",
   "metadata": {},
   "source": [
    "The primary property dataset was provided online in two seperate files for training and testing. Below, we display the number of data samples and attributes in each of the datasets:"
   ]
  },
  {
   "cell_type": "code",
   "execution_count": 3,
   "metadata": {},
   "outputs": [
    {
     "name": "stdout",
     "output_type": "stream",
     "text": [
      "Testing set\n",
      "- No. data samples: 7662\n",
      "- No. of attributes: 291\n"
     ]
    }
   ],
   "source": [
    "# Testing set\n",
    "print(\"Testing set\\n- No. data samples: {}\\n- No. of attributes: {}\".format(df_test.shape[0], df_test.shape[1]))"
   ]
  },
  {
   "cell_type": "code",
   "execution_count": 4,
   "metadata": {},
   "outputs": [
    {
     "name": "stdout",
     "output_type": "stream",
     "text": [
      "Training set\n",
      "- No. data samples: 30471\n",
      "- No. of attributes: 292\n"
     ]
    }
   ],
   "source": [
    "# Training set\n",
    "print(\"Training set\\n- No. data samples: {}\\n- No. of attributes: {}\".format(df_train.shape[0], df_train.shape[1]))"
   ]
  },
  {
   "cell_type": "markdown",
   "metadata": {},
   "source": [
    "The testing set has one less attribute than that of the training set. The following code checks the name of this attribute:"
   ]
  },
  {
   "cell_type": "code",
   "execution_count": 5,
   "metadata": {},
   "outputs": [
    {
     "data": {
      "text/plain": [
       "'price_doc'"
      ]
     },
     "execution_count": 5,
     "metadata": {},
     "output_type": "execute_result"
    }
   ],
   "source": [
    "list(set(df_train.columns).difference(set(df_test.columns)))[0]"
   ]
  },
  {
   "cell_type": "markdown",
   "metadata": {},
   "source": [
    "The data dictionary of the Russian Housing Market dataset describes this attribute as the sale price of the property, and moreover as the target variable for house price prediction. These two datasets will be useful for the methods of regression and forecasting. However, for other data mining methods we plan to investigate, such as frequent pattern mining, there is no need to split the data into training and testing sets. As a result, we will concatenate the datasets together for pre-processing. "
   ]
  },
  {
   "cell_type": "code",
   "execution_count": 6,
   "metadata": {},
   "outputs": [],
   "source": [
    "# Add a 'price_doc' column to the test DataFrame filled with `None` values\n",
    "df_test_price_doc = df_test.assign(price_doc=pd.Series([None for i in range(df_test.shape[0])]).values)"
   ]
  },
  {
   "cell_type": "code",
   "execution_count": 7,
   "metadata": {},
   "outputs": [],
   "source": [
    "# Concatenate test and train DataFrames\n",
    "df = pd.concat([df_train, df_test_price_doc], sort=False, ignore_index=True)"
   ]
  },
  {
   "cell_type": "code",
   "execution_count": 8,
   "metadata": {},
   "outputs": [
    {
     "name": "stdout",
     "output_type": "stream",
     "text": [
      "Complete dataset\n",
      "- No. data samples: 38133\n",
      "- No. of attributes: 292\n"
     ]
    }
   ],
   "source": [
    "# Concatenate datasets (both training and testing data samples)\n",
    "print(\"Complete dataset\\n- No. data samples: {}\\n- No. of attributes: {}\".format(df.shape[0], df.shape[1]))"
   ]
  },
  {
   "cell_type": "markdown",
   "metadata": {},
   "source": [
    "### 1.2. Types of Attributes"
   ]
  },
  {
   "cell_type": "markdown",
   "metadata": {},
   "source": [
    "Here we investigate the types of attributes within the dataset. For an initial look at these attributes we display each attribute with its corresponding datatype and an example value from the dataset"
   ]
  },
  {
   "cell_type": "code",
   "execution_count": 9,
   "metadata": {
    "scrolled": true
   },
   "outputs": [
    {
     "name": "stdout",
     "output_type": "stream",
     "text": [
      "Attribute                                Datatype        Example Value\n",
      "---------                                --------        -------------\n",
      "id                                       int64           1\n",
      "timestamp                                object          2011-08-20\n",
      "full_sq                                  float64         43.0\n",
      "life_sq                                  float64         27.0\n",
      "floor                                    float64         4.0\n",
      "max_floor                                float64         17.0\n",
      "material                                 float64         1.0\n",
      "build_year                               float64         1907.0\n",
      "num_room                                 float64         2.0\n",
      "kitch_sq                                 float64         11.0\n",
      "state                                    float64         3.0\n",
      "product_type                             object          Investment\n",
      "sub_area                                 object          Bibirevo\n",
      "area_m                                   float64         6407578.1\n",
      "raion_popul                              int64           155572\n",
      "green_zone_part                          float64         0.189727117\n",
      "indust_part                              float64         6.99893e-05\n",
      "children_preschool                       int64           9576\n",
      "preschool_quota                          float64         5001.0\n",
      "preschool_education_centers_raion        int64           5\n",
      "children_school                          int64           10309\n",
      "school_quota                             float64         11065.0\n",
      "school_education_centers_raion           int64           5\n",
      "school_education_centers_top_20_raion    int64           0\n",
      "hospital_beds_raion                      float64         240.0\n",
      "healthcare_centers_raion                 int64           1\n",
      "university_top_20_raion                  int64           0\n",
      "sport_objects_raion                      int64           7\n",
      "additional_education_raion               int64           3\n",
      "culture_objects_top_25                   object          no\n",
      "culture_objects_top_25_raion             int64           0\n",
      "shopping_centers_raion                   int64           16\n",
      "office_raion                             int64           1\n",
      "thermal_power_plant_raion                object          no\n",
      "incineration_raion                       object          no\n",
      "oil_chemistry_raion                      object          no\n",
      "radiation_raion                          object          no\n",
      "railroad_terminal_raion                  object          no\n",
      "big_market_raion                         object          no\n",
      "nuclear_reactor_raion                    object          no\n",
      "detention_facility_raion                 object          no\n",
      "full_all                                 int64           86206\n",
      "male_f                                   int64           40477\n",
      "female_f                                 int64           45729\n",
      "young_all                                int64           21154\n",
      "young_male                               int64           11007\n",
      "young_female                             int64           10147\n",
      "work_all                                 int64           98207\n",
      "work_male                                int64           52277\n",
      "work_female                              int64           45930\n",
      "ekder_all                                int64           36211\n",
      "ekder_male                               int64           10580\n",
      "ekder_female                             int64           25631\n",
      "0_6_all                                  int64           9576\n",
      "0_6_male                                 int64           4899\n",
      "0_6_female                               int64           4677\n",
      "7_14_all                                 int64           10309\n",
      "7_14_male                                int64           5463\n",
      "7_14_female                              int64           4846\n",
      "0_17_all                                 int64           23603\n",
      "0_17_male                                int64           12286\n",
      "0_17_female                              int64           11317\n",
      "16_29_all                                int64           17508\n",
      "16_29_male                               int64           9425\n",
      "16_29_female                             int64           8083\n",
      "0_13_all                                 int64           18654\n",
      "0_13_male                                int64           9709\n",
      "0_13_female                              int64           8945\n",
      "raion_build_count_with_material_info     float64         211.0\n",
      "build_count_block                        float64         25.0\n",
      "build_count_wood                         float64         0.0\n",
      "build_count_frame                        float64         0.0\n",
      "build_count_brick                        float64         0.0\n",
      "build_count_monolith                     float64         2.0\n",
      "build_count_panel                        float64         184.0\n",
      "build_count_foam                         float64         0.0\n",
      "build_count_slag                         float64         0.0\n",
      "build_count_mix                          float64         0.0\n",
      "raion_build_count_with_builddate_info    float64         211.0\n",
      "build_count_before_1920                  float64         0.0\n",
      "build_count_1921-1945                    float64         0.0\n",
      "build_count_1946-1970                    float64         0.0\n",
      "build_count_1971-1995                    float64         206.0\n",
      "build_count_after_1995                   float64         5.0\n",
      "ID_metro                                 int64           1\n",
      "metro_min_avto                           float64         2.590241095\n",
      "metro_km_avto                            float64         1.131259906\n",
      "metro_min_walk                           float64         13.57511887\n",
      "metro_km_walk                            float64         1.131259906\n",
      "kindergarten_km                          float64         0.14569955199999998\n",
      "school_km                                float64         0.17797535\n",
      "park_km                                  float64         2.158587074\n",
      "green_zone_km                            float64         0.600973099\n",
      "industrial_km                            float64         1.080934313\n",
      "water_treatment_km                       float64         23.68346\n",
      "cemetery_km                              float64         1.804127\n",
      "incineration_km                          float64         3.6333339999999996\n",
      "railroad_station_walk_km                 float64         5.419893032\n",
      "railroad_station_walk_min                float64         65.03871639\n",
      "ID_railroad_station_walk                 float64         1.0\n",
      "railroad_station_avto_km                 float64         5.419893032\n",
      "railroad_station_avto_min                float64         6.905892968\n",
      "ID_railroad_station_avto                 int64           1\n",
      "public_transport_station_km              float64         0.274985143\n",
      "public_transport_station_min_walk        float64         3.2998217139999997\n",
      "water_km                                 float64         0.992631058\n",
      "water_1line                              object          no\n",
      "mkad_km                                  float64         1.42239141\n",
      "ttk_km                                   float64         10.9185867\n",
      "sadovoe_km                               float64         13.10061764\n",
      "bulvar_ring_km                           float64         13.67565705\n",
      "kremlin_km                               float64         15.15621058\n",
      "big_road1_km                             float64         1.422391404\n",
      "ID_big_road1                             int64           1\n",
      "big_road1_1line                          object          no\n",
      "big_road2_km                             float64         3.830951404\n",
      "ID_big_road2                             int64           5\n",
      "railroad_km                              float64         1.305159492\n",
      "railroad_1line                           object          no\n",
      "zd_vokzaly_avto_km                       float64         14.23196091\n",
      "ID_railroad_terminal                     int64           101\n",
      "bus_terminal_avto_km                     float64         24.2924061\n",
      "ID_bus_terminal                          int64           1\n",
      "oil_chemistry_km                         float64         18.152338\n",
      "nuclear_reactor_km                       float64         5.718518835\n",
      "radiation_km                             float64         1.210027392\n",
      "power_transmission_line_km               float64         1.0625130459999999\n",
      "thermal_power_plant_km                   float64         5.814134663\n",
      "ts_km                                    float64         4.308127002\n",
      "big_market_km                            float64         10.81417151\n",
      "market_shop_km                           float64         1.6762583130000002\n",
      "fitness_km                               float64         0.485841388\n",
      "swim_pool_km                             float64         3.0650470989999996\n",
      "ice_rink_km                              float64         1.1075942090000002\n",
      "stadium_km                               float64         8.148590774\n",
      "basketball_km                            float64         3.5165129110000004\n",
      "hospice_morgue_km                        float64         2.392353035\n",
      "detention_facility_km                    float64         4.2480358869999995\n",
      "public_healthcare_km                     float64         0.974742843\n",
      "university_km                            float64         6.715025787\n",
      "workplaces_km                            float64         0.8843500209999999\n",
      "shopping_centers_km                      float64         0.648487637\n",
      "office_km                                float64         0.637188832\n",
      "additional_education_km                  float64         0.947961657\n",
      "preschool_km                             float64         0.17797535\n",
      "big_church_km                            float64         0.625783434\n",
      "church_synagogue_km                      float64         0.628186549\n",
      "mosque_km                                float64         3.932040333\n",
      "theater_km                               float64         14.05304655\n",
      "museum_km                                float64         7.389497904\n",
      "exhibition_km                            float64         7.023704919\n",
      "catering_km                              float64         0.516838085\n",
      "ecology                                  object          good\n",
      "green_part_500                           float64         0.0\n",
      "prom_part_500                            float64         0.0\n",
      "office_count_500                         int64           0\n",
      "office_sqm_500                           int64           0\n",
      "trc_count_500                            int64           0\n",
      "trc_sqm_500                              int64           0\n",
      "cafe_count_500                           int64           0\n",
      "cafe_sum_500_min_price_avg               float64         860.0\n",
      "cafe_sum_500_max_price_avg               float64         1500.0\n",
      "cafe_avg_price_500                       float64         1180.0\n",
      "cafe_count_500_na_price                  int64           0\n",
      "cafe_count_500_price_500                 int64           0\n",
      "cafe_count_500_price_1000                int64           0\n",
      "cafe_count_500_price_1500                int64           0\n",
      "cafe_count_500_price_2500                int64           0\n",
      "cafe_count_500_price_4000                int64           0\n",
      "cafe_count_500_price_high                int64           0\n",
      "big_church_count_500                     int64           0\n",
      "church_count_500                         int64           0\n",
      "mosque_count_500                         int64           0\n",
      "leisure_count_500                        int64           0\n",
      "sport_count_500                          int64           1\n",
      "market_count_500                         int64           0\n",
      "green_part_1000                          float64         7.36\n",
      "prom_part_1000                           float64         0.0\n",
      "office_count_1000                        int64           1\n",
      "office_sqm_1000                          int64           30500\n",
      "trc_count_1000                           int64           3\n",
      "trc_sqm_1000                             int64           55600\n",
      "cafe_count_1000                          int64           19\n",
      "cafe_sum_1000_min_price_avg              float64         527.78\n",
      "cafe_sum_1000_max_price_avg              float64         888.89\n",
      "cafe_avg_price_1000                      float64         708.33\n",
      "cafe_count_1000_na_price                 int64           1\n",
      "cafe_count_1000_price_500                int64           10\n",
      "cafe_count_1000_price_1000               int64           4\n",
      "cafe_count_1000_price_1500               int64           3\n",
      "cafe_count_1000_price_2500               int64           1\n",
      "cafe_count_1000_price_4000               int64           0\n",
      "cafe_count_1000_price_high               int64           0\n",
      "big_church_count_1000                    int64           1\n",
      "church_count_1000                        int64           2\n",
      "mosque_count_1000                        int64           0\n",
      "leisure_count_1000                       int64           0\n",
      "sport_count_1000                         int64           6\n",
      "market_count_1000                        int64           1\n",
      "green_part_1500                          float64         14.27\n",
      "prom_part_1500                           float64         6.92\n",
      "office_count_1500                        int64           3\n",
      "office_sqm_1500                          int64           39554\n",
      "trc_count_1500                           int64           9\n",
      "trc_sqm_1500                             int64           171420\n",
      "cafe_count_1500                          int64           34\n",
      "cafe_sum_1500_min_price_avg              float64         566.67\n",
      "cafe_sum_1500_max_price_avg              float64         969.7\n",
      "cafe_avg_price_1500                      float64         768.18\n",
      "cafe_count_1500_na_price                 int64           1\n",
      "cafe_count_1500_price_500                int64           14\n",
      "cafe_count_1500_price_1000               int64           11\n",
      "cafe_count_1500_price_1500               int64           6\n",
      "cafe_count_1500_price_2500               int64           2\n",
      "cafe_count_1500_price_4000               int64           0\n",
      "cafe_count_1500_price_high               int64           0\n",
      "big_church_count_1500                    int64           1\n",
      "church_count_1500                        int64           2\n",
      "mosque_count_1500                        int64           0\n",
      "leisure_count_1500                       int64           0\n",
      "sport_count_1500                         int64           7\n",
      "market_count_1500                        int64           1\n",
      "green_part_2000                          float64         11.77\n",
      "prom_part_2000                           float64         15.97\n",
      "office_count_2000                        int64           9\n",
      "office_sqm_2000                          int64           188854\n",
      "trc_count_2000                           int64           19\n",
      "trc_sqm_2000                             int64           1244891\n",
      "cafe_count_2000                          int64           36\n",
      "cafe_sum_2000_min_price_avg              float64         614.29\n",
      "cafe_sum_2000_max_price_avg              float64         1042.86\n",
      "cafe_avg_price_2000                      float64         828.57\n",
      "cafe_count_2000_na_price                 int64           1\n",
      "cafe_count_2000_price_500                int64           15\n",
      "cafe_count_2000_price_1000               int64           11\n",
      "cafe_count_2000_price_1500               int64           6\n",
      "cafe_count_2000_price_2500               int64           2\n",
      "cafe_count_2000_price_4000               int64           1\n",
      "cafe_count_2000_price_high               int64           0\n",
      "big_church_count_2000                    int64           1\n",
      "church_count_2000                        int64           2\n",
      "mosque_count_2000                        int64           0\n",
      "leisure_count_2000                       int64           0\n",
      "sport_count_2000                         int64           10\n",
      "market_count_2000                        int64           1\n",
      "green_part_3000                          float64         11.98\n",
      "prom_part_3000                           float64         13.55\n",
      "office_count_3000                        int64           12\n",
      "office_sqm_3000                          int64           251554\n",
      "trc_count_3000                           int64           23\n",
      "trc_sqm_3000                             int64           1419204\n",
      "cafe_count_3000                          int64           68\n",
      "cafe_sum_3000_min_price_avg              float64         639.68\n",
      "cafe_sum_3000_max_price_avg              float64         1079.37\n",
      "cafe_avg_price_3000                      float64         859.52\n",
      "cafe_count_3000_na_price                 int64           5\n",
      "cafe_count_3000_price_500                int64           21\n",
      "cafe_count_3000_price_1000               int64           22\n",
      "cafe_count_3000_price_1500               int64           16\n",
      "cafe_count_3000_price_2500               int64           3\n",
      "cafe_count_3000_price_4000               int64           1\n",
      "cafe_count_3000_price_high               int64           0\n",
      "big_church_count_3000                    int64           2\n",
      "church_count_3000                        int64           4\n",
      "mosque_count_3000                        int64           0\n",
      "leisure_count_3000                       int64           0\n",
      "sport_count_3000                         int64           21\n",
      "market_count_3000                        int64           1\n",
      "green_part_5000                          float64         13.09\n",
      "prom_part_5000                           float64         13.31\n",
      "office_count_5000                        int64           29\n",
      "office_sqm_5000                          int64           807385\n",
      "trc_count_5000                           int64           52\n",
      "trc_sqm_5000                             int64           4036616\n",
      "cafe_count_5000                          int64           152\n",
      "cafe_sum_5000_min_price_avg              float64         708.57\n",
      "cafe_sum_5000_max_price_avg              float64         1185.71\n",
      "cafe_avg_price_5000                      float64         947.14\n",
      "cafe_count_5000_na_price                 int64           12\n",
      "cafe_count_5000_price_500                int64           39\n",
      "cafe_count_5000_price_1000               int64           48\n",
      "cafe_count_5000_price_1500               int64           40\n",
      "cafe_count_5000_price_2500               int64           9\n",
      "cafe_count_5000_price_4000               int64           4\n",
      "cafe_count_5000_price_high               int64           0\n",
      "big_church_count_5000                    int64           13\n",
      "church_count_5000                        int64           22\n",
      "mosque_count_5000                        int64           1\n",
      "leisure_count_5000                       int64           0\n",
      "sport_count_5000                         int64           52\n",
      "market_count_5000                        int64           4\n",
      "price_doc                                object          5850000\n"
     ]
    }
   ],
   "source": [
    "# Attributes with corresponding Datatypes and Examples from the Russian Housing Market dataset\n",
    "print(\"{:<40} {:<15} {}\".format(\"Attribute\", \"Datatype\", \"Example Value\"))\n",
    "print(\"{:<40} {:<15} {}\".format(\"---------\", \"--------\", \"-------------\"))\n",
    "\n",
    "example_values = []\n",
    "for col in list(df.columns):\n",
    "    values = [x for x in list(df[col].values) if str(x) != \"nan\"]\n",
    "    example_values.append(values[0])\n",
    "    \n",
    "for col in np.c_[list(df.columns), list(df.dtypes), list(example_values)]:\n",
    "    print(\"{:<40} {:<15} {}\".format(col[0], str(col[1]), col[2]))"
   ]
  },
  {
   "cell_type": "markdown",
   "metadata": {},
   "source": [
    "There are four distinct types of attributes, those being *nominal attributes*, *ordinal attributes*, *interval-scaled attributes* and *ratio-scaled attributes*. Furthermore, there are also discrete and continuous classifications for distinguishing types of attributes. Since there are a total of 292 attributes in the primary dataset we will not describe the specific attribute type for each attribute. Instead, we will provide examples of attributes from the dataset that fulfill the criteria of the different attribute types.\n",
    "\n",
    "**Nominal attributes**\n",
    "\n",
    "Nominal attributes are those which are qualitative and do not have any inherent order or ranking. An example of this type of attribute within the dataset is the `sub_area` attribute. This attribute represents the name of the district that the data sample (property) belongs to. It takes on values such as \"Juzhnoe Butovo\" and \"Perovo\".\n",
    "\n",
    "**Ordinal attributes**\n",
    "\n",
    "Ordinal attributes are again qualitative. However, the values that these attributes take on have a meaningful order. In the primary housing market dataset there are no attributes that are ordinal. \n",
    "\n",
    "**Interval-scaled attributes**\n",
    "\n",
    "Interval-scaled attributes are ordered, and are those which, as the name implies, are measured on a particular equal-sized interval scale. The distinguishing factor between interval-scaled attributes and ratio-scaled attributes is that interval-scaled attributes do not have a true zero point (i.e. they can be positive, zero, or negative). After observing the name and meaning of each of the attributes in the primary dataset, we did not find any attributes that appeared interval-scaled. We further check this observation below:"
   ]
  },
  {
   "cell_type": "code",
   "execution_count": 47,
   "metadata": {},
   "outputs": [],
   "source": [
    "# Check for negative values in DataFrame\n",
    "for col_name in list(df.columns):\n",
    "    col = df[col_name]\n",
    "    \n",
    "    if col.dtype == \"float64\" or col.dtype == \"int64\":\n",
    "        neg_values = []\n",
    "        \n",
    "        for val in col:\n",
    "            if not math.isnan(val) and val < 0:\n",
    "                neg_values.append(val)\n",
    "                \n",
    "        if neg_values:\n",
    "            print(\"Column: {}\".format(col_name))\n",
    "            print(\"Negative values: {}\".format(len(neg_values)))"
   ]
  },
  {
   "cell_type": "markdown",
   "metadata": {},
   "source": [
    "**Ratio-scaled attributes**\n",
    "\n",
    "Ratio-scaled attributes, like those which are interval-scaled, are ordered measurements which have a particular scale. However, what differentiates ratio-scaled attributes is that they have a true zero point (i.e. they can be positive or zero). An example of a ratio-scaled attribute within the housing market dataset is `full_sq`. This attribute represents the total area of the property in square meters. Since area has an inherent zero-point, as you cannot have a house with negative area, this is a clear example of a ratio-scaled attribute.  \n",
    "\n",
    "**Discrete attributes**\n",
    "\n",
    "Discrete attributes are attributes which take on a finite or countably infinite set of possible values. The attribute `product_type` is an example of a discrete attribute within the primary dataset. This attribute states whether the property was bought as an investment property, or for owner-occupancy. Since there are two possible values this attribute can take on (i.e. \"OwnerOccupier\" or \"Investment\"), it has a finite set of values and is therefore a discrete attribute. \n",
    "\n",
    "**Continuous attributes**\n",
    "\n",
    "Continuous attributes, in contrast to discrete attributes, take on real valued numbers over a continuous range. An example of this type of attribute in the Russian housing market dataset is `metro_min_walk`, which provides the time it would take to walk to the metro on foot from the property (in minutes). This attribute has floating-point values over a continuous range and can therefore be classified as a continuous attribute."
   ]
  },
  {
   "cell_type": "markdown",
   "metadata": {},
   "source": [
    "### 1.3. Feature Selection"
   ]
  },
  {
   "cell_type": "markdown",
   "metadata": {},
   "source": [
    "The primary Russian housing market dataset contains a significant number of attributes, 292 in total. Consequently, for this investigation we will perform feature selection to select a few attributes which seem interesting and/or significant for predicting property sale price to study in data exploration and visualisation. Firstly, we will perform manual feature selection by examining the features and using domain knowledge to determine which attributes should not be investigated. We will then use metrics and data analysis techniques to determine which attributes seem most promising to examine. "
   ]
  },
  {
   "cell_type": "markdown",
   "metadata": {},
   "source": [
    "#### Manual Selection\n",
    "\n",
    "The following attributes were selected for data exploration and visualisation based upon our domain knowledge of what attributes would be significant in predicting house price and what attributes would be interesting to study. \n",
    "\n",
    "`price_doc` - this attribute represents the sale price of the property. This attribute will be interesting to explore as it allows us to find trends in the price and determine what other attributes are correlated to house price. Furthermore, the sale price will be the target variable for our regression and forecasting methods. \n",
    "\n",
    "`full_sq` - this attribute represents the total area of the property in square meters (including loggias, balconies and other non-residential living areas). We believe that the total area of the property would be a strong indicator for gauging the price of the property. As larger homes are generally more expensive than smaller ones.\n",
    "\n",
    "`sub_area` - this attribute represents the name of the district that the property is within. Characteristics of the district, such as its reputation, its population, or whether it has a large central business district will all affect the price of the property and other property/neighbourhood attribute values. Because of this, we thought that it would be interesting to explore. \n",
    "\n",
    "`num_room` - this attribute represents the number of living rooms\n",
    "\n",
    "`build_year` - this attribute represents the year that the property was built. Since newer appartments and homes are generally more expensive, we assume that this attribute will be useful for predicting house price. Furthermore, it may also allude to interesting relationships between house age and the district, or house age and the demographic information of the neighbourhood.\n",
    "\n",
    "`state` - this attribute represents the condition that the property is in at time of purchase."
   ]
  },
  {
   "cell_type": "markdown",
   "metadata": {},
   "source": [
    "#### Metric-Based Selection - Correlation Analysis"
   ]
  },
  {
   "cell_type": "code",
   "execution_count": null,
   "metadata": {},
   "outputs": [],
   "source": []
  },
  {
   "cell_type": "markdown",
   "metadata": {},
   "source": [
    "#### Metric-Based Selection - XGB Classifier*"
   ]
  },
  {
   "cell_type": "code",
   "execution_count": null,
   "metadata": {},
   "outputs": [],
   "source": []
  },
  {
   "cell_type": "markdown",
   "metadata": {},
   "source": [
    "#### Selecting Attributes\n",
    "\n",
    "Here we create a DataFrame with the selected attributes for data exploration and visualisation."
   ]
  },
  {
   "cell_type": "code",
   "execution_count": 52,
   "metadata": {
    "scrolled": false
   },
   "outputs": [],
   "source": [
    "df_exp = df[[\"timestamp\", \"price_doc\", \"full_sq\", \"sub_area\", \"num_room\", \"build_year\", \"state\", \n",
    "             \"public_transport_station_km\", \"industrial_km\", \"metro_min_avto\", \n",
    "             \"market_shop_km\", \"material\", \"park_km\", \"green_zone_km\", \"school_km\"]]"
   ]
  },
  {
   "cell_type": "markdown",
   "metadata": {},
   "source": [
    "### 1.4. Statistical Information"
   ]
  },
  {
   "cell_type": "markdown",
   "metadata": {},
   "source": [
    "#### Measures of Central Tendency\n",
    "\n",
    "Mean Median Midrange Mode | Median Approximation"
   ]
  },
  {
   "cell_type": "code",
   "execution_count": 95,
   "metadata": {},
   "outputs": [
    {
     "data": {
      "text/html": [
       "<div>\n",
       "<style scoped>\n",
       "    .dataframe tbody tr th:only-of-type {\n",
       "        vertical-align: middle;\n",
       "    }\n",
       "\n",
       "    .dataframe tbody tr th {\n",
       "        vertical-align: top;\n",
       "    }\n",
       "\n",
       "    .dataframe thead th {\n",
       "        text-align: right;\n",
       "    }\n",
       "</style>\n",
       "<table border=\"1\" class=\"dataframe\">\n",
       "  <thead>\n",
       "    <tr style=\"text-align: right;\">\n",
       "      <th></th>\n",
       "      <th>full_sq</th>\n",
       "      <th>num_room</th>\n",
       "      <th>build_year</th>\n",
       "      <th>state</th>\n",
       "      <th>public_transport_station_km</th>\n",
       "      <th>industrial_km</th>\n",
       "      <th>metro_min_avto</th>\n",
       "      <th>market_shop_km</th>\n",
       "      <th>material</th>\n",
       "      <th>park_km</th>\n",
       "      <th>green_zone_km</th>\n",
       "      <th>school_km</th>\n",
       "    </tr>\n",
       "  </thead>\n",
       "  <tbody>\n",
       "    <tr>\n",
       "      <th>count</th>\n",
       "      <td>38133.000000</td>\n",
       "      <td>28561.000000</td>\n",
       "      <td>2.347900e+04</td>\n",
       "      <td>23880.000000</td>\n",
       "      <td>38133.000000</td>\n",
       "      <td>38133.000000</td>\n",
       "      <td>38133.000000</td>\n",
       "      <td>38133.000000</td>\n",
       "      <td>28561.000000</td>\n",
       "      <td>38133.000000</td>\n",
       "      <td>38133.000000</td>\n",
       "      <td>38133.000000</td>\n",
       "    </tr>\n",
       "    <tr>\n",
       "      <th>mean</th>\n",
       "      <td>54.111172</td>\n",
       "      <td>1.900844</td>\n",
       "      <td>2.716785e+03</td>\n",
       "      <td>2.071650</td>\n",
       "      <td>0.424452</td>\n",
       "      <td>0.767431</td>\n",
       "      <td>4.902702</td>\n",
       "      <td>3.937603</td>\n",
       "      <td>1.834390</td>\n",
       "      <td>3.064809</td>\n",
       "      <td>0.301410</td>\n",
       "      <td>1.347122</td>\n",
       "    </tr>\n",
       "    <tr>\n",
       "      <th>std</th>\n",
       "      <td>35.171162</td>\n",
       "      <td>0.847620</td>\n",
       "      <td>1.308521e+05</td>\n",
       "      <td>0.864795</td>\n",
       "      <td>1.352674</td>\n",
       "      <td>0.742974</td>\n",
       "      <td>6.473965</td>\n",
       "      <td>3.477093</td>\n",
       "      <td>1.490923</td>\n",
       "      <td>3.915439</td>\n",
       "      <td>0.293917</td>\n",
       "      <td>3.159086</td>\n",
       "    </tr>\n",
       "    <tr>\n",
       "      <th>min</th>\n",
       "      <td>0.000000</td>\n",
       "      <td>0.000000</td>\n",
       "      <td>0.000000e+00</td>\n",
       "      <td>1.000000</td>\n",
       "      <td>0.002804</td>\n",
       "      <td>0.000000</td>\n",
       "      <td>0.000000</td>\n",
       "      <td>0.003847</td>\n",
       "      <td>1.000000</td>\n",
       "      <td>0.003737</td>\n",
       "      <td>0.000000</td>\n",
       "      <td>0.000000</td>\n",
       "    </tr>\n",
       "    <tr>\n",
       "      <th>25%</th>\n",
       "      <td>38.900000</td>\n",
       "      <td>1.000000</td>\n",
       "      <td>1.966000e+03</td>\n",
       "      <td>1.000000</td>\n",
       "      <td>0.102853</td>\n",
       "      <td>0.286587</td>\n",
       "      <td>1.719313</td>\n",
       "      <td>1.540511</td>\n",
       "      <td>1.000000</td>\n",
       "      <td>0.964876</td>\n",
       "      <td>0.103223</td>\n",
       "      <td>0.273073</td>\n",
       "    </tr>\n",
       "    <tr>\n",
       "      <th>50%</th>\n",
       "      <td>50.000000</td>\n",
       "      <td>2.000000</td>\n",
       "      <td>1.980000e+03</td>\n",
       "      <td>2.000000</td>\n",
       "      <td>0.162834</td>\n",
       "      <td>0.571575</td>\n",
       "      <td>2.769542</td>\n",
       "      <td>2.887683</td>\n",
       "      <td>1.000000</td>\n",
       "      <td>1.787349</td>\n",
       "      <td>0.216846</td>\n",
       "      <td>0.480208</td>\n",
       "    </tr>\n",
       "    <tr>\n",
       "      <th>75%</th>\n",
       "      <td>63.000000</td>\n",
       "      <td>2.000000</td>\n",
       "      <td>2.006000e+03</td>\n",
       "      <td>3.000000</td>\n",
       "      <td>0.279753</td>\n",
       "      <td>1.040324</td>\n",
       "      <td>4.788853</td>\n",
       "      <td>5.439734</td>\n",
       "      <td>2.000000</td>\n",
       "      <td>3.304260</td>\n",
       "      <td>0.420417</td>\n",
       "      <td>0.899203</td>\n",
       "    </tr>\n",
       "    <tr>\n",
       "      <th>max</th>\n",
       "      <td>5326.000000</td>\n",
       "      <td>19.000000</td>\n",
       "      <td>2.005201e+07</td>\n",
       "      <td>33.000000</td>\n",
       "      <td>17.413002</td>\n",
       "      <td>14.048162</td>\n",
       "      <td>65.101125</td>\n",
       "      <td>41.103651</td>\n",
       "      <td>6.000000</td>\n",
       "      <td>47.351538</td>\n",
       "      <td>2.036755</td>\n",
       "      <td>47.394706</td>\n",
       "    </tr>\n",
       "  </tbody>\n",
       "</table>\n",
       "</div>"
      ],
      "text/plain": [
       "            full_sq      num_room    build_year         state  \\\n",
       "count  38133.000000  28561.000000  2.347900e+04  23880.000000   \n",
       "mean      54.111172      1.900844  2.716785e+03      2.071650   \n",
       "std       35.171162      0.847620  1.308521e+05      0.864795   \n",
       "min        0.000000      0.000000  0.000000e+00      1.000000   \n",
       "25%       38.900000      1.000000  1.966000e+03      1.000000   \n",
       "50%       50.000000      2.000000  1.980000e+03      2.000000   \n",
       "75%       63.000000      2.000000  2.006000e+03      3.000000   \n",
       "max     5326.000000     19.000000  2.005201e+07     33.000000   \n",
       "\n",
       "       public_transport_station_km  industrial_km  metro_min_avto  \\\n",
       "count                 38133.000000   38133.000000    38133.000000   \n",
       "mean                      0.424452       0.767431        4.902702   \n",
       "std                       1.352674       0.742974        6.473965   \n",
       "min                       0.002804       0.000000        0.000000   \n",
       "25%                       0.102853       0.286587        1.719313   \n",
       "50%                       0.162834       0.571575        2.769542   \n",
       "75%                       0.279753       1.040324        4.788853   \n",
       "max                      17.413002      14.048162       65.101125   \n",
       "\n",
       "       market_shop_km      material       park_km  green_zone_km     school_km  \n",
       "count    38133.000000  28561.000000  38133.000000   38133.000000  38133.000000  \n",
       "mean         3.937603      1.834390      3.064809       0.301410      1.347122  \n",
       "std          3.477093      1.490923      3.915439       0.293917      3.159086  \n",
       "min          0.003847      1.000000      0.003737       0.000000      0.000000  \n",
       "25%          1.540511      1.000000      0.964876       0.103223      0.273073  \n",
       "50%          2.887683      1.000000      1.787349       0.216846      0.480208  \n",
       "75%          5.439734      2.000000      3.304260       0.420417      0.899203  \n",
       "max         41.103651      6.000000     47.351538       2.036755     47.394706  "
      ]
     },
     "execution_count": 95,
     "metadata": {},
     "output_type": "execute_result"
    }
   ],
   "source": [
    "df_exp.describe()"
   ]
  },
  {
   "cell_type": "code",
   "execution_count": 12,
   "metadata": {},
   "outputs": [],
   "source": [
    "def median_approximation(values, num_intervals=5):\n",
    "    values_min = min(values)\n",
    "    values_max = max(values)\n",
    "    values_range = values_max - values_min\n",
    "    \n",
    "    # Determine the range of each interval \n",
    "    if isinstance(values[0], int):\n",
    "        interval_range = values_range // (num_intervals)\n",
    "    elif isinstance(values[0], float):\n",
    "        interval_range = values_range / (num_intervals)\n",
    "    else:\n",
    "        print(\"Error: datatype of elements within the passed array is not 'int' or 'float'\")\n",
    "        return -1\n",
    "        \n",
    "    # Dictionary mapping interval number to interval range\n",
    "    interval_ranges = {}  \n",
    "    \n",
    "    # Dictionary mapping interval number to values falling within the interval range\n",
    "    interval_values = {}  \n",
    "    \n",
    "    # Determine the range for each interval\n",
    "    for i in range(num_intervals):\n",
    "        \n",
    "        # First interval\n",
    "        if i == 0:\n",
    "            interval_ranges[i] = (values_min, values_min + interval_range)\n",
    "        \n",
    "        # Last interval\n",
    "        elif i == num_intervals - 1:\n",
    "            interval_ranges[i] = (values_min + (i * interval_range), values_max + 1)\n",
    "            \n",
    "        # Middle interval\n",
    "        else:\n",
    "            interval_ranges[i] = (values_min + (i * interval_range), values_min + ((i + 1) * interval_range))\n",
    "            \n",
    "        # Set initial frequency count of interval\n",
    "        interval_values[i] = 0\n",
    "            \n",
    "    # Determine the frequency of values that fall within each interval\n",
    "    for v in values:\n",
    "        for i, i_range in interval_ranges.items():\n",
    "            if i_range[0] <= v < i_range[1]:\n",
    "                interval_values[i] += 1\n",
    "                break\n",
    "    \n",
    "    # Calculate the median approximation formula components\n",
    "    median_interval = num_intervals // 2\n",
    "    sum_lower_freq = sum([interval_values[i] for i in range(0, median_interval)])\n",
    "    freq_median = interval_values[median_interval]\n",
    "    width = interval_ranges[median_interval][1] - interval_ranges[median_interval][0]\n",
    "    L1 = interval_ranges[median_interval][0]\n",
    "    N = len(values)\n",
    "    \n",
    "    # Calculate the median approximation\n",
    "    median_approx = L1 + ((N/2 - sum_lower_freq) / freq_median) * width\n",
    "    \n",
    "    return median_approx"
   ]
  },
  {
   "cell_type": "code",
   "execution_count": 38,
   "metadata": {
    "scrolled": true
   },
   "outputs": [
    {
     "name": "stdout",
     "output_type": "stream",
     "text": [
      "Statistics library median function: 51.00\n",
      "Median approximation: 51.14\n"
     ]
    }
   ],
   "source": [
    "nums = [random.randint(0, 100) for x in range(10000)]\n",
    "print(\"Statistics library median function: {:.2f}\".format(statistics.median(nums)))\n",
    "print(\"Median approximation: {:.2f}\".format(median_approximation(nums)))"
   ]
  },
  {
   "cell_type": "markdown",
   "metadata": {},
   "source": [
    "#### Five-Number Summary \n",
    "\n",
    "Range, min, quartiles, median max, variance, standard deviation"
   ]
  },
  {
   "cell_type": "code",
   "execution_count": null,
   "metadata": {},
   "outputs": [],
   "source": []
  },
  {
   "cell_type": "code",
   "execution_count": null,
   "metadata": {},
   "outputs": [],
   "source": []
  },
  {
   "cell_type": "markdown",
   "metadata": {},
   "source": [
    "## 2. Data Pre-Processing"
   ]
  },
  {
   "cell_type": "code",
   "execution_count": null,
   "metadata": {},
   "outputs": [],
   "source": []
  },
  {
   "cell_type": "code",
   "execution_count": null,
   "metadata": {},
   "outputs": [],
   "source": []
  },
  {
   "cell_type": "markdown",
   "metadata": {},
   "source": [
    "## 3. Data Visualisation"
   ]
  },
  {
   "cell_type": "markdown",
   "metadata": {},
   "source": [
    "### Bubble Map"
   ]
  },
  {
   "cell_type": "code",
   "execution_count": 79,
   "metadata": {},
   "outputs": [],
   "source": [
    "# Find the house purchase counts of each district\n",
    "values = df['sub_area'].value_counts().keys().tolist()\n",
    "counts = df['sub_area'].value_counts().tolist()\n",
    "\n",
    "# Normailze counts into the range of 0-100%\n",
    "s = sum(counts)\n",
    "market_shares = [c/s for c in counts]\n",
    "\n",
    "# Capitalise the titles of each district for visualisation\n",
    "districts = [w.title() for w in values]\n",
    "\n",
    "# Find the corresponding latitudes and longitudes of the districts\n",
    "located_districts = []\n",
    "location_latitudes = []\n",
    "location_longitudes = []\n",
    "located_location_sales_count = []\n",
    "located_location_market_shares = []\n",
    "\n",
    "geolocator = Nominatim(user_agent='joshua_russell', timeout=10)\n",
    "\n",
    "for i, location in enumerate(districts):\n",
    "    loc = geolocator.geocode(location + \", Moscow, Russia\")\n",
    "    \n",
    "    # Only record data for districts whose latitude and longitude could be found\n",
    "    if loc is not None:\n",
    "        located_districts.append(location)\n",
    "        location_latitudes.append(loc.latitude)\n",
    "        location_longitudes.append(loc.longitude)\n",
    "        located_location_sales_count.append(counts[i])\n",
    "        located_location_market_shares.append(market_shares[i])\n",
    "\n",
    "# Create a DataFrame to plot the circles on the map\n",
    "data = pd.DataFrame({\n",
    "    \"lat\": location_latitudes,\n",
    "    \"lon\": location_longitudes,\n",
    "    \"district\": located_districts,\n",
    "    \"market_share\": located_location_market_shares,\n",
    "    \"sales_count\": located_location_sales_count\n",
    "})"
   ]
  },
  {
   "cell_type": "code",
   "execution_count": 94,
   "metadata": {},
   "outputs": [
    {
     "data": {
      "text/html": [
       "<div style=\"width:100%;\"><div style=\"position:relative;width:100%;height:0;padding-bottom:60%;\"><iframe src=\"data:text/html;charset=utf-8;base64,PCFET0NUWVBFIGh0bWw+CjxoZWFkPiAgICAKICAgIDxtZXRhIGh0dHAtZXF1aXY9ImNvbnRlbnQtdHlwZSIgY29udGVudD0idGV4dC9odG1sOyBjaGFyc2V0PVVURi04IiAvPgogICAgCiAgICAgICAgPHNjcmlwdD4KICAgICAgICAgICAgTF9OT19UT1VDSCA9IGZhbHNlOwogICAgICAgICAgICBMX0RJU0FCTEVfM0QgPSBmYWxzZTsKICAgICAgICA8L3NjcmlwdD4KICAgIAogICAgPHNjcmlwdCBzcmM9Imh0dHBzOi8vY2RuLmpzZGVsaXZyLm5ldC9ucG0vbGVhZmxldEAxLjUuMS9kaXN0L2xlYWZsZXQuanMiPjwvc2NyaXB0PgogICAgPHNjcmlwdCBzcmM9Imh0dHBzOi8vY29kZS5qcXVlcnkuY29tL2pxdWVyeS0xLjEyLjQubWluLmpzIj48L3NjcmlwdD4KICAgIDxzY3JpcHQgc3JjPSJodHRwczovL21heGNkbi5ib290c3RyYXBjZG4uY29tL2Jvb3RzdHJhcC8zLjIuMC9qcy9ib290c3RyYXAubWluLmpzIj48L3NjcmlwdD4KICAgIDxzY3JpcHQgc3JjPSJodHRwczovL2NkbmpzLmNsb3VkZmxhcmUuY29tL2FqYXgvbGlicy9MZWFmbGV0LmF3ZXNvbWUtbWFya2Vycy8yLjAuMi9sZWFmbGV0LmF3ZXNvbWUtbWFya2Vycy5qcyI+PC9zY3JpcHQ+CiAgICA8bGluayByZWw9InN0eWxlc2hlZXQiIGhyZWY9Imh0dHBzOi8vY2RuLmpzZGVsaXZyLm5ldC9ucG0vbGVhZmxldEAxLjUuMS9kaXN0L2xlYWZsZXQuY3NzIi8+CiAgICA8bGluayByZWw9InN0eWxlc2hlZXQiIGhyZWY9Imh0dHBzOi8vbWF4Y2RuLmJvb3RzdHJhcGNkbi5jb20vYm9vdHN0cmFwLzMuMi4wL2Nzcy9ib290c3RyYXAubWluLmNzcyIvPgogICAgPGxpbmsgcmVsPSJzdHlsZXNoZWV0IiBocmVmPSJodHRwczovL21heGNkbi5ib290c3RyYXBjZG4uY29tL2Jvb3RzdHJhcC8zLjIuMC9jc3MvYm9vdHN0cmFwLXRoZW1lLm1pbi5jc3MiLz4KICAgIDxsaW5rIHJlbD0ic3R5bGVzaGVldCIgaHJlZj0iaHR0cHM6Ly9tYXhjZG4uYm9vdHN0cmFwY2RuLmNvbS9mb250LWF3ZXNvbWUvNC42LjMvY3NzL2ZvbnQtYXdlc29tZS5taW4uY3NzIi8+CiAgICA8bGluayByZWw9InN0eWxlc2hlZXQiIGhyZWY9Imh0dHBzOi8vY2RuanMuY2xvdWRmbGFyZS5jb20vYWpheC9saWJzL0xlYWZsZXQuYXdlc29tZS1tYXJrZXJzLzIuMC4yL2xlYWZsZXQuYXdlc29tZS1tYXJrZXJzLmNzcyIvPgogICAgPGxpbmsgcmVsPSJzdHlsZXNoZWV0IiBocmVmPSJodHRwczovL3Jhd2Nkbi5naXRoYWNrLmNvbS9weXRob24tdmlzdWFsaXphdGlvbi9mb2xpdW0vbWFzdGVyL2ZvbGl1bS90ZW1wbGF0ZXMvbGVhZmxldC5hd2Vzb21lLnJvdGF0ZS5jc3MiLz4KICAgIDxzdHlsZT5odG1sLCBib2R5IHt3aWR0aDogMTAwJTtoZWlnaHQ6IDEwMCU7bWFyZ2luOiAwO3BhZGRpbmc6IDA7fTwvc3R5bGU+CiAgICA8c3R5bGU+I21hcCB7cG9zaXRpb246YWJzb2x1dGU7dG9wOjA7Ym90dG9tOjA7cmlnaHQ6MDtsZWZ0OjA7fTwvc3R5bGU+CiAgICAKICAgICAgICAgICAgPG1ldGEgbmFtZT0idmlld3BvcnQiIGNvbnRlbnQ9IndpZHRoPWRldmljZS13aWR0aCwKICAgICAgICAgICAgICAgIGluaXRpYWwtc2NhbGU9MS4wLCBtYXhpbXVtLXNjYWxlPTEuMCwgdXNlci1zY2FsYWJsZT1ubyIgLz4KICAgICAgICAgICAgPHN0eWxlPgogICAgICAgICAgICAgICAgI21hcF8wNGY0ZTM2NzZlMTE0NzY4YWM4ZWJlZGY1YjAyOWEwZSB7CiAgICAgICAgICAgICAgICAgICAgcG9zaXRpb246IHJlbGF0aXZlOwogICAgICAgICAgICAgICAgICAgIHdpZHRoOiAxMDAuMCU7CiAgICAgICAgICAgICAgICAgICAgaGVpZ2h0OiAxMDAuMCU7CiAgICAgICAgICAgICAgICAgICAgbGVmdDogMC4wJTsKICAgICAgICAgICAgICAgICAgICB0b3A6IDAuMCU7CiAgICAgICAgICAgICAgICB9CiAgICAgICAgICAgIDwvc3R5bGU+CiAgICAgICAgCjwvaGVhZD4KPGJvZHk+ICAgIAogICAgCiAgICAgICAgICAgIDxkaXYgY2xhc3M9ImZvbGl1bS1tYXAiIGlkPSJtYXBfMDRmNGUzNjc2ZTExNDc2OGFjOGViZWRmNWIwMjlhMGUiID48L2Rpdj4KICAgICAgICAKPC9ib2R5Pgo8c2NyaXB0PiAgICAKICAgIAogICAgICAgICAgICB2YXIgbWFwXzA0ZjRlMzY3NmUxMTQ3NjhhYzhlYmVkZjViMDI5YTBlID0gTC5tYXAoCiAgICAgICAgICAgICAgICAibWFwXzA0ZjRlMzY3NmUxMTQ3NjhhYzhlYmVkZjViMDI5YTBlIiwKICAgICAgICAgICAgICAgIHsKICAgICAgICAgICAgICAgICAgICBjZW50ZXI6IFs1NS43NTU4LCAzNy42MTczXSwKICAgICAgICAgICAgICAgICAgICBjcnM6IEwuQ1JTLkVQU0czODU3LAogICAgICAgICAgICAgICAgICAgIHpvb206IDEwLAogICAgICAgICAgICAgICAgICAgIHpvb21Db250cm9sOiB0cnVlLAogICAgICAgICAgICAgICAgICAgIHByZWZlckNhbnZhczogZmFsc2UsCiAgICAgICAgICAgICAgICB9CiAgICAgICAgICAgICk7CgogICAgICAgICAgICAKCiAgICAgICAgCiAgICAKICAgICAgICAgICAgdmFyIHRpbGVfbGF5ZXJfYzAwYTc0YzVhNGY0NDk5ZDhkMTkzM2U4ZTg3MTJmMDAgPSBMLnRpbGVMYXllcigKICAgICAgICAgICAgICAgICJodHRwczovL3tzfS50aWxlLm9wZW5zdHJlZXRtYXAub3JnL3t6fS97eH0ve3l9LnBuZyIsCiAgICAgICAgICAgICAgICB7ImF0dHJpYnV0aW9uIjogIkRhdGEgYnkgXHUwMDI2Y29weTsgXHUwMDNjYSBocmVmPVwiaHR0cDovL29wZW5zdHJlZXRtYXAub3JnXCJcdTAwM2VPcGVuU3RyZWV0TWFwXHUwMDNjL2FcdTAwM2UsIHVuZGVyIFx1MDAzY2EgaHJlZj1cImh0dHA6Ly93d3cub3BlbnN0cmVldG1hcC5vcmcvY29weXJpZ2h0XCJcdTAwM2VPRGJMXHUwMDNjL2FcdTAwM2UuIiwgImRldGVjdFJldGluYSI6IGZhbHNlLCAibWF4TmF0aXZlWm9vbSI6IDE4LCAibWF4Wm9vbSI6IDE4LCAibWluWm9vbSI6IDAsICJub1dyYXAiOiBmYWxzZSwgIm9wYWNpdHkiOiAxLCAic3ViZG9tYWlucyI6ICJhYmMiLCAidG1zIjogZmFsc2V9CiAgICAgICAgICAgICkuYWRkVG8obWFwXzA0ZjRlMzY3NmUxMTQ3NjhhYzhlYmVkZjViMDI5YTBlKTsKICAgICAgICAKICAgIAogICAgICAgICAgICB2YXIgY2lyY2xlXzRhMGZjZDc5MjlhNzQyNGM4YmIxNDdmNTlhMTc1NmJlID0gTC5jaXJjbGUoCiAgICAgICAgICAgICAgICBbNTUuNjk3NDQ1NCwgMzcuOTQyMjgxODQzNTUzN10sCiAgICAgICAgICAgICAgICB7ImJ1YmJsaW5nTW91c2VFdmVudHMiOiB0cnVlLCAiY29sb3IiOiAiY3JpbXNvbiIsICJkYXNoQXJyYXkiOiBudWxsLCAiZGFzaE9mZnNldCI6IG51bGwsICJmaWxsIjogdHJ1ZSwgImZpbGxDb2xvciI6ICJjcmltc29uIiwgImZpbGxPcGFjaXR5IjogMC4yLCAiZmlsbFJ1bGUiOiAiZXZlbm9kZCIsICJsaW5lQ2FwIjogInJvdW5kIiwgImxpbmVKb2luIjogInJvdW5kIiwgIm9wYWNpdHkiOiAxLjAsICJyYWRpdXMiOiA0NDg0LjMwNDkzMjczNTQyNiwgInN0cm9rZSI6IHRydWUsICJ3ZWlnaHQiOiAzfQogICAgICAgICAgICApLmFkZFRvKG1hcF8wNGY0ZTM2NzZlMTE0NzY4YWM4ZWJlZGY1YjAyOWEwZSk7CiAgICAgICAgCiAgICAKICAgICAgICB2YXIgcG9wdXBfNTQyZGExMmFmNWI4NDk2OGJjYjBjMzUzYjYyNGM5ZTEgPSBMLnBvcHVwKHsibWF4V2lkdGgiOiAiMTAwJSJ9KTsKCiAgICAgICAgCiAgICAgICAgICAgIHZhciBodG1sXzI1OTk3ODNiYjZmNDQzYzBhNTM2NGI0MmYyZWJmNGRmID0gJChgPGRpdiBpZD0iaHRtbF8yNTk5NzgzYmI2ZjQ0M2MwYTUzNjRiNDJmMmViZjRkZiIgc3R5bGU9IndpZHRoOiAxMDAuMCU7IGhlaWdodDogMTAwLjAlOyI+PHN0cm9uZz5OZWtyYXNvdmthPC9zdHJvbmc+ICgxNzEwIEhvbWUgU2FsZXMpPC9kaXY+YClbMF07CiAgICAgICAgICAgIHBvcHVwXzU0MmRhMTJhZjViODQ5NjhiY2IwYzM1M2I2MjRjOWUxLnNldENvbnRlbnQoaHRtbF8yNTk5NzgzYmI2ZjQ0M2MwYTUzNjRiNDJmMmViZjRkZik7CiAgICAgICAgCgogICAgICAgIGNpcmNsZV80YTBmY2Q3OTI5YTc0MjRjOGJiMTQ3ZjU5YTE3NTZiZS5iaW5kUG9wdXAocG9wdXBfNTQyZGExMmFmNWI4NDk2OGJjYjBjMzUzYjYyNGM5ZTEpCiAgICAgICAgOwoKICAgICAgICAKICAgIAogICAgCiAgICAgICAgICAgIHZhciBjaXJjbGVfZTA2MzI0ZjQ4MDZhNDAwMThjZGNjOTk0NWJmM2Q3ZWYgPSBMLmNpcmNsZSgKICAgICAgICAgICAgICAgIFs1NS44NDU0NTc0LCAzNy4zNjcwNjA4XSwKICAgICAgICAgICAgICAgIHsiYnViYmxpbmdNb3VzZUV2ZW50cyI6IHRydWUsICJjb2xvciI6ICJjcmltc29uIiwgImRhc2hBcnJheSI6IG51bGwsICJkYXNoT2Zmc2V0IjogbnVsbCwgImZpbGwiOiB0cnVlLCAiZmlsbENvbG9yIjogImNyaW1zb24iLCAiZmlsbE9wYWNpdHkiOiAwLjIsICJmaWxsUnVsZSI6ICJldmVub2RkIiwgImxpbmVDYXAiOiAicm91bmQiLCAibGluZUpvaW4iOiAicm91bmQiLCAib3BhY2l0eSI6IDEuMCwgInJhZGl1cyI6IDIyMzQuMjg1MjY0NzMxMzM1MiwgInN0cm9rZSI6IHRydWUsICJ3ZWlnaHQiOiAzfQogICAgICAgICAgICApLmFkZFRvKG1hcF8wNGY0ZTM2NzZlMTE0NzY4YWM4ZWJlZGY1YjAyOWEwZSk7CiAgICAgICAgCiAgICAKICAgICAgICB2YXIgcG9wdXBfZWM0ZDAyNDRhZjUxNDVjYTljNzIzNmM2YTE1YTIyNDIgPSBMLnBvcHVwKHsibWF4V2lkdGgiOiAiMTAwJSJ9KTsKCiAgICAgICAgCiAgICAgICAgICAgIHZhciBodG1sXzQxMzgyOTRhYjJkNTRhOGFiYjgwYmNkMDM2YjFlMTMyID0gJChgPGRpdiBpZD0iaHRtbF80MTM4Mjk0YWIyZDU0YThhYmI4MGJjZDAzNmIxZTEzMiIgc3R5bGU9IndpZHRoOiAxMDAuMCU7IGhlaWdodDogMTAwLjAlOyI+PHN0cm9uZz5NaXRpbm88L3N0cm9uZz4gKDg1MiBIb21lIFNhbGVzKTwvZGl2PmApWzBdOwogICAgICAgICAgICBwb3B1cF9lYzRkMDI0NGFmNTE0NWNhOWM3MjM2YzZhMTVhMjI0Mi5zZXRDb250ZW50KGh0bWxfNDEzODI5NGFiMmQ1NGE4YWJiODBiY2QwMzZiMWUxMzIpOwogICAgICAgIAoKICAgICAgICBjaXJjbGVfZTA2MzI0ZjQ4MDZhNDAwMThjZGNjOTk0NWJmM2Q3ZWYuYmluZFBvcHVwKHBvcHVwX2VjNGQwMjQ0YWY1MTQ1Y2E5YzcyMzZjNmExNWEyMjQyKQogICAgICAgIDsKCiAgICAgICAgCiAgICAKICAgIAogICAgICAgICAgICB2YXIgY2lyY2xlXzM4YzBmNmViNGY0ZjQwODM5YTUwNWY3NGNiNTEwYjcxID0gTC5jaXJjbGUoCiAgICAgICAgICAgICAgICBbNTUuNjQ5NzI1MywgMzcuMzkxMTEyNF0sCiAgICAgICAgICAgICAgICB7ImJ1YmJsaW5nTW91c2VFdmVudHMiOiB0cnVlLCAiY29sb3IiOiAiY3JpbXNvbiIsICJkYXNoQXJyYXkiOiBudWxsLCAiZGFzaE9mZnNldCI6IG51bGwsICJmaWxsIjogdHJ1ZSwgImZpbGxDb2xvciI6ICJjcmltc29uIiwgImZpbGxPcGFjaXR5IjogMC4yLCAiZmlsbFJ1bGUiOiAiZXZlbm9kZCIsICJsaW5lQ2FwIjogInJvdW5kIiwgImxpbmVKb2luIjogInJvdW5kIiwgIm9wYWNpdHkiOiAxLjAsICJyYWRpdXMiOiAxODUxLjQxNDc4NTA5NDI3NTIsICJzdHJva2UiOiB0cnVlLCAid2VpZ2h0IjogM30KICAgICAgICAgICAgKS5hZGRUbyhtYXBfMDRmNGUzNjc2ZTExNDc2OGFjOGViZWRmNWIwMjlhMGUpOwogICAgICAgIAogICAgCiAgICAgICAgdmFyIHBvcHVwX2ZjMTUxODYyYTIxYzRlMDhiNmNmZGQwMjZlZDNhOGRjID0gTC5wb3B1cCh7Im1heFdpZHRoIjogIjEwMCUifSk7CgogICAgICAgIAogICAgICAgICAgICB2YXIgaHRtbF9jNWRhZThhN2MwYTc0MDcyOTdlMjA0MzllNjdjN2IwMCA9ICQoYDxkaXYgaWQ9Imh0bWxfYzVkYWU4YTdjMGE3NDA3Mjk3ZTIwNDM5ZTY3YzdiMDAiIHN0eWxlPSJ3aWR0aDogMTAwLjAlOyBoZWlnaHQ6IDEwMC4wJTsiPjxzdHJvbmc+U29sbmNldm88L3N0cm9uZz4gKDcwNiBIb21lIFNhbGVzKTwvZGl2PmApWzBdOwogICAgICAgICAgICBwb3B1cF9mYzE1MTg2MmEyMWM0ZTA4YjZjZmRkMDI2ZWQzYThkYy5zZXRDb250ZW50KGh0bWxfYzVkYWU4YTdjMGE3NDA3Mjk3ZTIwNDM5ZTY3YzdiMDApOwogICAgICAgIAoKICAgICAgICBjaXJjbGVfMzhjMGY2ZWI0ZjRmNDA4MzlhNTA1Zjc0Y2I1MTBiNzEuYmluZFBvcHVwKHBvcHVwX2ZjMTUxODYyYTIxYzRlMDhiNmNmZGQwMjZlZDNhOGRjKQogICAgICAgIDsKCiAgICAgICAgCiAgICAKICAgIAogICAgICAgICAgICB2YXIgY2lyY2xlXzE3ZjYwNDJiMTgxNDQwODM4NjhhNTcxZDk2ZWM5YTE1ID0gTC5jaXJjbGUoCiAgICAgICAgICAgICAgICBbNTUuNjUwNzExLCAzNy43MzUzNzQzXSwKICAgICAgICAgICAgICAgIHsiYnViYmxpbmdNb3VzZUV2ZW50cyI6IHRydWUsICJjb2xvciI6ICJjcmltc29uIiwgImRhc2hBcnJheSI6IG51bGwsICJkYXNoT2Zmc2V0IjogbnVsbCwgImZpbGwiOiB0cnVlLCAiZmlsbENvbG9yIjogImNyaW1zb24iLCAiZmlsbE9wYWNpdHkiOiAwLjIsICJmaWxsUnVsZSI6ICJldmVub2RkIiwgImxpbmVDYXAiOiAicm91bmQiLCAibGluZUpvaW4iOiAicm91bmQiLCAib3BhY2l0eSI6IDEuMCwgInJhZGl1cyI6IDE2NTkuOTc5NTQ1Mjc1NzQ1MywgInN0cm9rZSI6IHRydWUsICJ3ZWlnaHQiOiAzfQogICAgICAgICAgICApLmFkZFRvKG1hcF8wNGY0ZTM2NzZlMTE0NzY4YWM4ZWJlZGY1YjAyOWEwZSk7CiAgICAgICAgCiAgICAKICAgICAgICB2YXIgcG9wdXBfNGU0NjJlZjRjZGM2NDU2NThhMDM1ZWI5OTk2MjdlNjMgPSBMLnBvcHVwKHsibWF4V2lkdGgiOiAiMTAwJSJ9KTsKCiAgICAgICAgCiAgICAgICAgICAgIHZhciBodG1sXzQ2ZmQ3ZGE5YmU0YTQ3OTNhNTUyODAzZGIwODdiZTFmID0gJChgPGRpdiBpZD0iaHRtbF80NmZkN2RhOWJlNGE0NzkzYTU1MjgwM2RiMDg3YmUxZiIgc3R5bGU9IndpZHRoOiAxMDAuMCU7IGhlaWdodDogMTAwLjAlOyI+PHN0cm9uZz5NYXInSW5vPC9zdHJvbmc+ICg2MzMgSG9tZSBTYWxlcyk8L2Rpdj5gKVswXTsKICAgICAgICAgICAgcG9wdXBfNGU0NjJlZjRjZGM2NDU2NThhMDM1ZWI5OTk2MjdlNjMuc2V0Q29udGVudChodG1sXzQ2ZmQ3ZGE5YmU0YTQ3OTNhNTUyODAzZGIwODdiZTFmKTsKICAgICAgICAKCiAgICAgICAgY2lyY2xlXzE3ZjYwNDJiMTgxNDQwODM4NjhhNTcxZDk2ZWM5YTE1LmJpbmRQb3B1cChwb3B1cF80ZTQ2MmVmNGNkYzY0NTY1OGEwMzVlYjk5OTYyN2U2MykKICAgICAgICA7CgogICAgICAgIAogICAgCiAgICAKICAgICAgICAgICAgdmFyIGNpcmNsZV80NjMzYmJjYjQ5NDY0ZTllOGI2Y2I3M2YxNGU3ZjQxMSA9IEwuY2lyY2xlKAogICAgICAgICAgICAgICAgWzU1Ljg3MzI2MDcsIDM3LjUxNjEzMTVdLAogICAgICAgICAgICAgICAgeyJidWJibGluZ01vdXNlRXZlbnRzIjogdHJ1ZSwgImNvbG9yIjogImNyaW1zb24iLCAiZGFzaEFycmF5IjogbnVsbCwgImRhc2hPZmZzZXQiOiBudWxsLCAiZmlsbCI6IHRydWUsICJmaWxsQ29sb3IiOiAiY3JpbXNvbiIsICJmaWxsT3BhY2l0eSI6IDAuMiwgImZpbGxSdWxlIjogImV2ZW5vZGQiLCAibGluZUNhcCI6ICJyb3VuZCIsICJsaW5lSm9pbiI6ICJyb3VuZCIsICJvcGFjaXR5IjogMS4wLCAicmFkaXVzIjogMTQ1OC4wNTQ3MDMyNzUzNzg0LCAic3Ryb2tlIjogdHJ1ZSwgIndlaWdodCI6IDN9CiAgICAgICAgICAgICkuYWRkVG8obWFwXzA0ZjRlMzY3NmUxMTQ3NjhhYzhlYmVkZjViMDI5YTBlKTsKICAgICAgICAKICAgIAogICAgICAgIHZhciBwb3B1cF9hYjI1MjM3YWE2ZDA0YzhkOWYxN2U3YTg4MjY3ZmQwZiA9IEwucG9wdXAoeyJtYXhXaWR0aCI6ICIxMDAlIn0pOwoKICAgICAgICAKICAgICAgICAgICAgdmFyIGh0bWxfNWExNTcwZGZiZDEwNDgyYTkyZWQ2MmY0MzE5ZjNjOWQgPSAkKGA8ZGl2IGlkPSJodG1sXzVhMTU3MGRmYmQxMDQ4MmE5MmVkNjJmNDMxOWYzYzlkIiBzdHlsZT0id2lkdGg6IDEwMC4wJTsgaGVpZ2h0OiAxMDAuMCU7Ij48c3Ryb25nPlphcGFkbm9lIERlZ3VuaW5vPC9zdHJvbmc+ICg1NTYgSG9tZSBTYWxlcyk8L2Rpdj5gKVswXTsKICAgICAgICAgICAgcG9wdXBfYWIyNTIzN2FhNmQwNGM4ZDlmMTdlN2E4ODI2N2ZkMGYuc2V0Q29udGVudChodG1sXzVhMTU3MGRmYmQxMDQ4MmE5MmVkNjJmNDMxOWYzYzlkKTsKICAgICAgICAKCiAgICAgICAgY2lyY2xlXzQ2MzNiYmNiNDk0NjRlOWU4YjZjYjczZjE0ZTdmNDExLmJpbmRQb3B1cChwb3B1cF9hYjI1MjM3YWE2ZDA0YzhkOWYxN2U3YTg4MjY3ZmQwZikKICAgICAgICA7CgogICAgICAgIAogICAgCiAgICAKICAgICAgICAgICAgdmFyIGNpcmNsZV9iYzc1NDM2NGJhYzY0MTJjOGI2NjdhNGI3NjI1YjYzNiA9IEwuY2lyY2xlKAogICAgICAgICAgICAgICAgWzU1Ljg2MzI4NzEsIDM3LjYyMTY3ODFdLAogICAgICAgICAgICAgICAgeyJidWJibGluZ01vdXNlRXZlbnRzIjogdHJ1ZSwgImNvbG9yIjogImNyaW1zb24iLCAiZGFzaEFycmF5IjogbnVsbCwgImRhc2hPZmZzZXQiOiBudWxsLCAiZmlsbCI6IHRydWUsICJmaWxsQ29sb3IiOiAiY3JpbXNvbiIsICJmaWxsT3BhY2l0eSI6IDAuMiwgImZpbGxSdWxlIjogImV2ZW5vZGQiLCAibGluZUNhcCI6ICJyb3VuZCIsICJsaW5lSm9pbiI6ICJyb3VuZCIsICJvcGFjaXR5IjogMS4wLCAicmFkaXVzIjogMTE4MC4wODAyNDU0NTY2OTEsICJzdHJva2UiOiB0cnVlLCAid2VpZ2h0IjogM30KICAgICAgICAgICAgKS5hZGRUbyhtYXBfMDRmNGUzNjc2ZTExNDc2OGFjOGViZWRmNWIwMjlhMGUpOwogICAgICAgIAogICAgCiAgICAgICAgdmFyIHBvcHVwX2YyYTFlZWQzYmFiZjQwYmFhYzcwNWJjYWViYjFmYmY2ID0gTC5wb3B1cCh7Im1heFdpZHRoIjogIjEwMCUifSk7CgogICAgICAgIAogICAgICAgICAgICB2YXIgaHRtbF8zN2U1YmQ4YTA1MDU0YjcwYWI4YzcwMjI0OWQ3NjkzNSA9ICQoYDxkaXYgaWQ9Imh0bWxfMzdlNWJkOGEwNTA1NGI3MGFiOGM3MDIyNDlkNzY5MzUiIHN0eWxlPSJ3aWR0aDogMTAwLjAlOyBoZWlnaHQ6IDEwMC4wJTsiPjxzdHJvbmc+T3RyYWRub2U8L3N0cm9uZz4gKDQ1MCBIb21lIFNhbGVzKTwvZGl2PmApWzBdOwogICAgICAgICAgICBwb3B1cF9mMmExZWVkM2JhYmY0MGJhYWM3MDViY2FlYmIxZmJmNi5zZXRDb250ZW50KGh0bWxfMzdlNWJkOGEwNTA1NGI3MGFiOGM3MDIyNDlkNzY5MzUpOwogICAgICAgIAoKICAgICAgICBjaXJjbGVfYmM3NTQzNjRiYWM2NDEyYzhiNjY3YTRiNzYyNWI2MzYuYmluZFBvcHVwKHBvcHVwX2YyYTFlZWQzYmFiZjQwYmFhYzcwNWJjYWViYjFmYmY2KQogICAgICAgIDsKCiAgICAgICAgCiAgICAKICAgIAogICAgICAgICAgICB2YXIgY2lyY2xlXzk2YTAyYzFlNmYwZjRmNTU5OTExZmQyNTcyM2U1NDYyID0gTC5jaXJjbGUoCiAgICAgICAgICAgICAgICBbNTUuMTU2NDQzNywgMzkuNDcyODUzOV0sCiAgICAgICAgICAgICAgICB7ImJ1YmJsaW5nTW91c2VFdmVudHMiOiB0cnVlLCAiY29sb3IiOiAiY3JpbXNvbiIsICJkYXNoQXJyYXkiOiBudWxsLCAiZGFzaE9mZnNldCI6IG51bGwsICJmaWxsIjogdHJ1ZSwgImZpbGxDb2xvciI6ICJjcmltc29uIiwgImZpbGxPcGFjaXR5IjogMC4yLCAiZmlsbFJ1bGUiOiAiZXZlbm9kZCIsICJsaW5lQ2FwIjogInJvdW5kIiwgImxpbmVKb2luIjogInJvdW5kIiwgIm9wYWNpdHkiOiAxLjAsICJyYWRpdXMiOiA5ODguNjQ1MDA1NjM4MTYxMSwgInN0cm9rZSI6IHRydWUsICJ3ZWlnaHQiOiAzfQogICAgICAgICAgICApLmFkZFRvKG1hcF8wNGY0ZTM2NzZlMTE0NzY4YWM4ZWJlZGY1YjAyOWEwZSk7CiAgICAgICAgCiAgICAKICAgICAgICB2YXIgcG9wdXBfNmI5ZDBhYmJjYmM3NGZhMmJkNzM0MTk3ZjgwZDE0MzYgPSBMLnBvcHVwKHsibWF4V2lkdGgiOiAiMTAwJSJ9KTsKCiAgICAgICAgCiAgICAgICAgICAgIHZhciBodG1sX2E4ODgwZDg2ODkzZTQ3MjVhYTU0MDIxOWE3YzY0MmE0ID0gJChgPGRpdiBpZD0iaHRtbF9hODg4MGQ4Njg5M2U0NzI1YWE1NDAyMTlhN2M2NDJhNCIgc3R5bGU9IndpZHRoOiAxMDAuMCU7IGhlaWdodDogMTAwLjAlOyI+PHN0cm9uZz5OYWdvcm5vZTwvc3Ryb25nPiAoMzc3IEhvbWUgU2FsZXMpPC9kaXY+YClbMF07CiAgICAgICAgICAgIHBvcHVwXzZiOWQwYWJiY2JjNzRmYTJiZDczNDE5N2Y4MGQxNDM2LnNldENvbnRlbnQoaHRtbF9hODg4MGQ4Njg5M2U0NzI1YWE1NDAyMTlhN2M2NDJhNCk7CiAgICAgICAgCgogICAgICAgIGNpcmNsZV85NmEwMmMxZTZmMGY0ZjU1OTkxMWZkMjU3MjNlNTQ2Mi5iaW5kUG9wdXAocG9wdXBfNmI5ZDBhYmJjYmM3NGZhMmJkNzM0MTk3ZjgwZDE0MzYpCiAgICAgICAgOwoKICAgICAgICAKICAgIAogICAgCiAgICAgICAgICAgIHZhciBjaXJjbGVfNjZhYWY4Zjk1OTBiNGQ4OTk2YzA3NDczZGYyMDhlNzggPSBMLmNpcmNsZSgKICAgICAgICAgICAgICAgIFs1NS42NzU2Mzc2LCAzNy43NjE4MDU4XSwKICAgICAgICAgICAgICAgIHsiYnViYmxpbmdNb3VzZUV2ZW50cyI6IHRydWUsICJjb2xvciI6ICJjcmltc29uIiwgImRhc2hBcnJheSI6IG51bGwsICJkYXNoT2Zmc2V0IjogbnVsbCwgImZpbGwiOiB0cnVlLCAiZmlsbENvbG9yIjogImNyaW1zb24iLCAiZmlsbE9wYWNpdHkiOiAwLjIsICJmaWxsUnVsZSI6ICJldmVub2RkIiwgImxpbmVDYXAiOiAicm91bmQiLCAibGluZUpvaW4iOiAicm91bmQiLCAib3BhY2l0eSI6IDEuMCwgInJhZGl1cyI6IDk2Ny42NjU4MDEyNzQ0ODY3LCAic3Ryb2tlIjogdHJ1ZSwgIndlaWdodCI6IDN9CiAgICAgICAgICAgICkuYWRkVG8obWFwXzA0ZjRlMzY3NmUxMTQ3NjhhYzhlYmVkZjViMDI5YTBlKTsKICAgICAgICAKICAgIAogICAgICAgIHZhciBwb3B1cF82MmJjN2ZjM2ZmNTM0ZjFiODUwNmU0MDljY2MyMTFiYiA9IEwucG9wdXAoeyJtYXhXaWR0aCI6ICIxMDAlIn0pOwoKICAgICAgICAKICAgICAgICAgICAgdmFyIGh0bWxfN2U0NGFmN2MzNmQ3NDRiNjg1NDUyMTViMjVhMWI4YmYgPSAkKGA8ZGl2IGlkPSJodG1sXzdlNDRhZjdjMzZkNzQ0YjY4NTQ1MjE1YjI1YTFiOGJmIiBzdHlsZT0id2lkdGg6IDEwMC4wJTsgaGVpZ2h0OiAxMDAuMCU7Ij48c3Ryb25nPkxqdWJsaW5vPC9zdHJvbmc+ICgzNjkgSG9tZSBTYWxlcyk8L2Rpdj5gKVswXTsKICAgICAgICAgICAgcG9wdXBfNjJiYzdmYzNmZjUzNGYxYjg1MDZlNDA5Y2NjMjExYmIuc2V0Q29udGVudChodG1sXzdlNDRhZjdjMzZkNzQ0YjY4NTQ1MjE1YjI1YTFiOGJmKTsKICAgICAgICAKCiAgICAgICAgY2lyY2xlXzY2YWFmOGY5NTkwYjRkODk5NmMwNzQ3M2RmMjA4ZTc4LmJpbmRQb3B1cChwb3B1cF82MmJjN2ZjM2ZmNTM0ZjFiODUwNmU0MDljY2MyMTFiYikKICAgICAgICA7CgogICAgICAgIAogICAgCiAgICAKICAgICAgICAgICAgdmFyIGNpcmNsZV9mZGFkOGMzNzQxZmI0N2E2OGJlMDEwNDMwMDJiMWFkZSA9IEwuY2lyY2xlKAogICAgICAgICAgICAgICAgWzU2LjQ5MzkwNjIsIDM4LjE4MjU1NzJdLAogICAgICAgICAgICAgICAgeyJidWJibGluZ01vdXNlRXZlbnRzIjogdHJ1ZSwgImNvbG9yIjogImNyaW1zb24iLCAiZGFzaEFycmF5IjogbnVsbCwgImRhc2hPZmZzZXQiOiBudWxsLCAiZmlsbCI6IHRydWUsICJmaWxsQ29sb3IiOiAiY3JpbXNvbiIsICJmaWxsT3BhY2l0eSI6IDAuMiwgImZpbGxSdWxlIjogImV2ZW5vZGQiLCAibGluZUNhcCI6ICJyb3VuZCIsICJsaW5lSm9pbiI6ICJyb3VuZCIsICJvcGFjaXR5IjogMS4wLCAicmFkaXVzIjogOTUxLjkzMTM5ODAwMTczMDgsICJzdHJva2UiOiB0cnVlLCAid2VpZ2h0IjogM30KICAgICAgICAgICAgKS5hZGRUbyhtYXBfMDRmNGUzNjc2ZTExNDc2OGFjOGViZWRmNWIwMjlhMGUpOwogICAgICAgIAogICAgCiAgICAgICAgdmFyIHBvcHVwXzYyNWMwMDY4NGYwNDRiYTBhZGM0Y2VmYWYwMzcyZjQ2ID0gTC5wb3B1cCh7Im1heFdpZHRoIjogIjEwMCUifSk7CgogICAgICAgIAogICAgICAgICAgICB2YXIgaHRtbF9iZTgxMmM0OTU2Mjc0N2U0YjE0ZTQ1MmZiNjIwOWQ1YiA9ICQoYDxkaXYgaWQ9Imh0bWxfYmU4MTJjNDk1NjI3NDdlNGIxNGU0NTJmYjYyMDlkNWIiIHN0eWxlPSJ3aWR0aDogMTAwLjAlOyBoZWlnaHQ6IDEwMC4wJTsiPjxzdHJvbmc+Qm9nb3JvZHNrb2U8L3N0cm9uZz4gKDM2MyBIb21lIFNhbGVzKTwvZGl2PmApWzBdOwogICAgICAgICAgICBwb3B1cF82MjVjMDA2ODRmMDQ0YmEwYWRjNGNlZmFmMDM3MmY0Ni5zZXRDb250ZW50KGh0bWxfYmU4MTJjNDk1NjI3NDdlNGIxNGU0NTJmYjYyMDlkNWIpOwogICAgICAgIAoKICAgICAgICBjaXJjbGVfZmRhZDhjMzc0MWZiNDdhNjhiZTAxMDQzMDAyYjFhZGUuYmluZFBvcHVwKHBvcHVwXzYyNWMwMDY4NGYwNDRiYTBhZGM0Y2VmYWYwMzcyZjQ2KQogICAgICAgIDsKCiAgICAgICAgCiAgICAKICAgIAogICAgICAgICAgICB2YXIgY2lyY2xlXzY1MDFmZTA1NmE5ZDQ5ZTZhMjM1OTg5OTdhNGEzYzBiID0gTC5jaXJjbGUoCiAgICAgICAgICAgICAgICBbNTUuODAxMzM1MSwgMzcuNDAzMDUyNV0sCiAgICAgICAgICAgICAgICB7ImJ1YmJsaW5nTW91c2VFdmVudHMiOiB0cnVlLCAiY29sb3IiOiAiY3JpbXNvbiIsICJkYXNoQXJyYXkiOiBudWxsLCAiZGFzaE9mZnNldCI6IG51bGwsICJmaWxsIjogdHJ1ZSwgImZpbGxDb2xvciI6ICJjcmltc29uIiwgImZpbGxPcGFjaXR5IjogMC4yLCAiZmlsbFJ1bGUiOiAiZXZlbm9kZCIsICJsaW5lQ2FwIjogInJvdW5kIiwgImxpbmVKb2luIjogInJvdW5kIiwgIm9wYWNpdHkiOiAxLjAsICJyYWRpdXMiOiA5MjUuNzA3MzkyNTQ3MTM3NiwgInN0cm9rZSI6IHRydWUsICJ3ZWlnaHQiOiAzfQogICAgICAgICAgICApLmFkZFRvKG1hcF8wNGY0ZTM2NzZlMTE0NzY4YWM4ZWJlZGY1YjAyOWEwZSk7CiAgICAgICAgCiAgICAKICAgICAgICB2YXIgcG9wdXBfZjlhODdkMDQzMmUxNGNkMTk3YjUwNzljZjY2MmFiN2IgPSBMLnBvcHVwKHsibWF4V2lkdGgiOiAiMTAwJSJ9KTsKCiAgICAgICAgCiAgICAgICAgICAgIHZhciBodG1sXzUwZjZiNTk1YWZkNTQ0Mzk5MzkzOWI0NWVkOGQ4NzQwID0gJChgPGRpdiBpZD0iaHRtbF81MGY2YjU5NWFmZDU0NDM5OTM5MzliNDVlZDhkODc0MCIgc3R5bGU9IndpZHRoOiAxMDAuMCU7IGhlaWdodDogMTAwLjAlOyI+PHN0cm9uZz5TdHJvZ2lubzwvc3Ryb25nPiAoMzUzIEhvbWUgU2FsZXMpPC9kaXY+YClbMF07CiAgICAgICAgICAgIHBvcHVwX2Y5YTg3ZDA0MzJlMTRjZDE5N2I1MDc5Y2Y2NjJhYjdiLnNldENvbnRlbnQoaHRtbF81MGY2YjU5NWFmZDU0NDM5OTM5MzliNDVlZDhkODc0MCk7CiAgICAgICAgCgogICAgICAgIGNpcmNsZV82NTAxZmUwNTZhOWQ0OWU2YTIzNTk4OTk3YTRhM2MwYi5iaW5kUG9wdXAocG9wdXBfZjlhODdkMDQzMmUxNGNkMTk3YjUwNzljZjY2MmFiN2IpCiAgICAgICAgOwoKICAgICAgICAKICAgIAogICAgCiAgICAgICAgICAgIHZhciBjaXJjbGVfMWI0NGJiYzExYTJlNDRiZWE1MzEzZGZlZWE5YWEyY2EgPSBMLmNpcmNsZSgKICAgICAgICAgICAgICAgIFs1NS43OTQzMjE0LCAzNy43NTA1MjQ4MjM4MDUyXSwKICAgICAgICAgICAgICAgIHsiYnViYmxpbmdNb3VzZUV2ZW50cyI6IHRydWUsICJjb2xvciI6ICJjcmltc29uIiwgImRhc2hBcnJheSI6IG51bGwsICJkYXNoT2Zmc2V0IjogbnVsbCwgImZpbGwiOiB0cnVlLCAiZmlsbENvbG9yIjogImNyaW1zb24iLCAiZmlsbE9wYWNpdHkiOiAwLjIsICJmaWxsUnVsZSI6ICJldmVub2RkIiwgImxpbmVDYXAiOiAicm91bmQiLCAibGluZUpvaW4iOiAicm91bmQiLCAib3BhY2l0eSI6IDEuMCwgInJhZGl1cyI6IDkyMC40NjI1OTE0NTYyMTkxLCAic3Ryb2tlIjogdHJ1ZSwgIndlaWdodCI6IDN9CiAgICAgICAgICAgICkuYWRkVG8obWFwXzA0ZjRlMzY3NmUxMTQ3NjhhYzhlYmVkZjViMDI5YTBlKTsKICAgICAgICAKICAgIAogICAgICAgIHZhciBwb3B1cF9hZTRiYjE4YWMzODk0ZjliYThhNDcyZTY3NmE5ZDM4OSA9IEwucG9wdXAoeyJtYXhXaWR0aCI6ICIxMDAlIn0pOwoKICAgICAgICAKICAgICAgICAgICAgdmFyIGh0bWxfYjk1MmJmOTIyNmVhNDcxMDhmOTNiMGY5NTQ5YWRhMjIgPSAkKGA8ZGl2IGlkPSJodG1sX2I5NTJiZjkyMjZlYTQ3MTA4ZjkzYjBmOTU0OWFkYTIyIiBzdHlsZT0id2lkdGg6IDEwMC4wJTsgaGVpZ2h0OiAxMDAuMCU7Ij48c3Ryb25nPkl6bWFqbG92bzwvc3Ryb25nPiAoMzUxIEhvbWUgU2FsZXMpPC9kaXY+YClbMF07CiAgICAgICAgICAgIHBvcHVwX2FlNGJiMThhYzM4OTRmOWJhOGE0NzJlNjc2YTlkMzg5LnNldENvbnRlbnQoaHRtbF9iOTUyYmY5MjI2ZWE0NzEwOGY5M2IwZjk1NDlhZGEyMik7CiAgICAgICAgCgogICAgICAgIGNpcmNsZV8xYjQ0YmJjMTFhMmU0NGJlYTUzMTNkZmVlYTlhYTJjYS5iaW5kUG9wdXAocG9wdXBfYWU0YmIxOGFjMzg5NGY5YmE4YTQ3MmU2NzZhOWQzODkpCiAgICAgICAgOwoKICAgICAgICAKICAgIAogICAgCiAgICAgICAgICAgIHZhciBjaXJjbGVfN2Y5N2IyMTY0MzBjNDQxYjg4ZDEwNzBjOTFkYWEwZmIgPSBMLmNpcmNsZSgKICAgICAgICAgICAgICAgIFs1NS44NjMyMjQ1LCAzNy40Mjc5MzczXSwKICAgICAgICAgICAgICAgIHsiYnViYmxpbmdNb3VzZUV2ZW50cyI6IHRydWUsICJjb2xvciI6ICJjcmltc29uIiwgImRhc2hBcnJheSI6IG51bGwsICJkYXNoT2Zmc2V0IjogbnVsbCwgImZpbGwiOiB0cnVlLCAiZmlsbENvbG9yIjogImNyaW1zb24iLCAiZmlsbE9wYWNpdHkiOiAwLjIsICJmaWxsUnVsZSI6ICJldmVub2RkIiwgImxpbmVDYXAiOiAicm91bmQiLCAibGluZUpvaW4iOiAicm91bmQiLCAib3BhY2l0eSI6IDEuMCwgInJhZGl1cyI6IDg4My43NDg5ODM4MTk3ODg3LCAic3Ryb2tlIjogdHJ1ZSwgIndlaWdodCI6IDN9CiAgICAgICAgICAgICkuYWRkVG8obWFwXzA0ZjRlMzY3NmUxMTQ3NjhhYzhlYmVkZjViMDI5YTBlKTsKICAgICAgICAKICAgIAogICAgICAgIHZhciBwb3B1cF9mMmIyNTY2YzAyNjU0ZDg2OGU3MWJmYTY0OTI3ZTY5NiA9IEwucG9wdXAoeyJtYXhXaWR0aCI6ICIxMDAlIn0pOwoKICAgICAgICAKICAgICAgICAgICAgdmFyIGh0bWxfOTIwNDk2NDkxNGY3NDlmMjhlZWUzNDk5ZWNlMzdjZjYgPSAkKGA8ZGl2IGlkPSJodG1sXzkyMDQ5NjQ5MTRmNzQ5ZjI4ZWVlMzQ5OWVjZTM3Y2Y2IiBzdHlsZT0id2lkdGg6IDEwMC4wJTsgaGVpZ2h0OiAxMDAuMCU7Ij48c3Ryb25nPlNldmVybm9lIFR1c2hpbm88L3N0cm9uZz4gKDMzNyBIb21lIFNhbGVzKTwvZGl2PmApWzBdOwogICAgICAgICAgICBwb3B1cF9mMmIyNTY2YzAyNjU0ZDg2OGU3MWJmYTY0OTI3ZTY5Ni5zZXRDb250ZW50KGh0bWxfOTIwNDk2NDkxNGY3NDlmMjhlZWUzNDk5ZWNlMzdjZjYpOwogICAgICAgIAoKICAgICAgICBjaXJjbGVfN2Y5N2IyMTY0MzBjNDQxYjg4ZDEwNzBjOTFkYWEwZmIuYmluZFBvcHVwKHBvcHVwX2YyYjI1NjZjMDI2NTRkODY4ZTcxYmZhNjQ5MjdlNjk2KQogICAgICAgIDsKCiAgICAgICAgCiAgICAKICAgIAogICAgICAgICAgICB2YXIgY2lyY2xlXzI2ZmU2YmEwYjQ2ZjQ0YjA5NTk5ZjQ5MzYwZDM5NzAyID0gTC5jaXJjbGUoCiAgICAgICAgICAgICAgICBbNTUuNzE1NjI4NiwgMzcuODE3OTE0NV0sCiAgICAgICAgICAgICAgICB7ImJ1YmJsaW5nTW91c2VFdmVudHMiOiB0cnVlLCAiY29sb3IiOiAiY3JpbXNvbiIsICJkYXNoQXJyYXkiOiBudWxsLCAiZGFzaE9mZnNldCI6IG51bGwsICJmaWxsIjogdHJ1ZSwgImZpbGxDb2xvciI6ICJjcmltc29uIiwgImZpbGxPcGFjaXR5IjogMC4yLCAiZmlsbFJ1bGUiOiAiZXZlbm9kZCIsICJsaW5lQ2FwIjogInJvdW5kIiwgImxpbmVKb2luIjogInJvdW5kIiwgIm9wYWNpdHkiOiAxLjAsICJyYWRpdXMiOiA4NjguMDE0NTgwNTQ3MDMyOCwgInN0cm9rZSI6IHRydWUsICJ3ZWlnaHQiOiAzfQogICAgICAgICAgICApLmFkZFRvKG1hcF8wNGY0ZTM2NzZlMTE0NzY4YWM4ZWJlZGY1YjAyOWEwZSk7CiAgICAgICAgCiAgICAKICAgICAgICB2YXIgcG9wdXBfNDU3MjExNmVhZjNiNDdiZDg5NWE5OGJkYTU0NmU0ZTYgPSBMLnBvcHVwKHsibWF4V2lkdGgiOiAiMTAwJSJ9KTsKCiAgICAgICAgCiAgICAgICAgICAgIHZhciBodG1sXzgyY2JiZDMyYzkxNDQ4YzVhNGNhOGU2Y2RhODRkZjM2ID0gJChgPGRpdiBpZD0iaHRtbF84MmNiYmQzMmM5MTQ0OGM1YTRjYThlNmNkYTg0ZGYzNiIgc3R5bGU9IndpZHRoOiAxMDAuMCU7IGhlaWdodDogMTAwLjAlOyI+PHN0cm9uZz5WeWhpbm8tWmh1bGViaW5vPC9zdHJvbmc+ICgzMzEgSG9tZSBTYWxlcyk8L2Rpdj5gKVswXTsKICAgICAgICAgICAgcG9wdXBfNDU3MjExNmVhZjNiNDdiZDg5NWE5OGJkYTU0NmU0ZTYuc2V0Q29udGVudChodG1sXzgyY2JiZDMyYzkxNDQ4YzVhNGNhOGU2Y2RhODRkZjM2KTsKICAgICAgICAKCiAgICAgICAgY2lyY2xlXzI2ZmU2YmEwYjQ2ZjQ0YjA5NTk5ZjQ5MzYwZDM5NzAyLmJpbmRQb3B1cChwb3B1cF80NTcyMTE2ZWFmM2I0N2JkODk1YTk4YmRhNTQ2ZTRlNikKICAgICAgICA7CgogICAgICAgIAogICAgCiAgICAKICAgICAgICAgICAgdmFyIGNpcmNsZV82OWUzMjNmYjhiMDc0MTQzYmIzMzVjOTlhMjYxMzEyYyA9IEwuY2lyY2xlKAogICAgICAgICAgICAgICAgWzU1LjgzNzMzNTMsIDM3LjUwMzg0NjZdLAogICAgICAgICAgICAgICAgeyJidWJibGluZ01vdXNlRXZlbnRzIjogdHJ1ZSwgImNvbG9yIjogImNyaW1zb24iLCAiZGFzaEFycmF5IjogbnVsbCwgImRhc2hPZmZzZXQiOiBudWxsLCAiZmlsbCI6IHRydWUsICJmaWxsQ29sb3IiOiAiY3JpbXNvbiIsICJmaWxsT3BhY2l0eSI6IDAuMiwgImZpbGxSdWxlIjogImV2ZW5vZGQiLCAibGluZUNhcCI6ICJyb3VuZCIsICJsaW5lSm9pbiI6ICJyb3VuZCIsICJvcGFjaXR5IjogMS4wLCAicmFkaXVzIjogODMzLjkyMzM3MzQ1NjA2MTcsICJzdHJva2UiOiB0cnVlLCAid2VpZ2h0IjogM30KICAgICAgICAgICAgKS5hZGRUbyhtYXBfMDRmNGUzNjc2ZTExNDc2OGFjOGViZWRmNWIwMjlhMGUpOwogICAgICAgIAogICAgCiAgICAgICAgdmFyIHBvcHVwXzJhMjNmZTFjMWVkODQ2NTk5MThjMmFlOTAzYTQwYzE5ID0gTC5wb3B1cCh7Im1heFdpZHRoIjogIjEwMCUifSk7CgogICAgICAgIAogICAgICAgICAgICB2YXIgaHRtbF83OWQ3YTlmOTA2YjE0MGE3ODhiOTU0ZjBiMTZmY2E3OCA9ICQoYDxkaXYgaWQ9Imh0bWxfNzlkN2E5ZjkwNmIxNDBhNzg4Yjk1NGYwYjE2ZmNhNzgiIHN0eWxlPSJ3aWR0aDogMTAwLjAlOyBoZWlnaHQ6IDEwMC4wJTsiPjxzdHJvbmc+R29sb3ZpbnNrb2U8L3N0cm9uZz4gKDMxOCBIb21lIFNhbGVzKTwvZGl2PmApWzBdOwogICAgICAgICAgICBwb3B1cF8yYTIzZmUxYzFlZDg0NjU5OTE4YzJhZTkwM2E0MGMxOS5zZXRDb250ZW50KGh0bWxfNzlkN2E5ZjkwNmIxNDBhNzg4Yjk1NGYwYjE2ZmNhNzgpOwogICAgICAgIAoKICAgICAgICBjaXJjbGVfNjllMzIzZmI4YjA3NDE0M2JiMzM1Yzk5YTI2MTMxMmMuYmluZFBvcHVwKHBvcHVwXzJhMjNmZTFjMWVkODQ2NTk5MThjMmFlOTAzYTQwYzE5KQogICAgICAgIDsKCiAgICAgICAgCiAgICAKICAgIAogICAgICAgICAgICB2YXIgY2lyY2xlXzIzMGJjZTA2Y2M3NTQ4MWU4MmRmNDZiOGM5ZWM2ODNhID0gTC5jaXJjbGUoCiAgICAgICAgICAgICAgICBbNTUuNjUzMTQxOCwgMzcuNTg2NzQ2NF0sCiAgICAgICAgICAgICAgICB7ImJ1YmJsaW5nTW91c2VFdmVudHMiOiB0cnVlLCAiY29sb3IiOiAiY3JpbXNvbiIsICJkYXNoQXJyYXkiOiBudWxsLCAiZGFzaE9mZnNldCI6IG51bGwsICJmaWxsIjogdHJ1ZSwgImZpbGxDb2xvciI6ICJjcmltc29uIiwgImZpbGxPcGFjaXR5IjogMC4yLCAiZmlsbFJ1bGUiOiAiZXZlbm9kZCIsICJsaW5lQ2FwIjogInJvdW5kIiwgImxpbmVKb2luIjogInJvdW5kIiwgIm9wYWNpdHkiOiAxLjAsICJyYWRpdXMiOiA4MzMuOTIzMzczNDU2MDYxNywgInN0cm9rZSI6IHRydWUsICJ3ZWlnaHQiOiAzfQogICAgICAgICAgICApLmFkZFRvKG1hcF8wNGY0ZTM2NzZlMTE0NzY4YWM4ZWJlZGY1YjAyOWEwZSk7CiAgICAgICAgCiAgICAKICAgICAgICB2YXIgcG9wdXBfZjAwODVkZGM5MjkwNGNlMmFkNjRiZDliNTUyYWM4OWIgPSBMLnBvcHVwKHsibWF4V2lkdGgiOiAiMTAwJSJ9KTsKCiAgICAgICAgCiAgICAgICAgICAgIHZhciBodG1sXzUwNjk3NmZjMjc3YTQyYjVhZjM2YTFiZmExYzc5YmIwID0gJChgPGRpdiBpZD0iaHRtbF81MDY5NzZmYzI3N2E0MmI1YWYzNmExYmZhMWM3OWJiMCIgc3R5bGU9IndpZHRoOiAxMDAuMCU7IGhlaWdodDogMTAwLjAlOyI+PHN0cm9uZz5aanV6aW5vPC9zdHJvbmc+ICgzMTggSG9tZSBTYWxlcyk8L2Rpdj5gKVswXTsKICAgICAgICAgICAgcG9wdXBfZjAwODVkZGM5MjkwNGNlMmFkNjRiZDliNTUyYWM4OWIuc2V0Q29udGVudChodG1sXzUwNjk3NmZjMjc3YTQyYjVhZjM2YTFiZmExYzc5YmIwKTsKICAgICAgICAKCiAgICAgICAgY2lyY2xlXzIzMGJjZTA2Y2M3NTQ4MWU4MmRmNDZiOGM5ZWM2ODNhLmJpbmRQb3B1cChwb3B1cF9mMDA4NWRkYzkyOTA0Y2UyYWQ2NGJkOWI1NTJhYzg5YikKICAgICAgICA7CgogICAgICAgIAogICAgCiAgICAKICAgICAgICAgICAgdmFyIGNpcmNsZV8yY2RmZDllY2NmZDE0MGFjYWFlOTQwYzU3MjUzMjU2ZiA9IEwuY2lyY2xlKAogICAgICAgICAgICAgICAgWzU1LjYwNjIwNjksIDM3LjUzMzcxNzNdLAogICAgICAgICAgICAgICAgeyJidWJibGluZ01vdXNlRXZlbnRzIjogdHJ1ZSwgImNvbG9yIjogImNyaW1zb24iLCAiZGFzaEFycmF5IjogbnVsbCwgImRhc2hPZmZzZXQiOiBudWxsLCAiZmlsbCI6IHRydWUsICJmaWxsQ29sb3IiOiAiY3JpbXNvbiIsICJmaWxsT3BhY2l0eSI6IDAuMiwgImZpbGxSdWxlIjogImV2ZW5vZGQiLCAibGluZUNhcCI6ICJyb3VuZCIsICJsaW5lSm9pbiI6ICJyb3VuZCIsICJvcGFjaXR5IjogMS4wLCAicmFkaXVzIjogODA1LjA3Njk2NzQ1NjAwOTIsICJzdHJva2UiOiB0cnVlLCAid2VpZ2h0IjogM30KICAgICAgICAgICAgKS5hZGRUbyhtYXBfMDRmNGUzNjc2ZTExNDc2OGFjOGViZWRmNWIwMjlhMGUpOwogICAgICAgIAogICAgCiAgICAgICAgdmFyIHBvcHVwX2Q3NzJjODgzOTY5MjQ3MzM4OTk3NWJkMzk4OWU4Y2M2ID0gTC5wb3B1cCh7Im1heFdpZHRoIjogIjEwMCUifSk7CgogICAgICAgIAogICAgICAgICAgICB2YXIgaHRtbF8wNGNlYWM2YTA5NzQ0ODMyYmE5NzIyM2MzZDE1YmMyOSA9ICQoYDxkaXYgaWQ9Imh0bWxfMDRjZWFjNmEwOTc0NDgzMmJhOTcyMjNjM2QxNWJjMjkiIHN0eWxlPSJ3aWR0aDogMTAwLjAlOyBoZWlnaHQ6IDEwMC4wJTsiPjxzdHJvbmc+SmFzZW5ldm88L3N0cm9uZz4gKDMwNyBIb21lIFNhbGVzKTwvZGl2PmApWzBdOwogICAgICAgICAgICBwb3B1cF9kNzcyYzg4Mzk2OTI0NzMzODk5NzViZDM5ODllOGNjNi5zZXRDb250ZW50KGh0bWxfMDRjZWFjNmEwOTc0NDgzMmJhOTcyMjNjM2QxNWJjMjkpOwogICAgICAgIAoKICAgICAgICBjaXJjbGVfMmNkZmQ5ZWNjZmQxNDBhY2FhZTk0MGM1NzI1MzI1NmYuYmluZFBvcHVwKHBvcHVwX2Q3NzJjODgzOTY5MjQ3MzM4OTk3NWJkMzk4OWU4Y2M2KQogICAgICAgIDsKCiAgICAgICAgCiAgICAKICAgIAogICAgICAgICAgICB2YXIgY2lyY2xlX2M1MjU3MTJmNmJlZTQ2OWI5ZmViZWNiZTFjZjA2NzdjID0gTC5jaXJjbGUoCiAgICAgICAgICAgICAgICBbNTUuNzUxMTQwNywgMzcuNzg2NTM0MV0sCiAgICAgICAgICAgICAgICB7ImJ1YmJsaW5nTW91c2VFdmVudHMiOiB0cnVlLCAiY29sb3IiOiAiY3JpbXNvbiIsICJkYXNoQXJyYXkiOiBudWxsLCAiZGFzaE9mZnNldCI6IG51bGwsICJmaWxsIjogdHJ1ZSwgImZpbGxDb2xvciI6ICJjcmltc29uIiwgImZpbGxPcGFjaXR5IjogMC4yLCAiZmlsbFJ1bGUiOiAiZXZlbm9kZCIsICJsaW5lQ2FwIjogInJvdW5kIiwgImxpbmVKb2luIjogInJvdW5kIiwgIm9wYWNpdHkiOiAxLjAsICJyYWRpdXMiOiA3OTEuOTY0OTY0NzI4NzEyNywgInN0cm9rZSI6IHRydWUsICJ3ZWlnaHQiOiAzfQogICAgICAgICAgICApLmFkZFRvKG1hcF8wNGY0ZTM2NzZlMTE0NzY4YWM4ZWJlZGY1YjAyOWEwZSk7CiAgICAgICAgCiAgICAKICAgICAgICB2YXIgcG9wdXBfY2E0YTE4ZjBkMjdmNDc0M2FkODYxZDE5MjAwOWY5YWYgPSBMLnBvcHVwKHsibWF4V2lkdGgiOiAiMTAwJSJ9KTsKCiAgICAgICAgCiAgICAgICAgICAgIHZhciBodG1sXzk4NDAxYTdiYWEzNjQzYjdhYzRkODhhMzlhYzRkYzk1ID0gJChgPGRpdiBpZD0iaHRtbF85ODQwMWE3YmFhMzY0M2I3YWM0ZDg4YTM5YWM0ZGM5NSIgc3R5bGU9IndpZHRoOiAxMDAuMCU7IGhlaWdodDogMTAwLjAlOyI+PHN0cm9uZz5QZXJvdm88L3N0cm9uZz4gKDMwMiBIb21lIFNhbGVzKTwvZGl2PmApWzBdOwogICAgICAgICAgICBwb3B1cF9jYTRhMThmMGQyN2Y0NzQzYWQ4NjFkMTkyMDA5ZjlhZi5zZXRDb250ZW50KGh0bWxfOTg0MDFhN2JhYTM2NDNiN2FjNGQ4OGEzOWFjNGRjOTUpOwogICAgICAgIAoKICAgICAgICBjaXJjbGVfYzUyNTcxMmY2YmVlNDY5YjlmZWJlY2JlMWNmMDY3N2MuYmluZFBvcHVwKHBvcHVwX2NhNGExOGYwZDI3ZjQ3NDNhZDg2MWQxOTIwMDlmOWFmKQogICAgICAgIDsKCiAgICAgICAgCiAgICAKICAgIAogICAgICAgICAgICB2YXIgY2lyY2xlXzViMzhhYjRmZDQ5MzQ0ZjQ4MDBkM2M3ZDM4MDcwMWI1ID0gTC5jaXJjbGUoCiAgICAgICAgICAgICAgICBbNTUuNzAxODM0OCwgMzcuNTA0MTA2OV0sCiAgICAgICAgICAgICAgICB7ImJ1YmJsaW5nTW91c2VFdmVudHMiOiB0cnVlLCAiY29sb3IiOiAiY3JpbXNvbiIsICJkYXNoQXJyYXkiOiBudWxsLCAiZGFzaE9mZnNldCI6IG51bGwsICJmaWxsIjogdHJ1ZSwgImZpbGxDb2xvciI6ICJjcmltc29uIiwgImZpbGxPcGFjaXR5IjogMC4yLCAiZmlsbFJ1bGUiOiAiZXZlbm9kZCIsICJsaW5lQ2FwIjogInJvdW5kIiwgImxpbmVKb2luIjogInJvdW5kIiwgIm9wYWNpdHkiOiAxLjAsICJyYWRpdXMiOiA3NzAuOTg1NzYwMzY1MDM4MiwgInN0cm9rZSI6IHRydWUsICJ3ZWlnaHQiOiAzfQogICAgICAgICAgICApLmFkZFRvKG1hcF8wNGY0ZTM2NzZlMTE0NzY4YWM4ZWJlZGY1YjAyOWEwZSk7CiAgICAgICAgCiAgICAKICAgICAgICB2YXIgcG9wdXBfYzQyMjU1NTkxNTUzNDRmOTg2ZWM1ZjAzNzIyMmI4ZDggPSBMLnBvcHVwKHsibWF4V2lkdGgiOiAiMTAwJSJ9KTsKCiAgICAgICAgCiAgICAgICAgICAgIHZhciBodG1sXzcyNWUxNGNkMzQ2MDRlMTNiYmVmZWVhZjQ5ZWNjZTljID0gJChgPGRpdiBpZD0iaHRtbF83MjVlMTRjZDM0NjA0ZTEzYmJlZmVlYWY0OWVjY2U5YyIgc3R5bGU9IndpZHRoOiAxMDAuMCU7IGhlaWdodDogMTAwLjAlOyI+PHN0cm9uZz5SYW1lbmtpPC9zdHJvbmc+ICgyOTQgSG9tZSBTYWxlcyk8L2Rpdj5gKVswXTsKICAgICAgICAgICAgcG9wdXBfYzQyMjU1NTkxNTUzNDRmOTg2ZWM1ZjAzNzIyMmI4ZDguc2V0Q29udGVudChodG1sXzcyNWUxNGNkMzQ2MDRlMTNiYmVmZWVhZjQ5ZWNjZTljKTsKICAgICAgICAKCiAgICAgICAgY2lyY2xlXzViMzhhYjRmZDQ5MzQ0ZjQ4MDBkM2M3ZDM4MDcwMWI1LmJpbmRQb3B1cChwb3B1cF9jNDIyNTU1OTE1NTM0NGY5ODZlYzVmMDM3MjIyYjhkOCkKICAgICAgICA7CgogICAgICAgIAogICAgCiAgICAKICAgICAgICAgICAgdmFyIGNpcmNsZV9hYmFhNDIyMGYyNjA0MjBmYmVkMmE5NTRlNTkyMjA1MiA9IEwuY2lyY2xlKAogICAgICAgICAgICAgICAgWzU1LjU2MzE5MjcsIDM3LjMzODU5MDNdLAogICAgICAgICAgICAgICAgeyJidWJibGluZ01vdXNlRXZlbnRzIjogdHJ1ZSwgImNvbG9yIjogImNyaW1zb24iLCAiZGFzaEFycmF5IjogbnVsbCwgImRhc2hPZmZzZXQiOiBudWxsLCAiZmlsbCI6IHRydWUsICJmaWxsQ29sb3IiOiAiY3JpbXNvbiIsICJmaWxsT3BhY2l0eSI6IDAuMiwgImZpbGxSdWxlIjogImV2ZW5vZGQiLCAibGluZUNhcCI6ICJyb3VuZCIsICJsaW5lSm9pbiI6ICJyb3VuZCIsICJvcGFjaXR5IjogMS4wLCAicmFkaXVzIjogNzM0LjI3MjE1MjcyODYwNzgsICJzdHJva2UiOiB0cnVlLCAid2VpZ2h0IjogM30KICAgICAgICAgICAgKS5hZGRUbyhtYXBfMDRmNGUzNjc2ZTExNDc2OGFjOGViZWRmNWIwMjlhMGUpOwogICAgICAgIAogICAgCiAgICAgICAgdmFyIHBvcHVwXzM3YTBlMDk3ZGFmYzQwZWY4M2YxMGVlZGY1NWZiNGQzID0gTC5wb3B1cCh7Im1heFdpZHRoIjogIjEwMCUifSk7CgogICAgICAgIAogICAgICAgICAgICB2YXIgaHRtbF83ZWZlNWQyM2M5N2M0NWI3YmY0YjE1NjM3OGE5OGJiYyA9ICQoYDxkaXYgaWQ9Imh0bWxfN2VmZTVkMjNjOTdjNDViN2JmNGIxNTYzNzhhOThiYmMiIHN0eWxlPSJ3aWR0aDogMTAwLjAlOyBoZWlnaHQ6IDEwMC4wJTsiPjxzdHJvbmc+S3V6J01pbmtpPC9zdHJvbmc+ICgyODAgSG9tZSBTYWxlcyk8L2Rpdj5gKVswXTsKICAgICAgICAgICAgcG9wdXBfMzdhMGUwOTdkYWZjNDBlZjgzZjEwZWVkZjU1ZmI0ZDMuc2V0Q29udGVudChodG1sXzdlZmU1ZDIzYzk3YzQ1YjdiZjRiMTU2Mzc4YTk4YmJjKTsKICAgICAgICAKCiAgICAgICAgY2lyY2xlX2FiYWE0MjIwZjI2MDQyMGZiZWQyYTk1NGU1OTIyMDUyLmJpbmRQb3B1cChwb3B1cF8zN2EwZTA5N2RhZmM0MGVmODNmMTBlZWRmNTVmYjRkMykKICAgICAgICA7CgogICAgICAgIAogICAgCiAgICAKICAgICAgICAgICAgdmFyIGNpcmNsZV9iNzA0NmQ0YzQ1Y2M0MzhkOTQwMmEzZDQzNzkyNWIxZiA9IEwuY2lyY2xlKAogICAgICAgICAgICAgICAgWzU1Ljg4Mzg0NTksIDM3LjYwMzQ5OV0sCiAgICAgICAgICAgICAgICB7ImJ1YmJsaW5nTW91c2VFdmVudHMiOiB0cnVlLCAiY29sb3IiOiAiY3JpbXNvbiIsICJkYXNoQXJyYXkiOiBudWxsLCAiZGFzaE9mZnNldCI6IG51bGwsICJmaWxsIjogdHJ1ZSwgImZpbGxDb2xvciI6ICJjcmltc29uIiwgImZpbGxPcGFjaXR5IjogMC4yLCAiZmlsbFJ1bGUiOiAiZXZlbm9kZCIsICJsaW5lQ2FwIjogInJvdW5kIiwgImxpbmVKb2luIjogInJvdW5kIiwgIm9wYWNpdHkiOiAxLjAsICJyYWRpdXMiOiA3MjYuNDA0OTUxMDkyMjI5OCwgInN0cm9rZSI6IHRydWUsICJ3ZWlnaHQiOiAzfQogICAgICAgICAgICApLmFkZFRvKG1hcF8wNGY0ZTM2NzZlMTE0NzY4YWM4ZWJlZGY1YjAyOWEwZSk7CiAgICAgICAgCiAgICAKICAgICAgICB2YXIgcG9wdXBfYTBmZDQ2YWMwNGRmNGFhOTk2NTZmZDQ1MDFlZGY4YzcgPSBMLnBvcHVwKHsibWF4V2lkdGgiOiAiMTAwJSJ9KTsKCiAgICAgICAgCiAgICAgICAgICAgIHZhciBodG1sX2MxMWUyMWI2MTE1OTRmNmE5MWQ0Zjc0ODc0ZDZmYmEwID0gJChgPGRpdiBpZD0iaHRtbF9jMTFlMjFiNjExNTk0ZjZhOTFkNGY3NDg3NGQ2ZmJhMCIgc3R5bGU9IndpZHRoOiAxMDAuMCU7IGhlaWdodDogMTAwLjAlOyI+PHN0cm9uZz5CaWJpcmV2bzwvc3Ryb25nPiAoMjc3IEhvbWUgU2FsZXMpPC9kaXY+YClbMF07CiAgICAgICAgICAgIHBvcHVwX2EwZmQ0NmFjMDRkZjRhYTk5NjU2ZmQ0NTAxZWRmOGM3LnNldENvbnRlbnQoaHRtbF9jMTFlMjFiNjExNTk0ZjZhOTFkNGY3NDg3NGQ2ZmJhMCk7CiAgICAgICAgCgogICAgICAgIGNpcmNsZV9iNzA0NmQ0YzQ1Y2M0MzhkOTQwMmEzZDQzNzkyNWIxZi5iaW5kUG9wdXAocG9wdXBfYTBmZDQ2YWMwNGRmNGFhOTk2NTZmZDQ1MDFlZGY4YzcpCiAgICAgICAgOwoKICAgICAgICAKICAgIAogICAgCiAgICAgICAgICAgIHZhciBjaXJjbGVfODZjNGFmM2UwOTE2NDNmNGJmYjYwYzY4ZjNmOGFiYjggPSBMLmNpcmNsZSgKICAgICAgICAgICAgICAgIFs1NS42MjE0ODMzLCAzNy42NjkyNTA0XSwKICAgICAgICAgICAgICAgIHsiYnViYmxpbmdNb3VzZUV2ZW50cyI6IHRydWUsICJjb2xvciI6ICJjcmltc29uIiwgImRhc2hBcnJheSI6IG51bGwsICJkYXNoT2Zmc2V0IjogbnVsbCwgImZpbGwiOiB0cnVlLCAiZmlsbENvbG9yIjogImNyaW1zb24iLCAiZmlsbE9wYWNpdHkiOiAwLjIsICJmaWxsUnVsZSI6ICJldmVub2RkIiwgImxpbmVDYXAiOiAicm91bmQiLCAibGluZUpvaW4iOiAicm91bmQiLCAib3BhY2l0eSI6IDEuMCwgInJhZGl1cyI6IDcyMS4xNjAxNTAwMDEzMTEyLCAic3Ryb2tlIjogdHJ1ZSwgIndlaWdodCI6IDN9CiAgICAgICAgICAgICkuYWRkVG8obWFwXzA0ZjRlMzY3NmUxMTQ3NjhhYzhlYmVkZjViMDI5YTBlKTsKICAgICAgICAKICAgIAogICAgICAgIHZhciBwb3B1cF9hOWQxZDk4NTI5YTY0ZTIwYTk2OTQ1NTFmMzc0Mjg3ZCA9IEwucG9wdXAoeyJtYXhXaWR0aCI6ICIxMDAlIn0pOwoKICAgICAgICAKICAgICAgICAgICAgdmFyIGh0bWxfMDg5ODU3MDkyNjYxNGQwYThiMTM0YWM4ZTY2ZmMyZGYgPSAkKGA8ZGl2IGlkPSJodG1sXzA4OTg1NzA5MjY2MTRkMGE4YjEzNGFjOGU2NmZjMmRmIiBzdHlsZT0id2lkdGg6IDEwMC4wJTsgaGVpZ2h0OiAxMDAuMCU7Ij48c3Ryb25nPkNhcmljeW5vPC9zdHJvbmc+ICgyNzUgSG9tZSBTYWxlcyk8L2Rpdj5gKVswXTsKICAgICAgICAgICAgcG9wdXBfYTlkMWQ5ODUyOWE2NGUyMGE5Njk0NTUxZjM3NDI4N2Quc2V0Q29udGVudChodG1sXzA4OTg1NzA5MjY2MTRkMGE4YjEzNGFjOGU2NmZjMmRmKTsKICAgICAgICAKCiAgICAgICAgY2lyY2xlXzg2YzRhZjNlMDkxNjQzZjRiZmI2MGM2OGYzZjhhYmI4LmJpbmRQb3B1cChwb3B1cF9hOWQxZDk4NTI5YTY0ZTIwYTk2OTQ1NTFmMzc0Mjg3ZCkKICAgICAgICA7CgogICAgICAgIAogICAgCiAgICAKICAgICAgICAgICAgdmFyIGNpcmNsZV8zNGRiZDQzYmVkNmU0Nzk3YmM5NzVkMjgwNjNlMjIzMSA9IEwuY2lyY2xlKAogICAgICAgICAgICAgICAgWzU2LjEyMzgxNjQsIDM2LjkyNjA1NjVdLAogICAgICAgICAgICAgICAgeyJidWJibGluZ01vdXNlRXZlbnRzIjogdHJ1ZSwgImNvbG9yIjogImNyaW1zb24iLCAiZGFzaEFycmF5IjogbnVsbCwgImRhc2hPZmZzZXQiOiBudWxsLCAiZmlsbCI6IHRydWUsICJmaWxsQ29sb3IiOiAiY3JpbXNvbiIsICJmaWxsT3BhY2l0eSI6IDAuMiwgImZpbGxSdWxlIjogImV2ZW5vZGQiLCAibGluZUNhcCI6ICJyb3VuZCIsICJsaW5lSm9pbiI6ICJyb3VuZCIsICJvcGFjaXR5IjogMS4wLCAicmFkaXVzIjogNjk3LjU1ODU0NTA5MjE3NzQsICJzdHJva2UiOiB0cnVlLCAid2VpZ2h0IjogM30KICAgICAgICAgICAgKS5hZGRUbyhtYXBfMDRmNGUzNjc2ZTExNDc2OGFjOGViZWRmNWIwMjlhMGUpOwogICAgICAgIAogICAgCiAgICAgICAgdmFyIHBvcHVwX2FjYjc4NmQyYWFlNTQ5ZGFiMGIzNDNiN2JhOTJhMTdlID0gTC5wb3B1cCh7Im1heFdpZHRoIjogIjEwMCUifSk7CgogICAgICAgIAogICAgICAgICAgICB2YXIgaHRtbF80ZDZiYjkzMWVhYjI0NjhkYmNiZTA4MGExMDI3YjllNCA9ICQoYDxkaXYgaWQ9Imh0bWxfNGQ2YmI5MzFlYWIyNDY4ZGJjYmUwODBhMTAyN2I5ZTQiIHN0eWxlPSJ3aWR0aDogMTAwLjAlOyBoZWlnaHQ6IDEwMC4wJTsiPjxzdHJvbmc+S29uJ0tvdm88L3N0cm9uZz4gKDI2NiBIb21lIFNhbGVzKTwvZGl2PmApWzBdOwogICAgICAgICAgICBwb3B1cF9hY2I3ODZkMmFhZTU0OWRhYjBiMzQzYjdiYTkyYTE3ZS5zZXRDb250ZW50KGh0bWxfNGQ2YmI5MzFlYWIyNDY4ZGJjYmUwODBhMTAyN2I5ZTQpOwogICAgICAgIAoKICAgICAgICBjaXJjbGVfMzRkYmQ0M2JlZDZlNDc5N2JjOTc1ZDI4MDYzZTIyMzEuYmluZFBvcHVwKHBvcHVwX2FjYjc4NmQyYWFlNTQ5ZGFiMGIzNDNiN2JhOTJhMTdlKQogICAgICAgIDsKCiAgICAgICAgCiAgICAKICAgIAogICAgICAgICAgICB2YXIgY2lyY2xlXzE5NDk5Y2QwYTUxZTQ3MjdiNWZmNGM2YWI2YmZjNjU3ID0gTC5jaXJjbGUoCiAgICAgICAgICAgICAgICBbNTUuNjI3OTI4MywgMzcuNjA0MDkxXSwKICAgICAgICAgICAgICAgIHsiYnViYmxpbmdNb3VzZUV2ZW50cyI6IHRydWUsICJjb2xvciI6ICJjcmltc29uIiwgImRhc2hBcnJheSI6IG51bGwsICJkYXNoT2Zmc2V0IjogbnVsbCwgImZpbGwiOiB0cnVlLCAiZmlsbENvbG9yIjogImNyaW1zb24iLCAiZmlsbE9wYWNpdHkiOiAwLjIsICJmaWxsUnVsZSI6ICJldmVub2RkIiwgImxpbmVDYXAiOiAicm91bmQiLCAibGluZUpvaW4iOiAicm91bmQiLCAib3BhY2l0eSI6IDEuMCwgInJhZGl1cyI6IDY5Mi4zMTM3NDQwMDEyNTg4LCAic3Ryb2tlIjogdHJ1ZSwgIndlaWdodCI6IDN9CiAgICAgICAgICAgICkuYWRkVG8obWFwXzA0ZjRlMzY3NmUxMTQ3NjhhYzhlYmVkZjViMDI5YTBlKTsKICAgICAgICAKICAgIAogICAgICAgIHZhciBwb3B1cF9iYjEzYjc2MGU5ZTE0YjJkOWYzY2MyOGQzY2IzNDVkZiA9IEwucG9wdXAoeyJtYXhXaWR0aCI6ICIxMDAlIn0pOwoKICAgICAgICAKICAgICAgICAgICAgdmFyIGh0bWxfNTc4NmIzMzRkZmRhNDdlMmFlZDQ4ZTA4MDRjN2E0ZmUgPSAkKGA8ZGl2IGlkPSJodG1sXzU3ODZiMzM0ZGZkYTQ3ZTJhZWQ0OGUwODA0YzdhNGZlIiBzdHlsZT0id2lkdGg6IDEwMC4wJTsgaGVpZ2h0OiAxMDAuMCU7Ij48c3Ryb25nPkNoZXJ0YW5vdm8gU2V2ZXJub2U8L3N0cm9uZz4gKDI2NCBIb21lIFNhbGVzKTwvZGl2PmApWzBdOwogICAgICAgICAgICBwb3B1cF9iYjEzYjc2MGU5ZTE0YjJkOWYzY2MyOGQzY2IzNDVkZi5zZXRDb250ZW50KGh0bWxfNTc4NmIzMzRkZmRhNDdlMmFlZDQ4ZTA4MDRjN2E0ZmUpOwogICAgICAgIAoKICAgICAgICBjaXJjbGVfMTk0OTljZDBhNTFlNDcyN2I1ZmY0YzZhYjZiZmM2NTcuYmluZFBvcHVwKHBvcHVwX2JiMTNiNzYwZTllMTRiMmQ5ZjNjYzI4ZDNjYjM0NWRmKQogICAgICAgIDsKCiAgICAgICAgCiAgICAKICAgIAogICAgICAgICAgICB2YXIgY2lyY2xlXzRmYzA0ZWVmZTY5YzQzZWU4NDE2MzZkNDAzZjZkZTFkID0gTC5jaXJjbGUoCiAgICAgICAgICAgICAgICBbNTUuNjkzNDYwNiwgMzcuNzI2ODk1Nl0sCiAgICAgICAgICAgICAgICB7ImJ1YmJsaW5nTW91c2VFdmVudHMiOiB0cnVlLCAiY29sb3IiOiAiY3JpbXNvbiIsICJkYXNoQXJyYXkiOiBudWxsLCAiZGFzaE9mZnNldCI6IG51bGwsICJmaWxsIjogdHJ1ZSwgImZpbGxDb2xvciI6ICJjcmltc29uIiwgImZpbGxPcGFjaXR5IjogMC4yLCAiZmlsbFJ1bGUiOiAiZXZlbm9kZCIsICJsaW5lQ2FwIjogInJvdW5kIiwgImxpbmVKb2luIjogInJvdW5kIiwgIm9wYWNpdHkiOiAxLjAsICJyYWRpdXMiOiA2MjQuMTMxMzI5ODE5MzE2NiwgInN0cm9rZSI6IHRydWUsICJ3ZWlnaHQiOiAzfQogICAgICAgICAgICApLmFkZFRvKG1hcF8wNGY0ZTM2NzZlMTE0NzY4YWM4ZWJlZGY1YjAyOWEwZSk7CiAgICAgICAgCiAgICAKICAgICAgICB2YXIgcG9wdXBfNWJlZThmNjU3ODBmNGYyNTk1MGRhNTdhZTUxZDBlZGMgPSBMLnBvcHVwKHsibWF4V2lkdGgiOiAiMTAwJSJ9KTsKCiAgICAgICAgCiAgICAgICAgICAgIHZhciBodG1sX2NmYmY2NGFlM2NmMzRiNGFiODAxMzQxOWQzZGFlNjNmID0gJChgPGRpdiBpZD0iaHRtbF9jZmJmNjRhZTNjZjM0YjRhYjgwMTM0MTlkM2RhZTYzZiIgc3R5bGU9IndpZHRoOiAxMDAuMCU7IGhlaWdodDogMTAwLjAlOyI+PHN0cm9uZz5QZWNoYXRuaWtpPC9zdHJvbmc+ICgyMzggSG9tZSBTYWxlcyk8L2Rpdj5gKVswXTsKICAgICAgICAgICAgcG9wdXBfNWJlZThmNjU3ODBmNGYyNTk1MGRhNTdhZTUxZDBlZGMuc2V0Q29udGVudChodG1sX2NmYmY2NGFlM2NmMzRiNGFiODAxMzQxOWQzZGFlNjNmKTsKICAgICAgICAKCiAgICAgICAgY2lyY2xlXzRmYzA0ZWVmZTY5YzQzZWU4NDE2MzZkNDAzZjZkZTFkLmJpbmRQb3B1cChwb3B1cF81YmVlOGY2NTc4MGY0ZjI1OTUwZGE1N2FlNTFkMGVkYykKICAgICAgICA7CgogICAgICAgIAogICAgCiAgICAKICAgICAgICAgICAgdmFyIGNpcmNsZV83NGUzNDgxOGM4ZjE0ZTc4ODUzNmJkZGQ5OTkyMTZmNiA9IEwuY2lyY2xlKAogICAgICAgICAgICAgICAgWzU1LjgzMzMyMSwgMzcuNTIyNTcxMV0sCiAgICAgICAgICAgICAgICB7ImJ1YmJsaW5nTW91c2VFdmVudHMiOiB0cnVlLCAiY29sb3IiOiAiY3JpbXNvbiIsICJkYXNoQXJyYXkiOiBudWxsLCAiZGFzaE9mZnNldCI6IG51bGwsICJmaWxsIjogdHJ1ZSwgImZpbGxDb2xvciI6ICJjcmltc29uIiwgImZpbGxPcGFjaXR5IjogMC4yLCAiZmlsbFJ1bGUiOiAiZXZlbm9kZCIsICJsaW5lQ2FwIjogInJvdW5kIiwgImxpbmVKb2luIjogInJvdW5kIiwgIm9wYWNpdHkiOiAxLjAsICJyYWRpdXMiOiA2MjEuNTA4OTI5MjczODU3MywgInN0cm9rZSI6IHRydWUsICJ3ZWlnaHQiOiAzfQogICAgICAgICAgICApLmFkZFRvKG1hcF8wNGY0ZTM2NzZlMTE0NzY4YWM4ZWJlZGY1YjAyOWEwZSk7CiAgICAgICAgCiAgICAKICAgICAgICB2YXIgcG9wdXBfOGY4YWU3ZDA4NzU2NDkyYWI5ZGRjZTViOWViOTMyMWQgPSBMLnBvcHVwKHsibWF4V2lkdGgiOiAiMTAwJSJ9KTsKCiAgICAgICAgCiAgICAgICAgICAgIHZhciBodG1sXzQ4YmFlZmFjZTI5NzQyNzVhMTk3NWVhZDQyMWZhOTE4ID0gJChgPGRpdiBpZD0iaHRtbF80OGJhZWZhY2UyOTc0Mjc1YTE5NzVlYWQ0MjFmYTkxOCIgc3R5bGU9IndpZHRoOiAxMDAuMCU7IGhlaWdodDogMTAwLjAlOyI+PHN0cm9uZz5Lb3B0ZXZvPC9zdHJvbmc+ICgyMzcgSG9tZSBTYWxlcyk8L2Rpdj5gKVswXTsKICAgICAgICAgICAgcG9wdXBfOGY4YWU3ZDA4NzU2NDkyYWI5ZGRjZTViOWViOTMyMWQuc2V0Q29udGVudChodG1sXzQ4YmFlZmFjZTI5NzQyNzVhMTk3NWVhZDQyMWZhOTE4KTsKICAgICAgICAKCiAgICAgICAgY2lyY2xlXzc0ZTM0ODE4YzhmMTRlNzg4NTM2YmRkZDk5OTIxNmY2LmJpbmRQb3B1cChwb3B1cF84ZjhhZTdkMDg3NTY0OTJhYjlkZGNlNWI5ZWI5MzIxZCkKICAgICAgICA7CgogICAgICAgIAogICAgCiAgICAKICAgICAgICAgICAgdmFyIGNpcmNsZV9hNjRhZmM3OWM5Yjk0YTY5YTU3NzBlNWViNjg4ZDQ1NSA9IEwuY2lyY2xlKAogICAgICAgICAgICAgICAgWzU1Ljc2NDQxOTYsIDM3LjgzMzI5NjVdLAogICAgICAgICAgICAgICAgeyJidWJibGluZ01vdXNlRXZlbnRzIjogdHJ1ZSwgImNvbG9yIjogImNyaW1zb24iLCAiZGFzaEFycmF5IjogbnVsbCwgImRhc2hPZmZzZXQiOiBudWxsLCAiZmlsbCI6IHRydWUsICJmaWxsQ29sb3IiOiAiY3JpbXNvbiIsICJmaWxsT3BhY2l0eSI6IDAuMiwgImZpbGxSdWxlIjogImV2ZW5vZGQiLCAibGluZUNhcCI6ICJyb3VuZCIsICJsaW5lSm9pbiI6ICJyb3VuZCIsICJvcGFjaXR5IjogMS4wLCAicmFkaXVzIjogNjAwLjUyOTcyNDkxMDE4MjcsICJzdHJva2UiOiB0cnVlLCAid2VpZ2h0IjogM30KICAgICAgICAgICAgKS5hZGRUbyhtYXBfMDRmNGUzNjc2ZTExNDc2OGFjOGViZWRmNWIwMjlhMGUpOwogICAgICAgIAogICAgCiAgICAgICAgdmFyIHBvcHVwX2U2ZTdiYTcxOWVkMDQzNTQ5YjRjZmZlZDAwMTQwM2M3ID0gTC5wb3B1cCh7Im1heFdpZHRoIjogIjEwMCUifSk7CgogICAgICAgIAogICAgICAgICAgICB2YXIgaHRtbF84YzMwMThmMGQwMjg0OWE1OTgzNDFmNGQyMzY1MTMzZSA9ICQoYDxkaXYgaWQ9Imh0bWxfOGMzMDE4ZjBkMDI4NDlhNTk4MzQxZjRkMjM2NTEzM2UiIHN0eWxlPSJ3aWR0aDogMTAwLjAlOyBoZWlnaHQ6IDEwMC4wJTsiPjxzdHJvbmc+SXZhbm92c2tvZTwvc3Ryb25nPiAoMjI5IEhvbWUgU2FsZXMpPC9kaXY+YClbMF07CiAgICAgICAgICAgIHBvcHVwX2U2ZTdiYTcxOWVkMDQzNTQ5YjRjZmZlZDAwMTQwM2M3LnNldENvbnRlbnQoaHRtbF84YzMwMThmMGQwMjg0OWE1OTgzNDFmNGQyMzY1MTMzZSk7CiAgICAgICAgCgogICAgICAgIGNpcmNsZV9hNjRhZmM3OWM5Yjk0YTY5YTU3NzBlNWViNjg4ZDQ1NS5iaW5kUG9wdXAocG9wdXBfZTZlN2JhNzE5ZWQwNDM1NDliNGNmZmVkMDAxNDAzYzcpCiAgICAgICAgOwoKICAgICAgICAKICAgIAogICAgCiAgICAgICAgICAgIHZhciBjaXJjbGVfMTQ3YjYzM2NlMzI5NDU2ZDgyM2U0NjRkNDNmZTg5OTEgPSBMLmNpcmNsZSgKICAgICAgICAgICAgICAgIFs1NS43NjA5MTIxLCAzNy41Nzk5Mzk0XSwKICAgICAgICAgICAgICAgIHsiYnViYmxpbmdNb3VzZUV2ZW50cyI6IHRydWUsICJjb2xvciI6ICJjcmltc29uIiwgImRhc2hBcnJheSI6IG51bGwsICJkYXNoT2Zmc2V0IjogbnVsbCwgImZpbGwiOiB0cnVlLCAiZmlsbENvbG9yIjogImNyaW1zb24iLCAiZmlsbE9wYWNpdHkiOiAwLjIsICJmaWxsUnVsZSI6ICJldmVub2RkIiwgImxpbmVDYXAiOiAicm91bmQiLCAibGluZUpvaW4iOiAicm91bmQiLCAib3BhY2l0eSI6IDEuMCwgInJhZGl1cyI6IDU5Ny45MDczMjQzNjQ3MjM1LCAic3Ryb2tlIjogdHJ1ZSwgIndlaWdodCI6IDN9CiAgICAgICAgICAgICkuYWRkVG8obWFwXzA0ZjRlMzY3NmUxMTQ3NjhhYzhlYmVkZjViMDI5YTBlKTsKICAgICAgICAKICAgIAogICAgICAgIHZhciBwb3B1cF9iMTM3NmMzMGM3YjQ0NjFiYmViNjAyNTAwNmY5ZjQ5OSA9IEwucG9wdXAoeyJtYXhXaWR0aCI6ICIxMDAlIn0pOwoKICAgICAgICAKICAgICAgICAgICAgdmFyIGh0bWxfZTJiNTg1ODVmZGFiNDU3Nzk1NGQxMDkxMjhmODRmYjUgPSAkKGA8ZGl2IGlkPSJodG1sX2UyYjU4NTg1ZmRhYjQ1Nzc5NTRkMTA5MTI4Zjg0ZmI1IiBzdHlsZT0id2lkdGg6IDEwMC4wJTsgaGVpZ2h0OiAxMDAuMCU7Ij48c3Ryb25nPlRhZ2Fuc2tvZTwvc3Ryb25nPiAoMjI4IEhvbWUgU2FsZXMpPC9kaXY+YClbMF07CiAgICAgICAgICAgIHBvcHVwX2IxMzc2YzMwYzdiNDQ2MWJiZWI2MDI1MDA2ZjlmNDk5LnNldENvbnRlbnQoaHRtbF9lMmI1ODU4NWZkYWI0NTc3OTU0ZDEwOTEyOGY4NGZiNSk7CiAgICAgICAgCgogICAgICAgIGNpcmNsZV8xNDdiNjMzY2UzMjk0NTZkODIzZTQ2NGQ0M2ZlODk5MS5iaW5kUG9wdXAocG9wdXBfYjEzNzZjMzBjN2I0NDYxYmJlYjYwMjUwMDZmOWY0OTkpCiAgICAgICAgOwoKICAgICAgICAKICAgIAogICAgCiAgICAgICAgICAgIHZhciBjaXJjbGVfNmQ3OTljNDI2MWFiNDg4Mjg1YzMyMzhkZWEyOTQ1ZWIgPSBMLmNpcmNsZSgKICAgICAgICAgICAgICAgIFs1NS44NTI1NjAzLCAzNy42NDQ1MzkzXSwKICAgICAgICAgICAgICAgIHsiYnViYmxpbmdNb3VzZUV2ZW50cyI6IHRydWUsICJjb2xvciI6ICJjcmltc29uIiwgImRhc2hBcnJheSI6IG51bGwsICJkYXNoT2Zmc2V0IjogbnVsbCwgImZpbGwiOiB0cnVlLCAiZmlsbENvbG9yIjogImNyaW1zb24iLCAiZmlsbE9wYWNpdHkiOiAwLjIsICJmaWxsUnVsZSI6ICJldmVub2RkIiwgImxpbmVDYXAiOiAicm91bmQiLCAibGluZUpvaW4iOiAicm91bmQiLCAib3BhY2l0eSI6IDEuMCwgInJhZGl1cyI6IDU5Mi42NjI1MjMyNzM4MDQ4LCAic3Ryb2tlIjogdHJ1ZSwgIndlaWdodCI6IDN9CiAgICAgICAgICAgICkuYWRkVG8obWFwXzA0ZjRlMzY3NmUxMTQ3NjhhYzhlYmVkZjViMDI5YTBlKTsKICAgICAgICAKICAgIAogICAgICAgIHZhciBwb3B1cF8wMzk0OTRlODJiYmE0MDZhYmU5ZGRmZWQ4YjEzNWMyMiA9IEwucG9wdXAoeyJtYXhXaWR0aCI6ICIxMDAlIn0pOwoKICAgICAgICAKICAgICAgICAgICAgdmFyIGh0bWxfZThkY2Q3ODM4ZmZkNGE4MzgzMGFkNzhiMDI5NDNkNzAgPSAkKGA8ZGl2IGlkPSJodG1sX2U4ZGNkNzgzOGZmZDRhODM4MzBhZDc4YjAyOTQzZDcwIiBzdHlsZT0id2lkdGg6IDEwMC4wJTsgaGVpZ2h0OiAxMDAuMCU7Ij48c3Ryb25nPlN2aWJsb3ZvPC9zdHJvbmc+ICgyMjYgSG9tZSBTYWxlcyk8L2Rpdj5gKVswXTsKICAgICAgICAgICAgcG9wdXBfMDM5NDk0ZTgyYmJhNDA2YWJlOWRkZmVkOGIxMzVjMjIuc2V0Q29udGVudChodG1sX2U4ZGNkNzgzOGZmZDRhODM4MzBhZDc4YjAyOTQzZDcwKTsKICAgICAgICAKCiAgICAgICAgY2lyY2xlXzZkNzk5YzQyNjFhYjQ4ODI4NWMzMjM4ZGVhMjk0NWViLmJpbmRQb3B1cChwb3B1cF8wMzk0OTRlODJiYmE0MDZhYmU5ZGRmZWQ4YjEzNWMyMikKICAgICAgICA7CgogICAgICAgIAogICAgCiAgICAKICAgICAgICAgICAgdmFyIGNpcmNsZV80YmUzMWFmZWRiMDk0NDg1YjRhYzViMzMwYTRlMWM0MSA9IEwuY2lyY2xlKAogICAgICAgICAgICAgICAgWzU1LjYxNTE1ODEsIDM3LjYwMzI3MzRdLAogICAgICAgICAgICAgICAgeyJidWJibGluZ01vdXNlRXZlbnRzIjogdHJ1ZSwgImNvbG9yIjogImNyaW1zb24iLCAiZGFzaEFycmF5IjogbnVsbCwgImRhc2hPZmZzZXQiOiBudWxsLCAiZmlsbCI6IHRydWUsICJmaWxsQ29sb3IiOiAiY3JpbXNvbiIsICJmaWxsT3BhY2l0eSI6IDAuMiwgImZpbGxSdWxlIjogImV2ZW5vZGQiLCAibGluZUNhcCI6ICJyb3VuZCIsICJsaW5lSm9pbiI6ICJyb3VuZCIsICJvcGFjaXR5IjogMS4wLCAicmFkaXVzIjogNTkwLjA0MDEyMjcyODM0NTUsICJzdHJva2UiOiB0cnVlLCAid2VpZ2h0IjogM30KICAgICAgICAgICAgKS5hZGRUbyhtYXBfMDRmNGUzNjc2ZTExNDc2OGFjOGViZWRmNWIwMjlhMGUpOwogICAgICAgIAogICAgCiAgICAgICAgdmFyIHBvcHVwX2U5OThhYzNhNmFhZTQyMDU5NTY3MjViMzZiODY2ZThlID0gTC5wb3B1cCh7Im1heFdpZHRoIjogIjEwMCUifSk7CgogICAgICAgIAogICAgICAgICAgICB2YXIgaHRtbF8zYzVhNGE0MGVlMTE0NzlmYmJkZTEyYTBhYzFhYThhYSA9ICQoYDxkaXYgaWQ9Imh0bWxfM2M1YTRhNDBlZTExNDc5ZmJiZGUxMmEwYWMxYWE4YWEiIHN0eWxlPSJ3aWR0aDogMTAwLjAlOyBoZWlnaHQ6IDEwMC4wJTsiPjxzdHJvbmc+Q2hlcnRhbm92byBDZW50cmFsJ05vZTwvc3Ryb25nPiAoMjI1IEhvbWUgU2FsZXMpPC9kaXY+YClbMF07CiAgICAgICAgICAgIHBvcHVwX2U5OThhYzNhNmFhZTQyMDU5NTY3MjViMzZiODY2ZThlLnNldENvbnRlbnQoaHRtbF8zYzVhNGE0MGVlMTE0NzlmYmJkZTEyYTBhYzFhYThhYSk7CiAgICAgICAgCgogICAgICAgIGNpcmNsZV80YmUzMWFmZWRiMDk0NDg1YjRhYzViMzMwYTRlMWM0MS5iaW5kUG9wdXAocG9wdXBfZTk5OGFjM2E2YWFlNDIwNTk1NjcyNWIzNmI4NjZlOGUpCiAgICAgICAgOwoKICAgICAgICAKICAgIAogICAgCiAgICAgICAgICAgIHZhciBjaXJjbGVfMjUzOWE4MjI5ZmMxNDMwNzg1ZjY4M2QwMWE1NTZhNjQgPSBMLmNpcmNsZSgKICAgICAgICAgICAgICAgIFs1NS44MTI3MzkyLCAzNy40NjIyNjg1XSwKICAgICAgICAgICAgICAgIHsiYnViYmxpbmdNb3VzZUV2ZW50cyI6IHRydWUsICJjb2xvciI6ICJjcmltc29uIiwgImRhc2hBcnJheSI6IG51bGwsICJkYXNoT2Zmc2V0IjogbnVsbCwgImZpbGwiOiB0cnVlLCAiZmlsbENvbG9yIjogImNyaW1zb24iLCAiZmlsbE9wYWNpdHkiOiAwLjIsICJmaWxsUnVsZSI6ICJldmVub2RkIiwgImxpbmVDYXAiOiAicm91bmQiLCAibGluZUpvaW4iOiAicm91bmQiLCAib3BhY2l0eSI6IDEuMCwgInJhZGl1cyI6IDU4Ny40MTc3MjIxODI4ODYyLCAic3Ryb2tlIjogdHJ1ZSwgIndlaWdodCI6IDN9CiAgICAgICAgICAgICkuYWRkVG8obWFwXzA0ZjRlMzY3NmUxMTQ3NjhhYzhlYmVkZjViMDI5YTBlKTsKICAgICAgICAKICAgIAogICAgICAgIHZhciBwb3B1cF9lMjIyZTllMjY0ZDc0OTAyYWY3YWYxMzM1YjllYTYwYSA9IEwucG9wdXAoeyJtYXhXaWR0aCI6ICIxMDAlIn0pOwoKICAgICAgICAKICAgICAgICAgICAgdmFyIGh0bWxfZjAzYWJmYmUwZTIwNDE2NTg0MDBjNjhkNGExZWYwNjUgPSAkKGA8ZGl2IGlkPSJodG1sX2YwM2FiZmJlMGUyMDQxNjU4NDAwYzY4ZDRhMWVmMDY1IiBzdHlsZT0id2lkdGg6IDEwMC4wJTsgaGVpZ2h0OiAxMDAuMCU7Ij48c3Ryb25nPlBva3JvdnNrb2UgU3RyZXNobmV2bzwvc3Ryb25nPiAoMjI0IEhvbWUgU2FsZXMpPC9kaXY+YClbMF07CiAgICAgICAgICAgIHBvcHVwX2UyMjJlOWUyNjRkNzQ5MDJhZjdhZjEzMzViOWVhNjBhLnNldENvbnRlbnQoaHRtbF9mMDNhYmZiZTBlMjA0MTY1ODQwMGM2OGQ0YTFlZjA2NSk7CiAgICAgICAgCgogICAgICAgIGNpcmNsZV8yNTM5YTgyMjlmYzE0MzA3ODVmNjgzZDAxYTU1NmE2NC5iaW5kUG9wdXAocG9wdXBfZTIyMmU5ZTI2NGQ3NDkwMmFmN2FmMTMzNWI5ZWE2MGEpCiAgICAgICAgOwoKICAgICAgICAKICAgIAogICAgCiAgICAgICAgICAgIHZhciBjaXJjbGVfNmNiNWMxNjcyYzFjNGM1M2ExY2E5Y2VkODZmZTEyZTggPSBMLmNpcmNsZSgKICAgICAgICAgICAgICAgIFs1NS42MzU5MjQ2LCAzNy43NjE5MjE4XSwKICAgICAgICAgICAgICAgIHsiYnViYmxpbmdNb3VzZUV2ZW50cyI6IHRydWUsICJjb2xvciI6ICJjcmltc29uIiwgImRhc2hBcnJheSI6IG51bGwsICJkYXNoT2Zmc2V0IjogbnVsbCwgImZpbGwiOiB0cnVlLCAiZmlsbENvbG9yIjogImNyaW1zb24iLCAiZmlsbE9wYWNpdHkiOiAwLjIsICJmaWxsUnVsZSI6ICJldmVub2RkIiwgImxpbmVDYXAiOiAicm91bmQiLCAibGluZUpvaW4iOiAicm91bmQiLCAib3BhY2l0eSI6IDEuMCwgInJhZGl1cyI6IDU3OS41NTA1MjA1NDY1MDgzLCAic3Ryb2tlIjogdHJ1ZSwgIndlaWdodCI6IDN9CiAgICAgICAgICAgICkuYWRkVG8obWFwXzA0ZjRlMzY3NmUxMTQ3NjhhYzhlYmVkZjViMDI5YTBlKTsKICAgICAgICAKICAgIAogICAgICAgIHZhciBwb3B1cF85MzdmYzhmMjY4YmI0Y2RiYWQyZmVmZjY1ZGY1OTI3MiA9IEwucG9wdXAoeyJtYXhXaWR0aCI6ICIxMDAlIn0pOwoKICAgICAgICAKICAgICAgICAgICAgdmFyIGh0bWxfZGMzYmY1MmRkZTc3NDVhMmIxNmVlYTY1OTUyNDAxYjQgPSAkKGA8ZGl2IGlkPSJodG1sX2RjM2JmNTJkZGU3NzQ1YTJiMTZlZWE2NTk1MjQwMWI0IiBzdHlsZT0id2lkdGg6IDEwMC4wJTsgaGVpZ2h0OiAxMDAuMCU7Ij48c3Ryb25nPkJyYXRlZXZvPC9zdHJvbmc+ICgyMjEgSG9tZSBTYWxlcyk8L2Rpdj5gKVswXTsKICAgICAgICAgICAgcG9wdXBfOTM3ZmM4ZjI2OGJiNGNkYmFkMmZlZmY2NWRmNTkyNzIuc2V0Q29udGVudChodG1sX2RjM2JmNTJkZGU3NzQ1YTJiMTZlZWE2NTk1MjQwMWI0KTsKICAgICAgICAKCiAgICAgICAgY2lyY2xlXzZjYjVjMTY3MmMxYzRjNTNhMWNhOWNlZDg2ZmUxMmU4LmJpbmRQb3B1cChwb3B1cF85MzdmYzhmMjY4YmI0Y2RiYWQyZmVmZjY1ZGY1OTI3MikKICAgICAgICA7CgogICAgICAgIAogICAgCiAgICAKICAgICAgICAgICAgdmFyIGNpcmNsZV8wZDlhYWRkMWI4Yzc0M2NmOTBlMjliYWViOGE5NTQ3OSA9IEwuY2lyY2xlKAogICAgICAgICAgICAgICAgWzU1Ljg2OTM1NzUsIDM3LjQ4ODc5NTRdLAogICAgICAgICAgICAgICAgeyJidWJibGluZ01vdXNlRXZlbnRzIjogdHJ1ZSwgImNvbG9yIjogImNyaW1zb24iLCAiZGFzaEFycmF5IjogbnVsbCwgImRhc2hPZmZzZXQiOiBudWxsLCAiZmlsbCI6IHRydWUsICJmaWxsQ29sb3IiOiAiY3JpbXNvbiIsICJmaWxsT3BhY2l0eSI6IDAuMiwgImZpbGxSdWxlIjogImV2ZW5vZGQiLCAibGluZUNhcCI6ICJyb3VuZCIsICJsaW5lSm9pbiI6ICJyb3VuZCIsICJvcGFjaXR5IjogMS4wLCAicmFkaXVzIjogNTUwLjcwNDExNDU0NjQ1NTksICJzdHJva2UiOiB0cnVlLCAid2VpZ2h0IjogM30KICAgICAgICAgICAgKS5hZGRUbyhtYXBfMDRmNGUzNjc2ZTExNDc2OGFjOGViZWRmNWIwMjlhMGUpOwogICAgICAgIAogICAgCiAgICAgICAgdmFyIHBvcHVwX2ZiMjQ3YTc5NGMyNzQ1Zjg4YThkNjQ1NTBkY2UwODI0ID0gTC5wb3B1cCh7Im1heFdpZHRoIjogIjEwMCUifSk7CgogICAgICAgIAogICAgICAgICAgICB2YXIgaHRtbF82ZDQ3MDJlYmRiN2M0YjM3YWEyNTgwZDc5ZWZkM2I5MiA9ICQoYDxkaXYgaWQ9Imh0bWxfNmQ0NzAyZWJkYjdjNGIzN2FhMjU4MGQ3OWVmZDNiOTIiIHN0eWxlPSJ3aWR0aDogMTAwLjAlOyBoZWlnaHQ6IDEwMC4wJTsiPjxzdHJvbmc+SG92cmlubzwvc3Ryb25nPiAoMjEwIEhvbWUgU2FsZXMpPC9kaXY+YClbMF07CiAgICAgICAgICAgIHBvcHVwX2ZiMjQ3YTc5NGMyNzQ1Zjg4YThkNjQ1NTBkY2UwODI0LnNldENvbnRlbnQoaHRtbF82ZDQ3MDJlYmRiN2M0YjM3YWEyNTgwZDc5ZWZkM2I5Mik7CiAgICAgICAgCgogICAgICAgIGNpcmNsZV8wZDlhYWRkMWI4Yzc0M2NmOTBlMjliYWViOGE5NTQ3OS5iaW5kUG9wdXAocG9wdXBfZmIyNDdhNzk0YzI3NDVmODhhOGQ2NDU1MGRjZTA4MjQpCiAgICAgICAgOwoKICAgICAgICAKICAgIAogICAgCiAgICAgICAgICAgIHZhciBjaXJjbGVfZjNiMGQ2NDA2M2MwNDQyYmExMjdmZTI5NTc5Yjg1ZmUgPSBMLmNpcmNsZSgKICAgICAgICAgICAgICAgIFs1NS41Njg1MTM5LCAzNy41ODI0MjhdLAogICAgICAgICAgICAgICAgeyJidWJibGluZ01vdXNlRXZlbnRzIjogdHJ1ZSwgImNvbG9yIjogImNyaW1zb24iLCAiZGFzaEFycmF5IjogbnVsbCwgImRhc2hPZmZzZXQiOiBudWxsLCAiZmlsbCI6IHRydWUsICJmaWxsQ29sb3IiOiAiY3JpbXNvbiIsICJmaWxsT3BhY2l0eSI6IDAuMiwgImZpbGxSdWxlIjogImV2ZW5vZGQiLCAibGluZUNhcCI6ICJyb3VuZCIsICJsaW5lSm9pbiI6ICJyb3VuZCIsICJvcGFjaXR5IjogMS4wLCAicmFkaXVzIjogNTQ1LjQ1OTMxMzQ1NTUzNzIsICJzdHJva2UiOiB0cnVlLCAid2VpZ2h0IjogM30KICAgICAgICAgICAgKS5hZGRUbyhtYXBfMDRmNGUzNjc2ZTExNDc2OGFjOGViZWRmNWIwMjlhMGUpOwogICAgICAgIAogICAgCiAgICAgICAgdmFyIHBvcHVwXzNmNWNjOTAzOWU1NzQzN2VhODJiZDM4NjA4OWM5OGQ5ID0gTC5wb3B1cCh7Im1heFdpZHRoIjogIjEwMCUifSk7CgogICAgICAgIAogICAgICAgICAgICB2YXIgaHRtbF8yNDg0ZDc5OGI4OWE0ZmVjODY0OTI4ZTI1ZDYyNTE2ZiA9ICQoYDxkaXYgaWQ9Imh0bWxfMjQ4NGQ3OThiODlhNGZlYzg2NDkyOGUyNWQ2MjUxNmYiIHN0eWxlPSJ3aWR0aDogMTAwLjAlOyBoZWlnaHQ6IDEwMC4wJTsiPjxzdHJvbmc+U2V2ZXJub2UgQnV0b3ZvPC9zdHJvbmc+ICgyMDggSG9tZSBTYWxlcyk8L2Rpdj5gKVswXTsKICAgICAgICAgICAgcG9wdXBfM2Y1Y2M5MDM5ZTU3NDM3ZWE4MmJkMzg2MDg5Yzk4ZDkuc2V0Q29udGVudChodG1sXzI0ODRkNzk4Yjg5YTRmZWM4NjQ5MjhlMjVkNjI1MTZmKTsKICAgICAgICAKCiAgICAgICAgY2lyY2xlX2YzYjBkNjQwNjNjMDQ0MmJhMTI3ZmUyOTU3OWI4NWZlLmJpbmRQb3B1cChwb3B1cF8zZjVjYzkwMzllNTc0MzdlYTgyYmQzODYwODljOThkOSkKICAgICAgICA7CgogICAgICAgIAogICAgCiAgICAKICAgICAgICAgICAgdmFyIGNpcmNsZV8yMGE5YzNiYjVkMTk0MDYwYmIyYjczODNkMjQyNDZkYiA9IEwuY2lyY2xlKAogICAgICAgICAgICAgICAgWzU1Ljg4MzYwMzEsIDM3LjY0MjM3ODldLAogICAgICAgICAgICAgICAgeyJidWJibGluZ01vdXNlRXZlbnRzIjogdHJ1ZSwgImNvbG9yIjogImNyaW1zb24iLCAiZGFzaEFycmF5IjogbnVsbCwgImRhc2hPZmZzZXQiOiBudWxsLCAiZmlsbCI6IHRydWUsICJmaWxsQ29sb3IiOiAiY3JpbXNvbiIsICJmaWxsT3BhY2l0eSI6IDAuMiwgImZpbGxSdWxlIjogImV2ZW5vZGQiLCAibGluZUNhcCI6ICJyb3VuZCIsICJsaW5lSm9pbiI6ICJyb3VuZCIsICJvcGFjaXR5IjogMS4wLCAicmFkaXVzIjogNTQ1LjQ1OTMxMzQ1NTUzNzIsICJzdHJva2UiOiB0cnVlLCAid2VpZ2h0IjogM30KICAgICAgICAgICAgKS5hZGRUbyhtYXBfMDRmNGUzNjc2ZTExNDc2OGFjOGViZWRmNWIwMjlhMGUpOwogICAgICAgIAogICAgCiAgICAgICAgdmFyIHBvcHVwXzM3YWE2YzJiZTlkMjQ0NDM5N2U5NDllOTcxYjk0NWMwID0gTC5wb3B1cCh7Im1heFdpZHRoIjogIjEwMCUifSk7CgogICAgICAgIAogICAgICAgICAgICB2YXIgaHRtbF8wNzdlZDFlYzU2YmQ0NjZiOWZmODA5ZGM2ZWQ2YjY5NSA9ICQoYDxkaXYgaWQ9Imh0bWxfMDc3ZWQxZWM1NmJkNDY2YjlmZjgwOWRjNmVkNmI2OTUiIHN0eWxlPSJ3aWR0aDogMTAwLjAlOyBoZWlnaHQ6IDEwMC4wJTsiPjxzdHJvbmc+U2V2ZXJub2UgTWVkdmVka292bzwvc3Ryb25nPiAoMjA4IEhvbWUgU2FsZXMpPC9kaXY+YClbMF07CiAgICAgICAgICAgIHBvcHVwXzM3YWE2YzJiZTlkMjQ0NDM5N2U5NDllOTcxYjk0NWMwLnNldENvbnRlbnQoaHRtbF8wNzdlZDFlYzU2YmQ0NjZiOWZmODA5ZGM2ZWQ2YjY5NSk7CiAgICAgICAgCgogICAgICAgIGNpcmNsZV8yMGE5YzNiYjVkMTk0MDYwYmIyYjczODNkMjQyNDZkYi5iaW5kUG9wdXAocG9wdXBfMzdhYTZjMmJlOWQyNDQ0Mzk3ZTk0OWU5NzFiOTQ1YzApCiAgICAgICAgOwoKICAgICAgICAKICAgIAogICAgCiAgICAgICAgICAgIHZhciBjaXJjbGVfMTZhN2Q3OGYyOTcyNGExNWFmMjdiMjBkMjNlNjgxZDYgPSBMLmNpcmNsZSgKICAgICAgICAgICAgICAgIFs1Ni43MDQzNjcyLCAzNy4xNTYzMjM4XSwKICAgICAgICAgICAgICAgIHsiYnViYmxpbmdNb3VzZUV2ZW50cyI6IHRydWUsICJjb2xvciI6ICJjcmltc29uIiwgImRhc2hBcnJheSI6IG51bGwsICJkYXNoT2Zmc2V0IjogbnVsbCwgImZpbGwiOiB0cnVlLCAiZmlsbENvbG9yIjogImNyaW1zb24iLCAiZmlsbE9wYWNpdHkiOiAwLjIsICJmaWxsUnVsZSI6ICJldmVub2RkIiwgImxpbmVDYXAiOiAicm91bmQiLCAibGluZUpvaW4iOiAicm91bmQiLCAib3BhY2l0eSI6IDEuMCwgInJhZGl1cyI6IDU0NS40NTkzMTM0NTU1MzcyLCAic3Ryb2tlIjogdHJ1ZSwgIndlaWdodCI6IDN9CiAgICAgICAgICAgICkuYWRkVG8obWFwXzA0ZjRlMzY3NmUxMTQ3NjhhYzhlYmVkZjViMDI5YTBlKTsKICAgICAgICAKICAgIAogICAgICAgIHZhciBwb3B1cF8yODdlNWM5YzhiZTI0NWQzYjAzMTAyNDdkZDBjZmYzMSA9IEwucG9wdXAoeyJtYXhXaWR0aCI6ICIxMDAlIn0pOwoKICAgICAgICAKICAgICAgICAgICAgdmFyIGh0bWxfNzQ5MzIzNzdjOWQzNDc2N2FmNjYwZWM1Y2U3YzgxNjEgPSAkKGA8ZGl2IGlkPSJodG1sXzc0OTMyMzc3YzlkMzQ3NjdhZjY2MGVjNWNlN2M4MTYxIiBzdHlsZT0id2lkdGg6IDEwMC4wJTsgaGVpZ2h0OiAxMDAuMCU7Ij48c3Ryb25nPkRtaXRyb3Zza29lPC9zdHJvbmc+ICgyMDggSG9tZSBTYWxlcyk8L2Rpdj5gKVswXTsKICAgICAgICAgICAgcG9wdXBfMjg3ZTVjOWM4YmUyNDVkM2IwMzEwMjQ3ZGQwY2ZmMzEuc2V0Q29udGVudChodG1sXzc0OTMyMzc3YzlkMzQ3NjdhZjY2MGVjNWNlN2M4MTYxKTsKICAgICAgICAKCiAgICAgICAgY2lyY2xlXzE2YTdkNzhmMjk3MjRhMTVhZjI3YjIwZDIzZTY4MWQ2LmJpbmRQb3B1cChwb3B1cF8yODdlNWM5YzhiZTI0NWQzYjAzMTAyNDdkZDBjZmYzMSkKICAgICAgICA7CgogICAgICAgIAogICAgCiAgICAKICAgICAgICAgICAgdmFyIGNpcmNsZV82N2I1NjQwZmEzYmI0MDUxOWM1ZDljY2Q2MjlhODM0NCA9IEwuY2lyY2xlKAogICAgICAgICAgICAgICAgWzU1LjY3NDYxMTcsIDM3LjY0NTQ4MDZdLAogICAgICAgICAgICAgICAgeyJidWJibGluZ01vdXNlRXZlbnRzIjogdHJ1ZSwgImNvbG9yIjogImNyaW1zb24iLCAiZGFzaEFycmF5IjogbnVsbCwgImRhc2hPZmZzZXQiOiBudWxsLCAiZmlsbCI6IHRydWUsICJmaWxsQ29sb3IiOiAiY3JpbXNvbiIsICJmaWxsT3BhY2l0eSI6IDAuMiwgImZpbGxSdWxlIjogImV2ZW5vZGQiLCAibGluZUNhcCI6ICJyb3VuZCIsICJsaW5lSm9pbiI6ICJyb3VuZCIsICJvcGFjaXR5IjogMS4wLCAicmFkaXVzIjogNTMyLjM0NzMxMDcyODI0MDcsICJzdHJva2UiOiB0cnVlLCAid2VpZ2h0IjogM30KICAgICAgICAgICAgKS5hZGRUbyhtYXBfMDRmNGUzNjc2ZTExNDc2OGFjOGViZWRmNWIwMjlhMGUpOwogICAgICAgIAogICAgCiAgICAgICAgdmFyIHBvcHVwX2QzN2JhMmUxNGU4ZjRjNTdiN2E0MTU2NmFmNjgzODBhID0gTC5wb3B1cCh7Im1heFdpZHRoIjogIjEwMCUifSk7CgogICAgICAgIAogICAgICAgICAgICB2YXIgaHRtbF9iMzFkNmUyMDMwNmU0ZGIyODIwNTU0YWVhZTcyYzdmZCA9ICQoYDxkaXYgaWQ9Imh0bWxfYjMxZDZlMjAzMDZlNGRiMjgyMDU1NGFlYWU3MmM3ZmQiIHN0eWxlPSJ3aWR0aDogMTAwLjAlOyBoZWlnaHQ6IDEwMC4wJTsiPjxzdHJvbmc+TmFnYXRpbm8tU2Fkb3ZuaWtpPC9zdHJvbmc+ICgyMDMgSG9tZSBTYWxlcyk8L2Rpdj5gKVswXTsKICAgICAgICAgICAgcG9wdXBfZDM3YmEyZTE0ZThmNGM1N2I3YTQxNTY2YWY2ODM4MGEuc2V0Q29udGVudChodG1sX2IzMWQ2ZTIwMzA2ZTRkYjI4MjA1NTRhZWFlNzJjN2ZkKTsKICAgICAgICAKCiAgICAgICAgY2lyY2xlXzY3YjU2NDBmYTNiYjQwNTE5YzVkOWNjZDYyOWE4MzQ0LmJpbmRQb3B1cChwb3B1cF9kMzdiYTJlMTRlOGY0YzU3YjdhNDE1NjZhZjY4MzgwYSkKICAgICAgICA7CgogICAgICAgIAogICAgCiAgICAKICAgICAgICAgICAgdmFyIGNpcmNsZV81YzA5MTgyNWFhNmQ0OGI4YmY2NTMwZmZjMGMxNTZiMSA9IEwuY2lyY2xlKAogICAgICAgICAgICAgICAgWzU1LjY0NjA5NjcsIDM3LjM1MzExNjk5NDA2NzhdLAogICAgICAgICAgICAgICAgeyJidWJibGluZ01vdXNlRXZlbnRzIjogdHJ1ZSwgImNvbG9yIjogImNyaW1zb24iLCAiZGFzaEFycmF5IjogbnVsbCwgImRhc2hPZmZzZXQiOiBudWxsLCAiZmlsbCI6IHRydWUsICJmaWxsQ29sb3IiOiAiY3JpbXNvbiIsICJmaWxsT3BhY2l0eSI6IDAuMiwgImZpbGxSdWxlIjogImV2ZW5vZGQiLCAibGluZUNhcCI6ICJyb3VuZCIsICJsaW5lSm9pbiI6ICJyb3VuZCIsICJvcGFjaXR5IjogMS4wLCAicmFkaXVzIjogNTE2LjYxMjkwNzQ1NTQ4NDgsICJzdHJva2UiOiB0cnVlLCAid2VpZ2h0IjogM30KICAgICAgICAgICAgKS5hZGRUbyhtYXBfMDRmNGUzNjc2ZTExNDc2OGFjOGViZWRmNWIwMjlhMGUpOwogICAgICAgIAogICAgCiAgICAgICAgdmFyIHBvcHVwXzlhMWJhYzZkMGM4MDQ4ZmRiNzdjMTE2YjY4MTM4ZGE0ID0gTC5wb3B1cCh7Im1heFdpZHRoIjogIjEwMCUifSk7CgogICAgICAgIAogICAgICAgICAgICB2YXIgaHRtbF9kYzczMDUzMWZjNWY0Yzc5OGU1YzU5MmM2NDdhMDIxNiA9ICQoYDxkaXYgaWQ9Imh0bWxfZGM3MzA1MzFmYzVmNGM3OThlNWM1OTJjNjQ3YTAyMTYiIHN0eWxlPSJ3aWR0aDogMTAwLjAlOyBoZWlnaHQ6IDEwMC4wJTsiPjxzdHJvbmc+Tm92by1QZXJlZGVsa2lubzwvc3Ryb25nPiAoMTk3IEhvbWUgU2FsZXMpPC9kaXY+YClbMF07CiAgICAgICAgICAgIHBvcHVwXzlhMWJhYzZkMGM4MDQ4ZmRiNzdjMTE2YjY4MTM4ZGE0LnNldENvbnRlbnQoaHRtbF9kYzczMDUzMWZjNWY0Yzc5OGU1YzU5MmM2NDdhMDIxNik7CiAgICAgICAgCgogICAgICAgIGNpcmNsZV81YzA5MTgyNWFhNmQ0OGI4YmY2NTMwZmZjMGMxNTZiMS5iaW5kUG9wdXAocG9wdXBfOWExYmFjNmQwYzgwNDhmZGI3N2MxMTZiNjgxMzhkYTQpCiAgICAgICAgOwoKICAgICAgICAKICAgIAogICAgCiAgICAgICAgICAgIHZhciBjaXJjbGVfNDcxNmQxMzhhM2FmNGI1ZWJhMzQ1Y2E1M2Y1YmI0NTQgPSBMLmNpcmNsZSgKICAgICAgICAgICAgICAgIFs1NS43OTU4LCAzNy42OTg0NjkzNV0sCiAgICAgICAgICAgICAgICB7ImJ1YmJsaW5nTW91c2VFdmVudHMiOiB0cnVlLCAiY29sb3IiOiAiY3JpbXNvbiIsICJkYXNoQXJyYXkiOiBudWxsLCAiZGFzaE9mZnNldCI6IG51bGwsICJmaWxsIjogdHJ1ZSwgImZpbGxDb2xvciI6ICJjcmltc29uIiwgImZpbGxPcGFjaXR5IjogMC4yLCAiZmlsbFJ1bGUiOiAiZXZlbm9kZCIsICJsaW5lQ2FwIjogInJvdW5kIiwgImxpbmVKb2luIjogInJvdW5kIiwgIm9wYWNpdHkiOiAxLjAsICJyYWRpdXMiOiA0OTguMjU2MTAzNjM3MjY5NiwgInN0cm9rZSI6IHRydWUsICJ3ZWlnaHQiOiAzfQogICAgICAgICAgICApLmFkZFRvKG1hcF8wNGY0ZTM2NzZlMTE0NzY4YWM4ZWJlZGY1YjAyOWEwZSk7CiAgICAgICAgCiAgICAKICAgICAgICB2YXIgcG9wdXBfNTk5OWYzNmRiZWQzNGJkZDk4OTE1NmMwMmNiMzlmZWYgPSBMLnBvcHVwKHsibWF4V2lkdGgiOiAiMTAwJSJ9KTsKCiAgICAgICAgCiAgICAgICAgICAgIHZhciBodG1sXzJhNzBkMmVjODk5ZDRkMzM4OTgzNzZmZWYyNmZkYTllID0gJChgPGRpdiBpZD0iaHRtbF8yYTcwZDJlYzg5OWQ0ZDMzODk4Mzc2ZmVmMjZmZGE5ZSIgc3R5bGU9IndpZHRoOiAxMDAuMCU7IGhlaWdodDogMTAwLjAlOyI+PHN0cm9uZz5QcmVvYnJhemhlbnNrb2U8L3N0cm9uZz4gKDE5MCBIb21lIFNhbGVzKTwvZGl2PmApWzBdOwogICAgICAgICAgICBwb3B1cF81OTk5ZjM2ZGJlZDM0YmRkOTg5MTU2YzAyY2IzOWZlZi5zZXRDb250ZW50KGh0bWxfMmE3MGQyZWM4OTlkNGQzMzg5ODM3NmZlZjI2ZmRhOWUpOwogICAgICAgIAoKICAgICAgICBjaXJjbGVfNDcxNmQxMzhhM2FmNGI1ZWJhMzQ1Y2E1M2Y1YmI0NTQuYmluZFBvcHVwKHBvcHVwXzU5OTlmMzZkYmVkMzRiZGQ5ODkxNTZjMDJjYjM5ZmVmKQogICAgICAgIDsKCiAgICAgICAgCiAgICAKICAgIAogICAgICAgICAgICB2YXIgY2lyY2xlXzU5YTc0NzYxN2JkZDRhMmVhYjQ1MDYwNzAyNTU3MjdiID0gTC5jaXJjbGUoCiAgICAgICAgICAgICAgICBbNTUuNjY1NTM0OCwgMzcuNTkzMDAwMl0sCiAgICAgICAgICAgICAgICB7ImJ1YmJsaW5nTW91c2VFdmVudHMiOiB0cnVlLCAiY29sb3IiOiAiY3JpbXNvbiIsICJkYXNoQXJyYXkiOiBudWxsLCAiZGFzaE9mZnNldCI6IG51bGwsICJmaWxsIjogdHJ1ZSwgImZpbGxDb2xvciI6ICJjcmltc29uIiwgImZpbGxPcGFjaXR5IjogMC4yLCAiZmlsbFJ1bGUiOiAiZXZlbm9kZCIsICJsaW5lQ2FwIjogInJvdW5kIiwgImxpbmVKb2luIjogInJvdW5kIiwgIm9wYWNpdHkiOiAxLjAsICJyYWRpdXMiOiA0ODIuNTIxNzAwMzY0NTEzNjYsICJzdHJva2UiOiB0cnVlLCAid2VpZ2h0IjogM30KICAgICAgICAgICAgKS5hZGRUbyhtYXBfMDRmNGUzNjc2ZTExNDc2OGFjOGViZWRmNWIwMjlhMGUpOwogICAgICAgIAogICAgCiAgICAgICAgdmFyIHBvcHVwX2ViOTYzNjJjNjlkNDQ3M2RhZTJhNTJhOWY0YTRkODM3ID0gTC5wb3B1cCh7Im1heFdpZHRoIjogIjEwMCUifSk7CgogICAgICAgIAogICAgICAgICAgICB2YXIgaHRtbF8wMmU0ZmExNWQyYWE0NjA1YWM5YzgxZjlkZjRlMTk3ZiA9ICQoYDxkaXYgaWQ9Imh0bWxfMDJlNGZhMTVkMmFhNDYwNWFjOWM4MWY5ZGY0ZTE5N2YiIHN0eWxlPSJ3aWR0aDogMTAwLjAlOyBoZWlnaHQ6IDEwMC4wJTsiPjxzdHJvbmc+S290bG92a2E8L3N0cm9uZz4gKDE4NCBIb21lIFNhbGVzKTwvZGl2PmApWzBdOwogICAgICAgICAgICBwb3B1cF9lYjk2MzYyYzY5ZDQ0NzNkYWUyYTUyYTlmNGE0ZDgzNy5zZXRDb250ZW50KGh0bWxfMDJlNGZhMTVkMmFhNDYwNWFjOWM4MWY5ZGY0ZTE5N2YpOwogICAgICAgIAoKICAgICAgICBjaXJjbGVfNTlhNzQ3NjE3YmRkNGEyZWFiNDUwNjA3MDI1NTcyN2IuYmluZFBvcHVwKHBvcHVwX2ViOTYzNjJjNjlkNDQ3M2RhZTJhNTJhOWY0YTRkODM3KQogICAgICAgIDsKCiAgICAgICAgCiAgICAKICAgIAogICAgICAgICAgICB2YXIgY2lyY2xlXzg5YmMzOTlhZmMzYTQyMzRhNzY0NzkzZmM4MDJkYWEwID0gTC5jaXJjbGUoCiAgICAgICAgICAgICAgICBbNTUuNzQyMjczLCAzNy44NjU2NDg2XSwKICAgICAgICAgICAgICAgIHsiYnViYmxpbmdNb3VzZUV2ZW50cyI6IHRydWUsICJjb2xvciI6ICJjcmltc29uIiwgImRhc2hBcnJheSI6IG51bGwsICJkYXNoT2Zmc2V0IjogbnVsbCwgImZpbGwiOiB0cnVlLCAiZmlsbENvbG9yIjogImNyaW1zb24iLCAiZmlsbE9wYWNpdHkiOiAwLjIsICJmaWxsUnVsZSI6ICJldmVub2RkIiwgImxpbmVDYXAiOiAicm91bmQiLCAibGluZUpvaW4iOiAicm91bmQiLCAib3BhY2l0eSI6IDEuMCwgInJhZGl1cyI6IDQ1OC45MjAwOTU0NTUzNzk4NSwgInN0cm9rZSI6IHRydWUsICJ3ZWlnaHQiOiAzfQogICAgICAgICAgICApLmFkZFRvKG1hcF8wNGY0ZTM2NzZlMTE0NzY4YWM4ZWJlZGY1YjAyOWEwZSk7CiAgICAgICAgCiAgICAKICAgICAgICB2YXIgcG9wdXBfNTEzMWJjYzU3OTI3NDhhYmFjZTA4YzAzN2M0ZjE2NjUgPSBMLnBvcHVwKHsibWF4V2lkdGgiOiAiMTAwJSJ9KTsKCiAgICAgICAgCiAgICAgICAgICAgIHZhciBodG1sXzRhOGZlMGY0ZTExNjQzYWRhMzg0NDQ4ZmViZGYzMmVlID0gJChgPGRpdiBpZD0iaHRtbF80YThmZTBmNGUxMTY0M2FkYTM4NDQ0OGZlYmRmMzJlZSIgc3R5bGU9IndpZHRoOiAxMDAuMCU7IGhlaWdodDogMTAwLjAlOyI+PHN0cm9uZz5Ob3Zva29zaW5vPC9zdHJvbmc+ICgxNzUgSG9tZSBTYWxlcyk8L2Rpdj5gKVswXTsKICAgICAgICAgICAgcG9wdXBfNTEzMWJjYzU3OTI3NDhhYmFjZTA4YzAzN2M0ZjE2NjUuc2V0Q29udGVudChodG1sXzRhOGZlMGY0ZTExNjQzYWRhMzg0NDQ4ZmViZGYzMmVlKTsKICAgICAgICAKCiAgICAgICAgY2lyY2xlXzg5YmMzOTlhZmMzYTQyMzRhNzY0NzkzZmM4MDJkYWEwLmJpbmRQb3B1cChwb3B1cF81MTMxYmNjNTc5Mjc0OGFiYWNlMDhjMDM3YzRmMTY2NSkKICAgICAgICA7CgogICAgICAgIAogICAgCiAgICAKICAgICAgICAgICAgdmFyIGNpcmNsZV80MTc0ZDVjYTE0MGE0YTg1OWQwOWExZDI2YTMxMDYyMSA9IEwuY2lyY2xlKAogICAgICAgICAgICAgICAgWzU1LjcyODg5OTUsIDM3LjQ2NzMzNzldLAogICAgICAgICAgICAgICAgeyJidWJibGluZ01vdXNlRXZlbnRzIjogdHJ1ZSwgImNvbG9yIjogImNyaW1zb24iLCAiZGFzaEFycmF5IjogbnVsbCwgImRhc2hPZmZzZXQiOiBudWxsLCAiZmlsbCI6IHRydWUsICJmaWxsQ29sb3IiOiAiY3JpbXNvbiIsICJmaWxsT3BhY2l0eSI6IDAuMiwgImZpbGxSdWxlIjogImV2ZW5vZGQiLCAibGluZUNhcCI6ICJyb3VuZCIsICJsaW5lSm9pbiI6ICJyb3VuZCIsICJvcGFjaXR5IjogMS4wLCAicmFkaXVzIjogNDUzLjY3NTI5NDM2NDQ2MTIsICJzdHJva2UiOiB0cnVlLCAid2VpZ2h0IjogM30KICAgICAgICAgICAgKS5hZGRUbyhtYXBfMDRmNGUzNjc2ZTExNDc2OGFjOGViZWRmNWIwMjlhMGUpOwogICAgICAgIAogICAgCiAgICAgICAgdmFyIHBvcHVwXzM5YTUxZmIwZWY0NjQxYWJhYTJmNjI0Njk0NzMyNTBkID0gTC5wb3B1cCh7Im1heFdpZHRoIjogIjEwMCUifSk7CgogICAgICAgIAogICAgICAgICAgICB2YXIgaHRtbF8wMDI1ZTk3NWFiOTU0OTc5OWQ0YTM3MTcxMDdhNDkwMCA9ICQoYDxkaXYgaWQ9Imh0bWxfMDAyNWU5NzVhYjk1NDk3OTlkNGEzNzE3MTA3YTQ5MDAiIHN0eWxlPSJ3aWR0aDogMTAwLjAlOyBoZWlnaHQ6IDEwMC4wJTsiPjxzdHJvbmc+RmlsaSBEYXZ5ZGtvdm88L3N0cm9uZz4gKDE3MyBIb21lIFNhbGVzKTwvZGl2PmApWzBdOwogICAgICAgICAgICBwb3B1cF8zOWE1MWZiMGVmNDY0MWFiYWEyZjYyNDY5NDczMjUwZC5zZXRDb250ZW50KGh0bWxfMDAyNWU5NzVhYjk1NDk3OTlkNGEzNzE3MTA3YTQ5MDApOwogICAgICAgIAoKICAgICAgICBjaXJjbGVfNDE3NGQ1Y2ExNDBhNGE4NTlkMDlhMWQyNmEzMTA2MjEuYmluZFBvcHVwKHBvcHVwXzM5YTUxZmIwZWY0NjQxYWJhYTJmNjI0Njk0NzMyNTBkKQogICAgICAgIDsKCiAgICAgICAgCiAgICAKICAgIAogICAgICAgICAgICB2YXIgY2lyY2xlXzUyMzZiMWVjMDVhODRjNWNiNGRiMjlmMDgwYTRmNzVhID0gTC5jaXJjbGUoCiAgICAgICAgICAgICAgICBbNTUuNzU3Mzk4OCwgMzcuNzA0OTMxOV0sCiAgICAgICAgICAgICAgICB7ImJ1YmJsaW5nTW91c2VFdmVudHMiOiB0cnVlLCAiY29sb3IiOiAiY3JpbXNvbiIsICJkYXNoQXJyYXkiOiBudWxsLCAiZGFzaE9mZnNldCI6IG51bGwsICJmaWxsIjogdHJ1ZSwgImZpbGxDb2xvciI6ICJjcmltc29uIiwgImZpbGxPcGFjaXR5IjogMC4yLCAiZmlsbFJ1bGUiOiAiZXZlbm9kZCIsICJsaW5lQ2FwIjogInJvdW5kIiwgImxpbmVKb2luIjogInJvdW5kIiwgIm9wYWNpdHkiOiAxLjAsICJyYWRpdXMiOiA0MzUuMzE4NDkwNTQ2MjQ2MDQsICJzdHJva2UiOiB0cnVlLCAid2VpZ2h0IjogM30KICAgICAgICAgICAgKS5hZGRUbyhtYXBfMDRmNGUzNjc2ZTExNDc2OGFjOGViZWRmNWIwMjlhMGUpOwogICAgICAgIAogICAgCiAgICAgICAgdmFyIHBvcHVwX2NmNzBhZTE0NTdhYzQ4MjQ5NDUxNWVkMjAwNjYyNGZiID0gTC5wb3B1cCh7Im1heFdpZHRoIjogIjEwMCUifSk7CgogICAgICAgIAogICAgICAgICAgICB2YXIgaHRtbF80MjkzMzU1ZDA2ZDg0NjEwOWJmNWUyYmNmNTQxMjk5NiA9ICQoYDxkaXYgaWQ9Imh0bWxfNDI5MzM1NWQwNmQ4NDYxMDliZjVlMmJjZjU0MTI5OTYiIHN0eWxlPSJ3aWR0aDogMTAwLjAlOyBoZWlnaHQ6IDEwMC4wJTsiPjxzdHJvbmc+TGVmb3J0b3ZvPC9zdHJvbmc+ICgxNjYgSG9tZSBTYWxlcyk8L2Rpdj5gKVswXTsKICAgICAgICAgICAgcG9wdXBfY2Y3MGFlMTQ1N2FjNDgyNDk0NTE1ZWQyMDA2NjI0ZmIuc2V0Q29udGVudChodG1sXzQyOTMzNTVkMDZkODQ2MTA5YmY1ZTJiY2Y1NDEyOTk2KTsKICAgICAgICAKCiAgICAgICAgY2lyY2xlXzUyMzZiMWVjMDVhODRjNWNiNGRiMjlmMDgwYTRmNzVhLmJpbmRQb3B1cChwb3B1cF9jZjcwYWUxNDU3YWM0ODI0OTQ1MTVlZDIwMDY2MjRmYikKICAgICAgICA7CgogICAgICAgIAogICAgCiAgICAKICAgICAgICAgICAgdmFyIGNpcmNsZV83NDE1MjZlNDUyMmY0MzkyOTMwNjU3NTEwZjdmZDcyOCA9IEwuY2lyY2xlKAogICAgICAgICAgICAgICAgWzU1Ljg5NzMyOTMsIDM3LjU1MzI4NDFdLAogICAgICAgICAgICAgICAgeyJidWJibGluZ01vdXNlRXZlbnRzIjogdHJ1ZSwgImNvbG9yIjogImNyaW1zb24iLCAiZGFzaEFycmF5IjogbnVsbCwgImRhc2hPZmZzZXQiOiBudWxsLCAiZmlsbCI6IHRydWUsICJmaWxsQ29sb3IiOiAiY3JpbXNvbiIsICJmaWxsT3BhY2l0eSI6IDAuMiwgImZpbGxSdWxlIjogImV2ZW5vZGQiLCAibGluZUNhcCI6ICJyb3VuZCIsICJsaW5lSm9pbiI6ICJyb3VuZCIsICJvcGFjaXR5IjogMS4wLCAicmFkaXVzIjogNDE5LjU4NDA4NzI3MzQ5MDIsICJzdHJva2UiOiB0cnVlLCAid2VpZ2h0IjogM30KICAgICAgICAgICAgKS5hZGRUbyhtYXBfMDRmNGUzNjc2ZTExNDc2OGFjOGViZWRmNWIwMjlhMGUpOwogICAgICAgIAogICAgCiAgICAgICAgdmFyIHBvcHVwX2Q3ZDgwZDdkMTM1ODQ1ZWQ4MzdiOWM3MzUwMDEzNGUxID0gTC5wb3B1cCh7Im1heFdpZHRoIjogIjEwMCUifSk7CgogICAgICAgIAogICAgICAgICAgICB2YXIgaHRtbF80MDFlNTJhYTVlNWU0YzNhYjcyMTMwZDJiOGE1MDIwMSA9ICQoYDxkaXYgaWQ9Imh0bWxfNDAxZTUyYWE1ZTVlNGMzYWI3MjEzMGQyYjhhNTAyMDEiIHN0eWxlPSJ3aWR0aDogMTAwLjAlOyBoZWlnaHQ6IDEwMC4wJTsiPjxzdHJvbmc+TGlhbm96b3ZvPC9zdHJvbmc+ICgxNjAgSG9tZSBTYWxlcyk8L2Rpdj5gKVswXTsKICAgICAgICAgICAgcG9wdXBfZDdkODBkN2QxMzU4NDVlZDgzN2I5YzczNTAwMTM0ZTEuc2V0Q29udGVudChodG1sXzQwMWU1MmFhNWU1ZTRjM2FiNzIxMzBkMmI4YTUwMjAxKTsKICAgICAgICAKCiAgICAgICAgY2lyY2xlXzc0MTUyNmU0NTIyZjQzOTI5MzA2NTc1MTBmN2ZkNzI4LmJpbmRQb3B1cChwb3B1cF9kN2Q4MGQ3ZDEzNTg0NWVkODM3YjljNzM1MDAxMzRlMSkKICAgICAgICA7CgogICAgICAgIAogICAgCiAgICAKICAgICAgICAgICAgdmFyIGNpcmNsZV8zYTM0NTQ2NTcyYjY0NDFjODQyYWMzZTVmN2U0ZTRkYSA9IEwuY2lyY2xlKAogICAgICAgICAgICAgICAgWzU1LjY0OTg0NzE1LCAzNy40NjE1MTc2NTc0MjQxXSwKICAgICAgICAgICAgICAgIHsiYnViYmxpbmdNb3VzZUV2ZW50cyI6IHRydWUsICJjb2xvciI6ICJjcmltc29uIiwgImRhc2hBcnJheSI6IG51bGwsICJkYXNoT2Zmc2V0IjogbnVsbCwgImZpbGwiOiB0cnVlLCAiZmlsbENvbG9yIjogImNyaW1zb24iLCAiZmlsbE9wYWNpdHkiOiAwLjIsICJmaWxsUnVsZSI6ICJldmVub2RkIiwgImxpbmVDYXAiOiAicm91bmQiLCAibGluZUpvaW4iOiAicm91bmQiLCAib3BhY2l0eSI6IDEuMCwgInJhZGl1cyI6IDQwMy44NDk2ODQwMDA3MzQzLCAic3Ryb2tlIjogdHJ1ZSwgIndlaWdodCI6IDN9CiAgICAgICAgICAgICkuYWRkVG8obWFwXzA0ZjRlMzY3NmUxMTQ3NjhhYzhlYmVkZjViMDI5YTBlKTsKICAgICAgICAKICAgIAogICAgICAgIHZhciBwb3B1cF84NWVkMzViNjVmOTk0MzQ2OTJhYTMzN2I3NjU5ZTA3OCA9IEwucG9wdXAoeyJtYXhXaWR0aCI6ICIxMDAlIn0pOwoKICAgICAgICAKICAgICAgICAgICAgdmFyIGh0bWxfMWIyNGVmYjcxYjkyNDg2MTg3MDMzOTQ5MjFiYmY3YzUgPSAkKGA8ZGl2IGlkPSJodG1sXzFiMjRlZmI3MWI5MjQ4NjE4NzAzMzk0OTIxYmJmN2M1IiBzdHlsZT0id2lkdGg6IDEwMC4wJTsgaGVpZ2h0OiAxMDAuMCU7Ij48c3Ryb25nPlRyb3BhcmV2by1OaWt1bGlubzwvc3Ryb25nPiAoMTU0IEhvbWUgU2FsZXMpPC9kaXY+YClbMF07CiAgICAgICAgICAgIHBvcHVwXzg1ZWQzNWI2NWY5OTQzNDY5MmFhMzM3Yjc2NTllMDc4LnNldENvbnRlbnQoaHRtbF8xYjI0ZWZiNzFiOTI0ODYxODcwMzM5NDkyMWJiZjdjNSk7CiAgICAgICAgCgogICAgICAgIGNpcmNsZV8zYTM0NTQ2NTcyYjY0NDFjODQyYWMzZTVmN2U0ZTRkYS5iaW5kUG9wdXAocG9wdXBfODVlZDM1YjY1Zjk5NDM0NjkyYWEzMzdiNzY1OWUwNzgpCiAgICAgICAgOwoKICAgICAgICAKICAgIAogICAgCiAgICAgICAgICAgIHZhciBjaXJjbGVfNDc5ZTk0MjczMjA1NDg0MTk3NmVkOWU3N2NlMDA1ZGYgPSBMLmNpcmNsZSgKICAgICAgICAgICAgICAgIFs1NS44NjA2NTc2LCAzNy41NjU5NTAyXSwKICAgICAgICAgICAgICAgIHsiYnViYmxpbmdNb3VzZUV2ZW50cyI6IHRydWUsICJjb2xvciI6ICJjcmltc29uIiwgImRhc2hBcnJheSI6IG51bGwsICJkYXNoT2Zmc2V0IjogbnVsbCwgImZpbGwiOiB0cnVlLCAiZmlsbENvbG9yIjogImNyaW1zb24iLCAiZmlsbE9wYWNpdHkiOiAwLjIsICJmaWxsUnVsZSI6ICJldmVub2RkIiwgImxpbmVDYXAiOiAicm91bmQiLCAibGluZUpvaW4iOiAicm91bmQiLCAib3BhY2l0eSI6IDEuMCwgInJhZGl1cyI6IDM3Ny42MjU2Nzg1NDYxNDExLCAic3Ryb2tlIjogdHJ1ZSwgIndlaWdodCI6IDN9CiAgICAgICAgICAgICkuYWRkVG8obWFwXzA0ZjRlMzY3NmUxMTQ3NjhhYzhlYmVkZjViMDI5YTBlKTsKICAgICAgICAKICAgIAogICAgICAgIHZhciBwb3B1cF82NjBiZDgwNDg2OTk0YjRiYmFkOWQwMDFmOWViN2EyYiA9IEwucG9wdXAoeyJtYXhXaWR0aCI6ICIxMDAlIn0pOwoKICAgICAgICAKICAgICAgICAgICAgdmFyIGh0bWxfMTg1ZTk2MjlhZWI4NDJkZjg4NDFhODViMjFiNTNhMTUgPSAkKGA8ZGl2IGlkPSJodG1sXzE4NWU5NjI5YWViODQyZGY4ODQxYTg1YjIxYjUzYTE1IiBzdHlsZT0id2lkdGg6IDEwMC4wJTsgaGVpZ2h0OiAxMDAuMCU7Ij48c3Ryb25nPlZvc3RvY2hub2UgRGVndW5pbm88L3N0cm9uZz4gKDE0NCBIb21lIFNhbGVzKTwvZGl2PmApWzBdOwogICAgICAgICAgICBwb3B1cF82NjBiZDgwNDg2OTk0YjRiYmFkOWQwMDFmOWViN2EyYi5zZXRDb250ZW50KGh0bWxfMTg1ZTk2MjlhZWI4NDJkZjg4NDFhODViMjFiNTNhMTUpOwogICAgICAgIAoKICAgICAgICBjaXJjbGVfNDc5ZTk0MjczMjA1NDg0MTk3NmVkOWU3N2NlMDA1ZGYuYmluZFBvcHVwKHBvcHVwXzY2MGJkODA0ODY5OTRiNGJiYWQ5ZDAwMWY5ZWI3YTJiKQogICAgICAgIDsKCiAgICAgICAgCiAgICAKICAgIAogICAgICAgICAgICB2YXIgY2lyY2xlX2JlOGFhN2Y5YTRiZDQ1MzY5N2Q4YzA0NzFmNjdhZjc3ID0gTC5jaXJjbGUoCiAgICAgICAgICAgICAgICBbNTUuNTkwOTc2NjUsIDM3LjYzNTMwNDQ1NTY2ODNdLAogICAgICAgICAgICAgICAgeyJidWJibGluZ01vdXNlRXZlbnRzIjogdHJ1ZSwgImNvbG9yIjogImNyaW1zb24iLCAiZGFzaEFycmF5IjogbnVsbCwgImRhc2hPZmZzZXQiOiBudWxsLCAiZmlsbCI6IHRydWUsICJmaWxsQ29sb3IiOiAiY3JpbXNvbiIsICJmaWxsT3BhY2l0eSI6IDAuMiwgImZpbGxSdWxlIjogImV2ZW5vZGQiLCAibGluZUNhcCI6ICJyb3VuZCIsICJsaW5lSm9pbiI6ICJyb3VuZCIsICJvcGFjaXR5IjogMS4wLCAicmFkaXVzIjogMzY3LjEzNjA3NjM2NDMwMzksICJzdHJva2UiOiB0cnVlLCAid2VpZ2h0IjogM30KICAgICAgICAgICAgKS5hZGRUbyhtYXBfMDRmNGUzNjc2ZTExNDc2OGFjOGViZWRmNWIwMjlhMGUpOwogICAgICAgIAogICAgCiAgICAgICAgdmFyIHBvcHVwXzBmMGNhNWYwNmU2NjQxMGY5ZDA5MmVkZWEyZWNlZWZkID0gTC5wb3B1cCh7Im1heFdpZHRoIjogIjEwMCUifSk7CgogICAgICAgIAogICAgICAgICAgICB2YXIgaHRtbF8yZDhhOGQ3MGZkMmU0ZjZjYjkxYWJkYWQzN2Y5NGU2MyA9ICQoYDxkaXYgaWQ9Imh0bWxfMmQ4YThkNzBmZDJlNGY2Y2I5MWFiZGFkMzdmOTRlNjMiIHN0eWxlPSJ3aWR0aDogMTAwLjAlOyBoZWlnaHQ6IDEwMC4wJTsiPjxzdHJvbmc+QmlyanVsZXZvIFphcGFkbm9lPC9zdHJvbmc+ICgxNDAgSG9tZSBTYWxlcyk8L2Rpdj5gKVswXTsKICAgICAgICAgICAgcG9wdXBfMGYwY2E1ZjA2ZTY2NDEwZjlkMDkyZWRlYTJlY2VlZmQuc2V0Q29udGVudChodG1sXzJkOGE4ZDcwZmQyZTRmNmNiOTFhYmRhZDM3Zjk0ZTYzKTsKICAgICAgICAKCiAgICAgICAgY2lyY2xlX2JlOGFhN2Y5YTRiZDQ1MzY5N2Q4YzA0NzFmNjdhZjc3LmJpbmRQb3B1cChwb3B1cF8wZjBjYTVmMDZlNjY0MTBmOWQwOTJlZGVhMmVjZWVmZCkKICAgICAgICA7CgogICAgICAgIAogICAgCiAgICAKICAgICAgICAgICAgdmFyIGNpcmNsZV9lOTUwMDA5Mjk1NGI0MTQ0ODY0ZmM2Y2Q1YmVkYzQ3ZiA9IEwuY2lyY2xlKAogICAgICAgICAgICAgICAgWzU1Ljc2MjE2OTgsIDM3LjQxMDg4Ml0sCiAgICAgICAgICAgICAgICB7ImJ1YmJsaW5nTW91c2VFdmVudHMiOiB0cnVlLCAiY29sb3IiOiAiY3JpbXNvbiIsICJkYXNoQXJyYXkiOiBudWxsLCAiZGFzaE9mZnNldCI6IG51bGwsICJmaWxsIjogdHJ1ZSwgImZpbGxDb2xvciI6ICJjcmltc29uIiwgImZpbGxPcGFjaXR5IjogMC4yLCAiZmlsbFJ1bGUiOiAiZXZlbm9kZCIsICJsaW5lQ2FwIjogInJvdW5kIiwgImxpbmVKb2luIjogInJvdW5kIiwgIm9wYWNpdHkiOiAxLjAsICJyYWRpdXMiOiAzNTYuNjQ2NDc0MTgyNDY2NjUsICJzdHJva2UiOiB0cnVlLCAid2VpZ2h0IjogM30KICAgICAgICAgICAgKS5hZGRUbyhtYXBfMDRmNGUzNjc2ZTExNDc2OGFjOGViZWRmNWIwMjlhMGUpOwogICAgICAgIAogICAgCiAgICAgICAgdmFyIHBvcHVwXzkxNWJmMDI5M2IwNDRlMTk5MmI4MTY1ZDAzNDA4YjA4ID0gTC5wb3B1cCh7Im1heFdpZHRoIjogIjEwMCUifSk7CgogICAgICAgIAogICAgICAgICAgICB2YXIgaHRtbF9iOTgwNGVhZjViNDc0ZDc5YjY4NGRlNTYxZjdhNTk0ZCA9ICQoYDxkaXYgaWQ9Imh0bWxfYjk4MDRlYWY1YjQ3NGQ3OWI2ODRkZTU2MWY3YTU5NGQiIHN0eWxlPSJ3aWR0aDogMTAwLjAlOyBoZWlnaHQ6IDEwMC4wJTsiPjxzdHJvbmc+S3J5bGF0c2tvZTwvc3Ryb25nPiAoMTM2IEhvbWUgU2FsZXMpPC9kaXY+YClbMF07CiAgICAgICAgICAgIHBvcHVwXzkxNWJmMDI5M2IwNDRlMTk5MmI4MTY1ZDAzNDA4YjA4LnNldENvbnRlbnQoaHRtbF9iOTgwNGVhZjViNDc0ZDc5YjY4NGRlNTYxZjdhNTk0ZCk7CiAgICAgICAgCgogICAgICAgIGNpcmNsZV9lOTUwMDA5Mjk1NGI0MTQ0ODY0ZmM2Y2Q1YmVkYzQ3Zi5iaW5kUG9wdXAocG9wdXBfOTE1YmYwMjkzYjA0NGUxOTkyYjgxNjVkMDM0MDhiMDgpCiAgICAgICAgOwoKICAgICAgICAKICAgIAogICAgCiAgICAgICAgICAgIHZhciBjaXJjbGVfNjYyMTFhYjRmMGVlNDU1OTljOTY0ZWY1Njg2NGEzYTIgPSBMLmNpcmNsZSgKICAgICAgICAgICAgICAgIFs1Ni4wMDk1MzUxLCAzNy4xOTczNzgyXSwKICAgICAgICAgICAgICAgIHsiYnViYmxpbmdNb3VzZUV2ZW50cyI6IHRydWUsICJjb2xvciI6ICJjcmltc29uIiwgImRhc2hBcnJheSI6IG51bGwsICJkYXNoT2Zmc2V0IjogbnVsbCwgImZpbGwiOiB0cnVlLCAiZmlsbENvbG9yIjogImNyaW1zb24iLCAiZmlsbE9wYWNpdHkiOiAwLjIsICJmaWxsUnVsZSI6ICJldmVub2RkIiwgImxpbmVDYXAiOiAicm91bmQiLCAibGluZUpvaW4iOiAicm91bmQiLCAib3BhY2l0eSI6IDEuMCwgInJhZGl1cyI6IDMzMy4wNDQ4NjkyNzMzMzI4LCAic3Ryb2tlIjogdHJ1ZSwgIndlaWdodCI6IDN9CiAgICAgICAgICAgICkuYWRkVG8obWFwXzA0ZjRlMzY3NmUxMTQ3NjhhYzhlYmVkZjViMDI5YTBlKTsKICAgICAgICAKICAgIAogICAgICAgIHZhciBwb3B1cF8zYWYzMzJlM2VlM2Y0NDkyYTAwMjU3NzkyOGVlNDA1NSA9IEwucG9wdXAoeyJtYXhXaWR0aCI6ICIxMDAlIn0pOwoKICAgICAgICAKICAgICAgICAgICAgdmFyIGh0bWxfMTM3OWRjOWQwZGFlNDRkZDhkMDM5NzRlMmM1YTZjMDggPSAkKGA8ZGl2IGlkPSJodG1sXzEzNzlkYzlkMGRhZTQ0ZGQ4ZDAzOTc0ZTJjNWE2YzA4IiBzdHlsZT0id2lkdGg6IDEwMC4wJTsgaGVpZ2h0OiAxMDAuMCU7Ij48c3Ryb25nPk1hdHVzaGtpbm88L3N0cm9uZz4gKDEyNyBIb21lIFNhbGVzKTwvZGl2PmApWzBdOwogICAgICAgICAgICBwb3B1cF8zYWYzMzJlM2VlM2Y0NDkyYTAwMjU3NzkyOGVlNDA1NS5zZXRDb250ZW50KGh0bWxfMTM3OWRjOWQwZGFlNDRkZDhkMDM5NzRlMmM1YTZjMDgpOwogICAgICAgIAoKICAgICAgICBjaXJjbGVfNjYyMTFhYjRmMGVlNDU1OTljOTY0ZWY1Njg2NGEzYTIuYmluZFBvcHVwKHBvcHVwXzNhZjMzMmUzZWUzZjQ0OTJhMDAyNTc3OTI4ZWU0MDU1KQogICAgICAgIDsKCiAgICAgICAgCiAgICAKICAgIAogICAgICAgICAgICB2YXIgY2lyY2xlXzlmN2RjMGMwMmE5OTRjMzk4ZmRlYzBiZWRkMmJkYzQ5ID0gTC5jaXJjbGUoCiAgICAgICAgICAgICAgICBbNTUuNjc3MjQ3NCwgMzcuNTA2MDA3MV0sCiAgICAgICAgICAgICAgICB7ImJ1YmJsaW5nTW91c2VFdmVudHMiOiB0cnVlLCAiY29sb3IiOiAiY3JpbXNvbiIsICJkYXNoQXJyYXkiOiBudWxsLCAiZGFzaE9mZnNldCI6IG51bGwsICJmaWxsIjogdHJ1ZSwgImZpbGxDb2xvciI6ICJjcmltc29uIiwgImZpbGxPcGFjaXR5IjogMC4yLCAiZmlsbFJ1bGUiOiAiZXZlbm9kZCIsICJsaW5lQ2FwIjogInJvdW5kIiwgImxpbmVKb2luIjogInJvdW5kIiwgIm9wYWNpdHkiOiAxLjAsICJyYWRpdXMiOiAzMDQuMTk4NDYzMjczMjgwMzcsICJzdHJva2UiOiB0cnVlLCAid2VpZ2h0IjogM30KICAgICAgICAgICAgKS5hZGRUbyhtYXBfMDRmNGUzNjc2ZTExNDc2OGFjOGViZWRmNWIwMjlhMGUpOwogICAgICAgIAogICAgCiAgICAgICAgdmFyIHBvcHVwXzJhNWUwYjM1YjE1NDQ4MTJiNzI3ZWNjMjlkMTNiZTU4ID0gTC5wb3B1cCh7Im1heFdpZHRoIjogIjEwMCUifSk7CgogICAgICAgIAogICAgICAgICAgICB2YXIgaHRtbF80MTEyYmRjYWY4Mjg0OTY3OTJiN2QxNjM0YjU5ZDM5MiA9ICQoYDxkaXYgaWQ9Imh0bWxfNDExMmJkY2FmODI4NDk2NzkyYjdkMTYzNGI1OWQzOTIiIHN0eWxlPSJ3aWR0aDogMTAwLjAlOyBoZWlnaHQ6IDEwMC4wJTsiPjxzdHJvbmc+UHJvc3Bla3QgVmVybmFkc2tvZ288L3N0cm9uZz4gKDExNiBIb21lIFNhbGVzKTwvZGl2PmApWzBdOwogICAgICAgICAgICBwb3B1cF8yYTVlMGIzNWIxNTQ0ODEyYjcyN2VjYzI5ZDEzYmU1OC5zZXRDb250ZW50KGh0bWxfNDExMmJkY2FmODI4NDk2NzkyYjdkMTYzNGI1OWQzOTIpOwogICAgICAgIAoKICAgICAgICBjaXJjbGVfOWY3ZGMwYzAyYTk5NGMzOThmZGVjMGJlZGQyYmRjNDkuYmluZFBvcHVwKHBvcHVwXzJhNWUwYjM1YjE1NDQ4MTJiNzI3ZWNjMjlkMTNiZTU4KQogICAgICAgIDsKCiAgICAgICAgCiAgICAKICAgIAogICAgICAgICAgICB2YXIgY2lyY2xlXzk3NjA2YmI2ZTQxZjQxMjJiNTI3MDlkODQ3NTQ1NjA5ID0gTC5jaXJjbGUoCiAgICAgICAgICAgICAgICBbNTUuNzk3NDI1MiwgMzcuNjAzNTI1MV0sCiAgICAgICAgICAgICAgICB7ImJ1YmJsaW5nTW91c2VFdmVudHMiOiB0cnVlLCAiY29sb3IiOiAiY3JpbXNvbiIsICJkYXNoQXJyYXkiOiBudWxsLCAiZGFzaE9mZnNldCI6IG51bGwsICJmaWxsIjogdHJ1ZSwgImZpbGxDb2xvciI6ICJjcmltc29uIiwgImZpbGxPcGFjaXR5IjogMC4yLCAiZmlsbFJ1bGUiOiAiZXZlbm9kZCIsICJsaW5lQ2FwIjogInJvdW5kIiwgImxpbmVKb2luIjogInJvdW5kIiwgIm9wYWNpdHkiOiAxLjAsICJyYWRpdXMiOiAyOTguOTUzNjYyMTgyMzYxNzcsICJzdHJva2UiOiB0cnVlLCAid2VpZ2h0IjogM30KICAgICAgICAgICAgKS5hZGRUbyhtYXBfMDRmNGUzNjc2ZTExNDc2OGFjOGViZWRmNWIwMjlhMGUpOwogICAgICAgIAogICAgCiAgICAgICAgdmFyIHBvcHVwXzM0MWFiZTY2YjBhYTQ0NzE4ODQxMTE5MjcyN2JmMmUyID0gTC5wb3B1cCh7Im1heFdpZHRoIjogIjEwMCUifSk7CgogICAgICAgIAogICAgICAgICAgICB2YXIgaHRtbF9jZTYxMjg2YTQzMjU0MjgzOGY2YzMyODQ1M2Q3ZDNmOCA9ICQoYDxkaXYgaWQ9Imh0bWxfY2U2MTI4NmE0MzI1NDI4MzhmNmMzMjg0NTNkN2QzZjgiIHN0eWxlPSJ3aWR0aDogMTAwLjAlOyBoZWlnaHQ6IDEwMC4wJTsiPjxzdHJvbmc+U2F2ZWxvdnNrb2U8L3N0cm9uZz4gKDExNCBIb21lIFNhbGVzKTwvZGl2PmApWzBdOwogICAgICAgICAgICBwb3B1cF8zNDFhYmU2NmIwYWE0NDcxODg0MTExOTI3MjdiZjJlMi5zZXRDb250ZW50KGh0bWxfY2U2MTI4NmE0MzI1NDI4MzhmNmMzMjg0NTNkN2QzZjgpOwogICAgICAgIAoKICAgICAgICBjaXJjbGVfOTc2MDZiYjZlNDFmNDEyMmI1MjcwOWQ4NDc1NDU2MDkuYmluZFBvcHVwKHBvcHVwXzM0MWFiZTY2YjBhYTQ0NzE4ODQxMTE5MjcyN2JmMmUyKQogICAgICAgIDsKCiAgICAgICAgCiAgICAKICAgIAogICAgICAgICAgICB2YXIgY2lyY2xlXzg4NWI1YWYwNDEyYTQ5Y2Y4YzAyNDIzMDMwZDliZTA4ID0gTC5jaXJjbGUoCiAgICAgICAgICAgICAgICBbNTYuMDAxNzU2NywgMzcuMTY4ODk3OF0sCiAgICAgICAgICAgICAgICB7ImJ1YmJsaW5nTW91c2VFdmVudHMiOiB0cnVlLCAiY29sb3IiOiAiY3JpbXNvbiIsICJkYXNoQXJyYXkiOiBudWxsLCAiZGFzaE9mZnNldCI6IG51bGwsICJmaWxsIjogdHJ1ZSwgImZpbGxDb2xvciI6ICJjcmltc29uIiwgImZpbGxPcGFjaXR5IjogMC4yLCAiZmlsbFJ1bGUiOiAiZXZlbm9kZCIsICJsaW5lQ2FwIjogInJvdW5kIiwgImxpbmVKb2luIjogInJvdW5kIiwgIm9wYWNpdHkiOiAxLjAsICJyYWRpdXMiOiAyOTMuNzA4ODYxMDkxNDQzMSwgInN0cm9rZSI6IHRydWUsICJ3ZWlnaHQiOiAzfQogICAgICAgICAgICApLmFkZFRvKG1hcF8wNGY0ZTM2NzZlMTE0NzY4YWM4ZWJlZGY1YjAyOWEwZSk7CiAgICAgICAgCiAgICAKICAgICAgICB2YXIgcG9wdXBfMWQ5MmM3YTdjMmJhNDFjNWFiZWM1MmEwNDEzZmY2NDAgPSBMLnBvcHVwKHsibWF4V2lkdGgiOiAiMTAwJSJ9KTsKCiAgICAgICAgCiAgICAgICAgICAgIHZhciBodG1sXzhiZTMzMTQ3N2YyODQ3M2E4MTRmZWQxMjNmNzJlMWM0ID0gJChgPGRpdiBpZD0iaHRtbF84YmUzMzE0NzdmMjg0NzNhODE0ZmVkMTIzZjcyZTFjNCIgc3R5bGU9IndpZHRoOiAxMDAuMCU7IGhlaWdodDogMTAwLjAlOyI+PHN0cm9uZz5TaWxpbm88L3N0cm9uZz4gKDExMiBIb21lIFNhbGVzKTwvZGl2PmApWzBdOwogICAgICAgICAgICBwb3B1cF8xZDkyYzdhN2MyYmE0MWM1YWJlYzUyYTA0MTNmZjY0MC5zZXRDb250ZW50KGh0bWxfOGJlMzMxNDc3ZjI4NDczYTgxNGZlZDEyM2Y3MmUxYzQpOwogICAgICAgIAoKICAgICAgICBjaXJjbGVfODg1YjVhZjA0MTJhNDljZjhjMDI0MjMwMzBkOWJlMDguYmluZFBvcHVwKHBvcHVwXzFkOTJjN2E3YzJiYTQxYzVhYmVjNTJhMDQxM2ZmNjQwKQogICAgICAgIDsKCiAgICAgICAgCiAgICAKICAgIAogICAgICAgICAgICB2YXIgY2lyY2xlX2IyOGE2ODI0YmQ1MjQ2ZmFiNDkwMTU4NTI4MWMyOTY4ID0gTC5jaXJjbGUoCiAgICAgICAgICAgICAgICBbNTUuODMwOTA4NCwgMzcuNTkxNDU4NF0sCiAgICAgICAgICAgICAgICB7ImJ1YmJsaW5nTW91c2VFdmVudHMiOiB0cnVlLCAiY29sb3IiOiAiY3JpbXNvbiIsICJkYXNoQXJyYXkiOiBudWxsLCAiZGFzaE9mZnNldCI6IG51bGwsICJmaWxsIjogdHJ1ZSwgImZpbGxDb2xvciI6ICJjcmltc29uIiwgImZpbGxPcGFjaXR5IjogMC4yLCAiZmlsbFJ1bGUiOiAiZXZlbm9kZCIsICJsaW5lQ2FwIjogInJvdW5kIiwgImxpbmVKb2luIjogInJvdW5kIiwgIm9wYWNpdHkiOiAxLjAsICJyYWRpdXMiOiAyODAuNTk2ODU4MzY0MTQ2NTYsICJzdHJva2UiOiB0cnVlLCAid2VpZ2h0IjogM30KICAgICAgICAgICAgKS5hZGRUbyhtYXBfMDRmNGUzNjc2ZTExNDc2OGFjOGViZWRmNWIwMjlhMGUpOwogICAgICAgIAogICAgCiAgICAgICAgdmFyIHBvcHVwXzA5MjY5ZTg2ZWZhMDQyNzE4NzIzMzRhMjNjNjIzMzVmID0gTC5wb3B1cCh7Im1heFdpZHRoIjogIjEwMCUifSk7CgogICAgICAgIAogICAgICAgICAgICB2YXIgaHRtbF8wYzQ1NDg1YjJmMzQ0MDQ2YjE0ZjQwMWQ4MmI2NmZjOCA9ICQoYDxkaXYgaWQ9Imh0bWxfMGM0NTQ4NWIyZjM0NDA0NmIxNGY0MDFkODJiNjZmYzgiIHN0eWxlPSJ3aWR0aDogMTAwLjAlOyBoZWlnaHQ6IDEwMC4wJTsiPjxzdHJvbmc+TWFyZmlubzwvc3Ryb25nPiAoMTA3IEhvbWUgU2FsZXMpPC9kaXY+YClbMF07CiAgICAgICAgICAgIHBvcHVwXzA5MjY5ZTg2ZWZhMDQyNzE4NzIzMzRhMjNjNjIzMzVmLnNldENvbnRlbnQoaHRtbF8wYzQ1NDg1YjJmMzQ0MDQ2YjE0ZjQwMWQ4MmI2NmZjOCk7CiAgICAgICAgCgogICAgICAgIGNpcmNsZV9iMjhhNjgyNGJkNTI0NmZhYjQ5MDE1ODUyODFjMjk2OC5iaW5kUG9wdXAocG9wdXBfMDkyNjllODZlZmEwNDI3MTg3MjMzNGEyM2M2MjMzNWYpCiAgICAgICAgOwoKICAgICAgICAKICAgIAogICAgCiAgICAgICAgICAgIHZhciBjaXJjbGVfZGZjMzBhMzI0Mzk4NGE4MGFmOTdiYmZiMjdmNzJkNTQgPSBMLmNpcmNsZSgKICAgICAgICAgICAgICAgIFs1NS44NjMyMjQ1LCAzNy40Mjc5MzczXSwKICAgICAgICAgICAgICAgIHsiYnViYmxpbmdNb3VzZUV2ZW50cyI6IHRydWUsICJjb2xvciI6ICJjcmltc29uIiwgImRhc2hBcnJheSI6IG51bGwsICJkYXNoT2Zmc2V0IjogbnVsbCwgImZpbGwiOiB0cnVlLCAiZmlsbENvbG9yIjogImNyaW1zb24iLCAiZmlsbE9wYWNpdHkiOiAwLjIsICJmaWxsUnVsZSI6ICJldmVub2RkIiwgImxpbmVDYXAiOiAicm91bmQiLCAibGluZUpvaW4iOiAicm91bmQiLCAib3BhY2l0eSI6IDEuMCwgInJhZGl1cyI6IDI2NC44NjI0NTUwOTEzOTA2NCwgInN0cm9rZSI6IHRydWUsICJ3ZWlnaHQiOiAzfQogICAgICAgICAgICApLmFkZFRvKG1hcF8wNGY0ZTM2NzZlMTE0NzY4YWM4ZWJlZGY1YjAyOWEwZSk7CiAgICAgICAgCiAgICAKICAgICAgICB2YXIgcG9wdXBfMjczYjFjZTEyZmRkNGQ5MTk5ZjBlNDUwYWI4ZTczMDMgPSBMLnBvcHVwKHsibWF4V2lkdGgiOiAiMTAwJSJ9KTsKCiAgICAgICAgCiAgICAgICAgICAgIHZhciBodG1sXzllYzJkMDM4ODYwZTRiNDNiMDA3ODkyYmZjYzUzZDFiID0gJChgPGRpdiBpZD0iaHRtbF85ZWMyZDAzODg2MGU0YjQzYjAwNzg5MmJmY2M1M2QxYiIgc3R5bGU9IndpZHRoOiAxMDAuMCU7IGhlaWdodDogMTAwLjAlOyI+PHN0cm9uZz5TZXZlcm5vZTwvc3Ryb25nPiAoMTAxIEhvbWUgU2FsZXMpPC9kaXY+YClbMF07CiAgICAgICAgICAgIHBvcHVwXzI3M2IxY2UxMmZkZDRkOTE5OWYwZTQ1MGFiOGU3MzAzLnNldENvbnRlbnQoaHRtbF85ZWMyZDAzODg2MGU0YjQzYjAwNzg5MmJmY2M1M2QxYik7CiAgICAgICAgCgogICAgICAgIGNpcmNsZV9kZmMzMGEzMjQzOTg0YTgwYWY5N2JiZmIyN2Y3MmQ1NC5iaW5kUG9wdXAocG9wdXBfMjczYjFjZTEyZmRkNGQ5MTk5ZjBlNDUwYWI4ZTczMDMpCiAgICAgICAgOwoKICAgICAgICAKICAgIAogICAgCiAgICAgICAgICAgIHZhciBjaXJjbGVfMWRmYzE4NDkzZjBmNDRmMjkyMWExZDE5OTNjZDM2ZDIgPSBMLmNpcmNsZSgKICAgICAgICAgICAgICAgIFs1NS44MDUwMDYzLCAzNy41MDU2MjQ0XSwKICAgICAgICAgICAgICAgIHsiYnViYmxpbmdNb3VzZUV2ZW50cyI6IHRydWUsICJjb2xvciI6ICJjcmltc29uIiwgImRhc2hBcnJheSI6IG51bGwsICJkYXNoT2Zmc2V0IjogbnVsbCwgImZpbGwiOiB0cnVlLCAiZmlsbENvbG9yIjogImNyaW1zb24iLCAiZmlsbE9wYWNpdHkiOiAwLjIsICJmaWxsUnVsZSI6ICJldmVub2RkIiwgImxpbmVDYXAiOiAicm91bmQiLCAibGluZUpvaW4iOiAicm91bmQiLCAib3BhY2l0eSI6IDEuMCwgInJhZGl1cyI6IDI2NC44NjI0NTUwOTEzOTA2NCwgInN0cm9rZSI6IHRydWUsICJ3ZWlnaHQiOiAzfQogICAgICAgICAgICApLmFkZFRvKG1hcF8wNGY0ZTM2NzZlMTE0NzY4YWM4ZWJlZGY1YjAyOWEwZSk7CiAgICAgICAgCiAgICAKICAgICAgICB2YXIgcG9wdXBfODVjYWNmNTcyYTk1NDgzNDk0MzJkOWZjZTk2ZTBlZjQgPSBMLnBvcHVwKHsibWF4V2lkdGgiOiAiMTAwJSJ9KTsKCiAgICAgICAgCiAgICAgICAgICAgIHZhciBodG1sX2UzOGQ3NjVkZjliYzQ4YWNiODlmNDljYTcyMGM2ZWQ5ID0gJChgPGRpdiBpZD0iaHRtbF9lMzhkNzY1ZGY5YmM0OGFjYjg5ZjQ5Y2E3MjBjNmVkOSIgc3R5bGU9IndpZHRoOiAxMDAuMCU7IGhlaWdodDogMTAwLjAlOyI+PHN0cm9uZz5Tb2tvbDwvc3Ryb25nPiAoMTAxIEhvbWUgU2FsZXMpPC9kaXY+YClbMF07CiAgICAgICAgICAgIHBvcHVwXzg1Y2FjZjU3MmE5NTQ4MzQ5NDMyZDlmY2U5NmUwZWY0LnNldENvbnRlbnQoaHRtbF9lMzhkNzY1ZGY5YmM0OGFjYjg5ZjQ5Y2E3MjBjNmVkOSk7CiAgICAgICAgCgogICAgICAgIGNpcmNsZV8xZGZjMTg0OTNmMGY0NGYyOTIxYTFkMTk5M2NkMzZkMi5iaW5kUG9wdXAocG9wdXBfODVjYWNmNTcyYTk1NDgzNDk0MzJkOWZjZTk2ZTBlZjQpCiAgICAgICAgOwoKICAgICAgICAKICAgIAogICAgCiAgICAgICAgICAgIHZhciBjaXJjbGVfZmE2MzU5ZDI0OTk3NGUxMTlhMWNlZmMxZWMxYzllMGIgPSBMLmNpcmNsZSgKICAgICAgICAgICAgICAgIFs1NS43MzgzNzQxLCAzNy42MTY5MTI4XSwKICAgICAgICAgICAgICAgIHsiYnViYmxpbmdNb3VzZUV2ZW50cyI6IHRydWUsICJjb2xvciI6ICJjcmltc29uIiwgImRhc2hBcnJheSI6IG51bGwsICJkYXNoT2Zmc2V0IjogbnVsbCwgImZpbGwiOiB0cnVlLCAiZmlsbENvbG9yIjogImNyaW1zb24iLCAiZmlsbE9wYWNpdHkiOiAwLjIsICJmaWxsUnVsZSI6ICJldmVub2RkIiwgImxpbmVDYXAiOiAicm91bmQiLCAibGluZUpvaW4iOiAicm91bmQiLCAib3BhY2l0eSI6IDEuMCwgInJhZGl1cyI6IDI2NC44NjI0NTUwOTEzOTA2NCwgInN0cm9rZSI6IHRydWUsICJ3ZWlnaHQiOiAzfQogICAgICAgICAgICApLmFkZFRvKG1hcF8wNGY0ZTM2NzZlMTE0NzY4YWM4ZWJlZGY1YjAyOWEwZSk7CiAgICAgICAgCiAgICAKICAgICAgICB2YXIgcG9wdXBfZWMyNjFjMzBhNDFiNDZhMWJkYmRjNzc0NThlZjE3MTUgPSBMLnBvcHVwKHsibWF4V2lkdGgiOiAiMTAwJSJ9KTsKCiAgICAgICAgCiAgICAgICAgICAgIHZhciBodG1sXzZlOTlhYjBlODA3MDQ1ZGNhNjIyMGJmMTE1YzJiYWEyID0gJChgPGRpdiBpZD0iaHRtbF82ZTk5YWIwZTgwNzA0NWRjYTYyMjBiZjExNWMyYmFhMiIgc3R5bGU9IndpZHRoOiAxMDAuMCU7IGhlaWdodDogMTAwLjAlOyI+PHN0cm9uZz5KYWtpbWFua2E8L3N0cm9uZz4gKDEwMSBIb21lIFNhbGVzKTwvZGl2PmApWzBdOwogICAgICAgICAgICBwb3B1cF9lYzI2MWMzMGE0MWI0NmExYmRiZGM3NzQ1OGVmMTcxNS5zZXRDb250ZW50KGh0bWxfNmU5OWFiMGU4MDcwNDVkY2E2MjIwYmYxMTVjMmJhYTIpOwogICAgICAgIAoKICAgICAgICBjaXJjbGVfZmE2MzU5ZDI0OTk3NGUxMTlhMWNlZmMxZWMxYzllMGIuYmluZFBvcHVwKHBvcHVwX2VjMjYxYzMwYTQxYjQ2YTFiZGJkYzc3NDU4ZWYxNzE1KQogICAgICAgIDsKCiAgICAgICAgCiAgICAKICAgIAogICAgICAgICAgICB2YXIgY2lyY2xlX2ZlMTUwNzkxMWYyMDQwNTA4OTdmZjQyMWIzNmM0NjBhID0gTC5jaXJjbGUoCiAgICAgICAgICAgICAgICBbNTUuODM1NzU0NiwgMzcuNjU3NDQxN10sCiAgICAgICAgICAgICAgICB7ImJ1YmJsaW5nTW91c2VFdmVudHMiOiB0cnVlLCAiY29sb3IiOiAiY3JpbXNvbiIsICJkYXNoQXJyYXkiOiBudWxsLCAiZGFzaE9mZnNldCI6IG51bGwsICJmaWxsIjogdHJ1ZSwgImZpbGxDb2xvciI6ICJjcmltc29uIiwgImZpbGxPcGFjaXR5IjogMC4yLCAiZmlsbFJ1bGUiOiAiZXZlbm9kZCIsICJsaW5lQ2FwIjogInJvdW5kIiwgImxpbmVKb2luIjogInJvdW5kIiwgIm9wYWNpdHkiOiAxLjAsICJyYWRpdXMiOiAyNDEuMjYwODUwMTgyMjU2ODMsICJzdHJva2UiOiB0cnVlLCAid2VpZ2h0IjogM30KICAgICAgICAgICAgKS5hZGRUbyhtYXBfMDRmNGUzNjc2ZTExNDc2OGFjOGViZWRmNWIwMjlhMGUpOwogICAgICAgIAogICAgCiAgICAgICAgdmFyIHBvcHVwXzFhYTI2YzQwZDY0OTRhMGNhZGNiYzRlOGE1N2EyNmZmID0gTC5wb3B1cCh7Im1heFdpZHRoIjogIjEwMCUifSk7CgogICAgICAgIAogICAgICAgICAgICB2YXIgaHRtbF9mYzgzNjIzYzMwMzc0ZmU0OGZiODU1ZmM5OWQwZTBhZCA9ICQoYDxkaXYgaWQ9Imh0bWxfZmM4MzYyM2MzMDM3NGZlNDhmYjg1NWZjOTlkMGUwYWQiIHN0eWxlPSJ3aWR0aDogMTAwLjAlOyBoZWlnaHQ6IDEwMC4wJTsiPjxzdHJvbmc+Um9zdG9raW5vPC9zdHJvbmc+ICg5MiBIb21lIFNhbGVzKTwvZGl2PmApWzBdOwogICAgICAgICAgICBwb3B1cF8xYWEyNmM0MGQ2NDk0YTBjYWRjYmM0ZThhNTdhMjZmZi5zZXRDb250ZW50KGh0bWxfZmM4MzYyM2MzMDM3NGZlNDhmYjg1NWZjOTlkMGUwYWQpOwogICAgICAgIAoKICAgICAgICBjaXJjbGVfZmUxNTA3OTExZjIwNDA1MDg5N2ZmNDIxYjM2YzQ2MGEuYmluZFBvcHVwKHBvcHVwXzFhYTI2YzQwZDY0OTRhMGNhZGNiYzRlOGE1N2EyNmZmKQogICAgICAgIDsKCiAgICAgICAgCiAgICAKICAgIAogICAgICAgICAgICB2YXIgY2lyY2xlXzI5MzJjOTE1ZGRlYzQ0ODBiNWJlMmE1OGYyNDU1ZmM0ID0gTC5jaXJjbGUoCiAgICAgICAgICAgICAgICBbNTUuODkzNjIwNywgMzcuMzg4NzAwMl0sCiAgICAgICAgICAgICAgICB7ImJ1YmJsaW5nTW91c2VFdmVudHMiOiB0cnVlLCAiY29sb3IiOiAiY3JpbXNvbiIsICJkYXNoQXJyYXkiOiBudWxsLCAiZGFzaE9mZnNldCI6IG51bGwsICJmaWxsIjogdHJ1ZSwgImZpbGxDb2xvciI6ICJjcmltc29uIiwgImZpbGxPcGFjaXR5IjogMC4yLCAiZmlsbFJ1bGUiOiAiZXZlbm9kZCIsICJsaW5lQ2FwIjogInJvdW5kIiwgImxpbmVKb2luIjogInJvdW5kIiwgIm9wYWNpdHkiOiAxLjAsICJyYWRpdXMiOiAyMDkuNzkyMDQzNjM2NzQ1MSwgInN0cm9rZSI6IHRydWUsICJ3ZWlnaHQiOiAzfQogICAgICAgICAgICApLmFkZFRvKG1hcF8wNGY0ZTM2NzZlMTE0NzY4YWM4ZWJlZGY1YjAyOWEwZSk7CiAgICAgICAgCiAgICAKICAgICAgICB2YXIgcG9wdXBfMzA1MmM0Mjg4ZTQxNGI1YTgwZGVkNGExNzI5ZjU4ODEgPSBMLnBvcHVwKHsibWF4V2lkdGgiOiAiMTAwJSJ9KTsKCiAgICAgICAgCiAgICAgICAgICAgIHZhciBodG1sXzY0NzFjMTk3ZjhkYjQ2NTY4M2UxOTkzYTc2Mzk2MTE3ID0gJChgPGRpdiBpZD0iaHRtbF82NDcxYzE5N2Y4ZGI0NjU2ODNlMTk5M2E3NjM5NjExNyIgc3R5bGU9IndpZHRoOiAxMDAuMCU7IGhlaWdodDogMTAwLjAlOyI+PHN0cm9uZz5LdXJraW5vPC9zdHJvbmc+ICg4MCBIb21lIFNhbGVzKTwvZGl2PmApWzBdOwogICAgICAgICAgICBwb3B1cF8zMDUyYzQyODhlNDE0YjVhODBkZWQ0YTE3MjlmNTg4MS5zZXRDb250ZW50KGh0bWxfNjQ3MWMxOTdmOGRiNDY1NjgzZTE5OTNhNzYzOTYxMTcpOwogICAgICAgIAoKICAgICAgICBjaXJjbGVfMjkzMmM5MTVkZGVjNDQ4MGI1YmUyYTU4ZjI0NTVmYzQuYmluZFBvcHVwKHBvcHVwXzMwNTJjNDI4OGU0MTRiNWE4MGRlZDRhMTcyOWY1ODgxKQogICAgICAgIDsKCiAgICAgICAgCiAgICAKICAgIAogICAgICAgICAgICB2YXIgY2lyY2xlXzdhZmQzMzVkOTg0MTQwNGE5NzI4NjkwY2RhYTFkOWZlID0gTC5jaXJjbGUoCiAgICAgICAgICAgICAgICBbNTUuNzg4ODUyMywgMzcuNjgwMTk2M10sCiAgICAgICAgICAgICAgICB7ImJ1YmJsaW5nTW91c2VFdmVudHMiOiB0cnVlLCAiY29sb3IiOiAiY3JpbXNvbiIsICJkYXNoQXJyYXkiOiBudWxsLCAiZGFzaE9mZnNldCI6IG51bGwsICJmaWxsIjogdHJ1ZSwgImZpbGxDb2xvciI6ICJjcmltc29uIiwgImZpbGxPcGFjaXR5IjogMC4yLCAiZmlsbFJ1bGUiOiAiZXZlbm9kZCIsICJsaW5lQ2FwIjogInJvdW5kIiwgImxpbmVKb2luIjogInJvdW5kIiwgIm9wYWNpdHkiOiAxLjAsICJyYWRpdXMiOiAxOTEuNDM1MjM5ODE4NTI5ODgsICJzdHJva2UiOiB0cnVlLCAid2VpZ2h0IjogM30KICAgICAgICAgICAgKS5hZGRUbyhtYXBfMDRmNGUzNjc2ZTExNDc2OGFjOGViZWRmNWIwMjlhMGUpOwogICAgICAgIAogICAgCiAgICAgICAgdmFyIHBvcHVwX2Q2NDZlMGE1NjcxZDRhMWY4Mzg0ZDdiNWM3ODA4M2Q0ID0gTC5wb3B1cCh7Im1heFdpZHRoIjogIjEwMCUifSk7CgogICAgICAgIAogICAgICAgICAgICB2YXIgaHRtbF9iNzkyOTVlY2RkYTU0YTQ4OGQ0OWY2N2Q1MzJhZDZjNiA9ICQoYDxkaXYgaWQ9Imh0bWxfYjc5Mjk1ZWNkZGE1NGE0ODhkNDlmNjdkNTMyYWQ2YzYiIHN0eWxlPSJ3aWR0aDogMTAwLjAlOyBoZWlnaHQ6IDEwMC4wJTsiPjxzdHJvbmc+U29rb2wnTmlraTwvc3Ryb25nPiAoNzMgSG9tZSBTYWxlcyk8L2Rpdj5gKVswXTsKICAgICAgICAgICAgcG9wdXBfZDY0NmUwYTU2NzFkNGExZjgzODRkN2I1Yzc4MDgzZDQuc2V0Q29udGVudChodG1sX2I3OTI5NWVjZGRhNTRhNDg4ZDQ5ZjY3ZDUzMmFkNmM2KTsKICAgICAgICAKCiAgICAgICAgY2lyY2xlXzdhZmQzMzVkOTg0MTQwNGE5NzI4NjkwY2RhYTFkOWZlLmJpbmRQb3B1cChwb3B1cF9kNjQ2ZTBhNTY3MWQ0YTFmODM4NGQ3YjVjNzgwODNkNCkKICAgICAgICA7CgogICAgICAgIAogICAgCiAgICAKICAgICAgICAgICAgdmFyIGNpcmNsZV9jY2I3NDM5ZmViMTc0N2Q5OGJiZmVjNzFlZjRmZDMyOCA9IEwuY2lyY2xlKAogICAgICAgICAgICAgICAgWzU1LjczOTg2OTcsIDM3LjUzNjUyNzFdLAogICAgICAgICAgICAgICAgeyJidWJibGluZ01vdXNlRXZlbnRzIjogdHJ1ZSwgImNvbG9yIjogImNyaW1zb24iLCAiZGFzaEFycmF5IjogbnVsbCwgImRhc2hPZmZzZXQiOiBudWxsLCAiZmlsbCI6IHRydWUsICJmaWxsQ29sb3IiOiAiY3JpbXNvbiIsICJmaWxsT3BhY2l0eSI6IDAuMiwgImZpbGxSdWxlIjogImV2ZW5vZGQiLCAibGluZUNhcCI6ICJyb3VuZCIsICJsaW5lSm9pbiI6ICJyb3VuZCIsICJvcGFjaXR5IjogMS4wLCAicmFkaXVzIjogMTgwLjk0NTYzNzYzNjY5MjYyLCAic3Ryb2tlIjogdHJ1ZSwgIndlaWdodCI6IDN9CiAgICAgICAgICAgICkuYWRkVG8obWFwXzA0ZjRlMzY3NmUxMTQ3NjhhYzhlYmVkZjViMDI5YTBlKTsKICAgICAgICAKICAgIAogICAgICAgIHZhciBwb3B1cF85OTRjYTY2NWM4OTk0YzIzYjFjMzA0M2RmYTk1MDJiMSA9IEwucG9wdXAoeyJtYXhXaWR0aCI6ICIxMDAlIn0pOwoKICAgICAgICAKICAgICAgICAgICAgdmFyIGh0bWxfZTU0MmNhYTA2MjZmNDQ5ZmExODVmOTNkNzdlNWQwNTMgPSAkKGA8ZGl2IGlkPSJodG1sX2U1NDJjYWEwNjI2ZjQ0OWZhMTg1ZjkzZDc3ZTVkMDUzIiBzdHlsZT0id2lkdGg6IDEwMC4wJTsgaGVpZ2h0OiAxMDAuMCU7Ij48c3Ryb25nPkRvcm9nb21pbG92bzwvc3Ryb25nPiAoNjkgSG9tZSBTYWxlcyk8L2Rpdj5gKVswXTsKICAgICAgICAgICAgcG9wdXBfOTk0Y2E2NjVjODk5NGMyM2IxYzMwNDNkZmE5NTAyYjEuc2V0Q29udGVudChodG1sX2U1NDJjYWEwNjI2ZjQ0OWZhMTg1ZjkzZDc3ZTVkMDUzKTsKICAgICAgICAKCiAgICAgICAgY2lyY2xlX2NjYjc0MzlmZWIxNzQ3ZDk4YmJmZWM3MWVmNGZkMzI4LmJpbmRQb3B1cChwb3B1cF85OTRjYTY2NWM4OTk0YzIzYjFjMzA0M2RmYTk1MDJiMSkKICAgICAgICA7CgogICAgICAgIAogICAgCiAgICAKICAgICAgICAgICAgdmFyIGNpcmNsZV81OGUzN2Q5MjhiYWQ0MWJhYTYwNDE0YWM4MGE5NzUxZiA9IEwuY2lyY2xlKAogICAgICAgICAgICAgICAgWzU1LjgyNDkwMzYsIDM3Ljc1Njk1NV0sCiAgICAgICAgICAgICAgICB7ImJ1YmJsaW5nTW91c2VFdmVudHMiOiB0cnVlLCAiY29sb3IiOiAiY3JpbXNvbiIsICJkYXNoQXJyYXkiOiBudWxsLCAiZGFzaE9mZnNldCI6IG51bGwsICJmaWxsIjogdHJ1ZSwgImZpbGxDb2xvciI6ICJjcmltc29uIiwgImZpbGxPcGFjaXR5IjogMC4yLCAiZmlsbFJ1bGUiOiAiZXZlbm9kZCIsICJsaW5lQ2FwIjogInJvdW5kIiwgImxpbmVKb2luIjogInJvdW5kIiwgIm9wYWNpdHkiOiAxLjAsICJyYWRpdXMiOiAxNzMuMDc4NDM2MDAwMzE0NywgInN0cm9rZSI6IHRydWUsICJ3ZWlnaHQiOiAzfQogICAgICAgICAgICApLmFkZFRvKG1hcF8wNGY0ZTM2NzZlMTE0NzY4YWM4ZWJlZGY1YjAyOWEwZSk7CiAgICAgICAgCiAgICAKICAgICAgICB2YXIgcG9wdXBfYTI1ZTU4ZDZmZmI1NGM4MzhjZDljN2VkYzJkMmU1ODMgPSBMLnBvcHVwKHsibWF4V2lkdGgiOiAiMTAwJSJ9KTsKCiAgICAgICAgCiAgICAgICAgICAgIHZhciBodG1sX2RkM2ZhMThhZTc5OTQ0YjM4MWM5NjI1YjRiYmVmZTgyID0gJChgPGRpdiBpZD0iaHRtbF9kZDNmYTE4YWU3OTk0NGIzODFjOTYyNWI0YmJlZmU4MiIgc3R5bGU9IndpZHRoOiAxMDAuMCU7IGhlaWdodDogMTAwLjAlOyI+PHN0cm9uZz5NZXRyb2dvcm9kb2s8L3N0cm9uZz4gKDY2IEhvbWUgU2FsZXMpPC9kaXY+YClbMF07CiAgICAgICAgICAgIHBvcHVwX2EyNWU1OGQ2ZmZiNTRjODM4Y2Q5YzdlZGMyZDJlNTgzLnNldENvbnRlbnQoaHRtbF9kZDNmYTE4YWU3OTk0NGIzODFjOTYyNWI0YmJlZmU4Mik7CiAgICAgICAgCgogICAgICAgIGNpcmNsZV81OGUzN2Q5MjhiYWQ0MWJhYTYwNDE0YWM4MGE5NzUxZi5iaW5kUG9wdXAocG9wdXBfYTI1ZTU4ZDZmZmI1NGM4MzhjZDljN2VkYzJkMmU1ODMpCiAgICAgICAgOwoKICAgICAgICAKICAgIAogICAgCiAgICAgICAgICAgIHZhciBjaXJjbGVfY2U0NTEwMzBkMmIwNDdjM2E2NzdiNDZhNTIwMDA5NGIgPSBMLmNpcmNsZSgKICAgICAgICAgICAgICAgIFs1NS42MzU4OTg3LCAzNy4yNjM4OTU0XSwKICAgICAgICAgICAgICAgIHsiYnViYmxpbmdNb3VzZUV2ZW50cyI6IHRydWUsICJjb2xvciI6ICJjcmltc29uIiwgImRhc2hBcnJheSI6IG51bGwsICJkYXNoT2Zmc2V0IjogbnVsbCwgImZpbGwiOiB0cnVlLCAiZmlsbENvbG9yIjogImNyaW1zb24iLCAiZmlsbE9wYWNpdHkiOiAwLjIsICJmaWxsUnVsZSI6ICJldmVub2RkIiwgImxpbmVDYXAiOiAicm91bmQiLCAibGluZUpvaW4iOiAicm91bmQiLCAib3BhY2l0eSI6IDEuMCwgInJhZGl1cyI6IDEzNi4zNjQ4MjgzNjM4ODQzLCAic3Ryb2tlIjogdHJ1ZSwgIndlaWdodCI6IDN9CiAgICAgICAgICAgICkuYWRkVG8obWFwXzA0ZjRlMzY3NmUxMTQ3NjhhYzhlYmVkZjViMDI5YTBlKTsKICAgICAgICAKICAgIAogICAgICAgIHZhciBwb3B1cF9iZGE3ODc2MWU3YzU0YmIyOGFmOTQ2MDc2ODFkMzIzOCA9IEwucG9wdXAoeyJtYXhXaWR0aCI6ICIxMDAlIn0pOwoKICAgICAgICAKICAgICAgICAgICAgdmFyIGh0bWxfN2EyODI2YThiYmRiNGJhNThhYzIyZjUwMzM5OTcwNDggPSAkKGA8ZGl2IGlkPSJodG1sXzdhMjgyNmE4YmJkYjRiYTU4YWMyMmY1MDMzOTk3MDQ4IiBzdHlsZT0id2lkdGg6IDEwMC4wJTsgaGVpZ2h0OiAxMDAuMCU7Ij48c3Ryb25nPlZudWtvdm88L3N0cm9uZz4gKDUyIEhvbWUgU2FsZXMpPC9kaXY+YClbMF07CiAgICAgICAgICAgIHBvcHVwX2JkYTc4NzYxZTdjNTRiYjI4YWY5NDYwNzY4MWQzMjM4LnNldENvbnRlbnQoaHRtbF83YTI4MjZhOGJiZGI0YmE1OGFjMjJmNTAzMzk5NzA0OCk7CiAgICAgICAgCgogICAgICAgIGNpcmNsZV9jZTQ1MTAzMGQyYjA0N2MzYTY3N2I0NmE1MjAwMDk0Yi5iaW5kUG9wdXAocG9wdXBfYmRhNzg3NjFlN2M1NGJiMjhhZjk0NjA3NjgxZDMyMzgpCiAgICAgICAgOwoKICAgICAgICAKICAgIAogICAgCiAgICAgICAgICAgIHZhciBjaXJjbGVfMWQ4ZWI0MzI2NjkyNDZhZThjNDkwYjU3ZGQ2ZjFkMDAgPSBMLmNpcmNsZSgKICAgICAgICAgICAgICAgIFs1NS43NTExOTksIDM3LjU4OTg3MTVdLAogICAgICAgICAgICAgICAgeyJidWJibGluZ01vdXNlRXZlbnRzIjogdHJ1ZSwgImNvbG9yIjogImNyaW1zb24iLCAiZGFzaEFycmF5IjogbnVsbCwgImRhc2hPZmZzZXQiOiBudWxsLCAiZmlsbCI6IHRydWUsICJmaWxsQ29sb3IiOiAiY3JpbXNvbiIsICJmaWxsT3BhY2l0eSI6IDAuMiwgImZpbGxSdWxlIjogImV2ZW5vZGQiLCAibGluZUNhcCI6ICJyb3VuZCIsICJsaW5lSm9pbiI6ICJyb3VuZCIsICJvcGFjaXR5IjogMS4wLCAicmFkaXVzIjogNTcuNjkyODEyMDAwMTA0ODk0LCAic3Ryb2tlIjogdHJ1ZSwgIndlaWdodCI6IDN9CiAgICAgICAgICAgICkuYWRkVG8obWFwXzA0ZjRlMzY3NmUxMTQ3NjhhYzhlYmVkZjViMDI5YTBlKTsKICAgICAgICAKICAgIAogICAgICAgIHZhciBwb3B1cF80OWUxYTVhMjY5NzA0OGI0ODEzZTc5ZWRkZGRmMDkzYSA9IEwucG9wdXAoeyJtYXhXaWR0aCI6ICIxMDAlIn0pOwoKICAgICAgICAKICAgICAgICAgICAgdmFyIGh0bWxfZDcyYjg2YTYwM2RmNGIwMzg4ZTg1YTgyMDFhYWNkOTYgPSAkKGA8ZGl2IGlkPSJodG1sX2Q3MmI4NmE2MDNkZjRiMDM4OGU4NWE4MjAxYWFjZDk2IiBzdHlsZT0id2lkdGg6IDEwMC4wJTsgaGVpZ2h0OiAxMDAuMCU7Ij48c3Ryb25nPkFyYmF0PC9zdHJvbmc+ICgyMiBIb21lIFNhbGVzKTwvZGl2PmApWzBdOwogICAgICAgICAgICBwb3B1cF80OWUxYTVhMjY5NzA0OGI0ODEzZTc5ZWRkZGRmMDkzYS5zZXRDb250ZW50KGh0bWxfZDcyYjg2YTYwM2RmNGIwMzg4ZTg1YTgyMDFhYWNkOTYpOwogICAgICAgIAoKICAgICAgICBjaXJjbGVfMWQ4ZWI0MzI2NjkyNDZhZThjNDkwYjU3ZGQ2ZjFkMDAuYmluZFBvcHVwKHBvcHVwXzQ5ZTFhNWEyNjk3MDQ4YjQ4MTNlNzllZGRkZGYwOTNhKQogICAgICAgIDsKCiAgICAgICAgCiAgICAKICAgIAogICAgICAgICAgICB2YXIgY2lyY2xlXzczNzAxMTAwZTAxZjQyMGRhYTgwN2Y1N2E0MDY2YjQ2ID0gTC5jaXJjbGUoCiAgICAgICAgICAgICAgICBbNTUuNzk0OTkwMywgMzcuODE0NDI5MV0sCiAgICAgICAgICAgICAgICB7ImJ1YmJsaW5nTW91c2VFdmVudHMiOiB0cnVlLCAiY29sb3IiOiAiY3JpbXNvbiIsICJkYXNoQXJyYXkiOiBudWxsLCAiZGFzaE9mZnNldCI6IG51bGwsICJmaWxsIjogdHJ1ZSwgImZpbGxDb2xvciI6ICJjcmltc29uIiwgImZpbGxPcGFjaXR5IjogMC4yLCAiZmlsbFJ1bGUiOiAiZXZlbm9kZCIsICJsaW5lQ2FwIjogInJvdW5kIiwgImxpbmVKb2luIjogInJvdW5kIiwgIm9wYWNpdHkiOiAxLjAsICJyYWRpdXMiOiAzMS40Njg4MDY1NDU1MTE3NiwgInN0cm9rZSI6IHRydWUsICJ3ZWlnaHQiOiAzfQogICAgICAgICAgICApLmFkZFRvKG1hcF8wNGY0ZTM2NzZlMTE0NzY4YWM4ZWJlZGY1YjAyOWEwZSk7CiAgICAgICAgCiAgICAKICAgICAgICB2YXIgcG9wdXBfNDQzYzkxYzJiMTUzNGVlYTgyNTlmZTE3MzNiZGY3MzIgPSBMLnBvcHVwKHsibWF4V2lkdGgiOiAiMTAwJSJ9KTsKCiAgICAgICAgCiAgICAgICAgICAgIHZhciBodG1sX2FmMmY1OTgxM2U4NjQ1NDRhMDdmODFiMTM4NmJjNDdjID0gJChgPGRpdiBpZD0iaHRtbF9hZjJmNTk4MTNlODY0NTQ0YTA3ZjgxYjEzODZiYzQ3YyIgc3R5bGU9IndpZHRoOiAxMDAuMCU7IGhlaWdodDogMTAwLjAlOyI+PHN0cm9uZz5Wb3N0b2Nobm9lPC9zdHJvbmc+ICgxMiBIb21lIFNhbGVzKTwvZGl2PmApWzBdOwogICAgICAgICAgICBwb3B1cF80NDNjOTFjMmIxNTM0ZWVhODI1OWZlMTczM2JkZjczMi5zZXRDb250ZW50KGh0bWxfYWYyZjU5ODEzZTg2NDU0NGEwN2Y4MWIxMzg2YmM0N2MpOwogICAgICAgIAoKICAgICAgICBjaXJjbGVfNzM3MDExMDBlMDFmNDIwZGFhODA3ZjU3YTQwNjZiNDYuYmluZFBvcHVwKHBvcHVwXzQ0M2M5MWMyYjE1MzRlZWE4MjU5ZmUxNzMzYmRmNzMyKQogICAgICAgIDsKCiAgICAgICAgCiAgICAKPC9zY3JpcHQ+\" style=\"position:absolute;width:100%;height:100%;left:0;top:0;border:none !important;\" allowfullscreen webkitallowfullscreen mozallowfullscreen></iframe></div></div>"
      ],
      "text/plain": [
       "<folium.folium.Map at 0x1a1cfc0c18>"
      ]
     },
     "metadata": {},
     "output_type": "display_data"
    }
   ],
   "source": [
    "# Create an empty map centered at Russia\n",
    "m = folium.Map(location=[55.7558, 37.6173], zoom_start=10)\n",
    " \n",
    "# Add circles at each location scaled to the market share of the particular location\n",
    "for i in range(0, len(data)):\n",
    "   folium.Circle(\n",
    "      location=[float(data.iloc[i][\"lat\"]), float(data.iloc[i][\"lon\"])],\n",
    "      popup=str(\"<strong>{}</strong> ({} Home Sales)\".format(data.iloc[i][\"district\"], data.iloc[i][\"sales_count\"])),\n",
    "      radius=float(data.iloc[i][\"market_share\"]*100000),\n",
    "      color='crimson',\n",
    "      fill=True,\n",
    "      fill_color='crimson'\n",
    "   ).add_to(m)\n",
    "\n",
    "# Display the map\n",
    "display(m)"
   ]
  },
  {
   "cell_type": "code",
   "execution_count": 68,
   "metadata": {},
   "outputs": [],
   "source": [
    "# Save the map to a HTML file\n",
    "m.save(\"Russian-House-Market-Share-Map.html\")"
   ]
  },
  {
   "cell_type": "markdown",
   "metadata": {},
   "source": []
  },
  {
   "cell_type": "code",
   "execution_count": null,
   "metadata": {},
   "outputs": [],
   "source": []
  },
  {
   "cell_type": "code",
   "execution_count": null,
   "metadata": {},
   "outputs": [],
   "source": []
  },
  {
   "cell_type": "code",
   "execution_count": null,
   "metadata": {},
   "outputs": [],
   "source": []
  },
  {
   "cell_type": "markdown",
   "metadata": {},
   "source": [
    "## Notes\n",
    "\n",
    "Noise - check when life_sq is greater than full_sq\n",
    "\n",
    "Noise - 9 with 0 stories\n",
    "\n",
    "Reasoning for 1 story not being most common property.\n",
    "\n",
    "We saw that in the attribute floor, 1 floor was not the most common which we thought would be the case, instead 19 fllors was. Our rasoning behind why this ould be is because the dataset is just from a bank who are dealing ith transactions - and people would buy and sell apartments more often than rural 1 story houses. Moreover, there would be more apartments being bought and sold nowadays due to them being constructed more often."
   ]
  }
 ],
 "metadata": {
  "kernelspec": {
   "display_name": "Python 3",
   "language": "python",
   "name": "python3"
  },
  "language_info": {
   "codemirror_mode": {
    "name": "ipython",
    "version": 3
   },
   "file_extension": ".py",
   "mimetype": "text/x-python",
   "name": "python",
   "nbconvert_exporter": "python",
   "pygments_lexer": "ipython3",
   "version": "3.7.4"
  }
 },
 "nbformat": 4,
 "nbformat_minor": 2
}
