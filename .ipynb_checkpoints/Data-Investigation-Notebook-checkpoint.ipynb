{
 "cells": [
  {
   "cell_type": "markdown",
   "metadata": {},
   "source": [
    "# A Multi-Method Analysis of the Russian Housing Market\n",
    "### 3804ICT Assignment Part I | Data Investigation Notebook | Trimester 2, 2019\n",
    "\n",
    "Joshua Russell (s5057545) | joshua.russell2@griffithuni.edu.au\n",
    "\n",
    "\n",
    "Joshua Mitchell (s5055278) | joshua.mitchell4@griffithuni.edu.au\n",
    "\n",
    "\n",
    "Hayden Flatley (s5088623) | hayden.flatley@griffithuni.edu.au"
   ]
  },
  {
   "cell_type": "markdown",
   "metadata": {},
   "source": [
    "//(Intro)\n",
    "\n",
    "The sections of the data investigation are as follows:\n",
    "\n",
    "**1) Data Exploration**\n",
    "\n",
    "- Number of Data Samples and Attributes\n",
    "    \n",
    "**2) Data Visualisation**\n",
    "\n",
    "- Heading\n",
    "    - Sub-heading\n",
    "\n",
    "**3) Data Pre-Processing**\n",
    "\n",
    "- Heading\n",
    "    - Sub-heading"
   ]
  },
  {
   "cell_type": "markdown",
   "metadata": {},
   "source": [
    "![title](SS.png)"
   ]
  },
  {
   "cell_type": "code",
   "execution_count": 26,
   "metadata": {},
   "outputs": [],
   "source": [
    "# Imports\n",
    "import math\n",
    "import numpy as np\n",
    "import pandas as pd\n",
    "import seaborn as sns\n",
    "import matplotlib.pyplot as plt"
   ]
  },
  {
   "cell_type": "code",
   "execution_count": 2,
   "metadata": {},
   "outputs": [],
   "source": [
    "# Load the Russian Housing Market datasets into pandas DataFrames\n",
    "df_test = pd.read_csv(\"Data/test.csv\")\n",
    "df_train = pd.read_csv(\"Data/train.csv\")"
   ]
  },
  {
   "cell_type": "markdown",
   "metadata": {},
   "source": [
    "## 1) Data Exploration"
   ]
  },
  {
   "cell_type": "markdown",
   "metadata": {},
   "source": [
    "### Number of Data Samples and Attributes"
   ]
  },
  {
   "cell_type": "markdown",
   "metadata": {},
   "source": [
    "The primary property dataset was provided online in two seperate files for training and testing. Below, we display the number of data samples and attributes in each of the datasets:"
   ]
  },
  {
   "cell_type": "code",
   "execution_count": 3,
   "metadata": {},
   "outputs": [
    {
     "name": "stdout",
     "output_type": "stream",
     "text": [
      "Testing set\n",
      "- No. data samples: 7662\n",
      "- No. of attributes: 291\n"
     ]
    }
   ],
   "source": [
    "# Testing set\n",
    "print(\"Testing set\\n- No. data samples: {}\\n- No. of attributes: {}\".format(df_test.shape[0], df_test.shape[1]))"
   ]
  },
  {
   "cell_type": "code",
   "execution_count": 4,
   "metadata": {},
   "outputs": [
    {
     "name": "stdout",
     "output_type": "stream",
     "text": [
      "Training set\n",
      "- No. data samples: 30471\n",
      "- No. of attributes: 292\n"
     ]
    }
   ],
   "source": [
    "# Training set\n",
    "print(\"Training set\\n- No. data samples: {}\\n- No. of attributes: {}\".format(df_train.shape[0], df_train.shape[1]))"
   ]
  },
  {
   "cell_type": "markdown",
   "metadata": {},
   "source": [
    "The testing set has one less attribute than that of the training set. The following code checks the name of this attribute:"
   ]
  },
  {
   "cell_type": "code",
   "execution_count": 5,
   "metadata": {},
   "outputs": [
    {
     "data": {
      "text/plain": [
       "'price_doc'"
      ]
     },
     "execution_count": 5,
     "metadata": {},
     "output_type": "execute_result"
    }
   ],
   "source": [
    "list(set(df_train.columns).difference(set(df_test.columns)))[0]"
   ]
  },
  {
   "cell_type": "markdown",
   "metadata": {},
   "source": [
    "The data dictionary of the Russian Housing Market dataset describes this attribute as the sale price of the property, and moreover as the target variable for house price prediction. These two datasets will be useful for the methods of regression and forecasting. However, for other data mining methods we plan to investigate, such as frequent pattern mining, there is no need to split the data into training and testing sets. As a result, we will concatenate the datasets together for pre-processing. "
   ]
  },
  {
   "cell_type": "code",
   "execution_count": 6,
   "metadata": {},
   "outputs": [],
   "source": [
    "# Add a 'price_doc' column to the test DataFrame filled with `None` values\n",
    "df_test_price_doc = df_test.assign(price_doc=pd.Series([None for i in range(df_test.shape[0])]).values)"
   ]
  },
  {
   "cell_type": "code",
   "execution_count": 7,
   "metadata": {},
   "outputs": [],
   "source": [
    "# Concatenate test and train DataFrames\n",
    "df = pd.concat([df_train, df_test_price_doc], sort=False, ignore_index=True)"
   ]
  },
  {
   "cell_type": "code",
   "execution_count": 8,
   "metadata": {},
   "outputs": [
    {
     "name": "stdout",
     "output_type": "stream",
     "text": [
      "Complete dataset\n",
      "- No. data samples: 38133\n",
      "- No. of attributes: 292\n"
     ]
    }
   ],
   "source": [
    "# Concatenate datasets (both training and testing data samples)\n",
    "print(\"Complete dataset\\n- No. data samples: {}\\n- No. of attributes: {}\".format(df.shape[0], df.shape[1]))"
   ]
  },
  {
   "cell_type": "markdown",
   "metadata": {},
   "source": [
    "### Types of Attributes"
   ]
  },
  {
   "cell_type": "markdown",
   "metadata": {},
   "source": [
    "Here we investigate the types of attributes within the dataset. For an initial look at these attributes we display each attribute with its corresponding datatype and an example value from the dataset"
   ]
  },
  {
   "cell_type": "code",
   "execution_count": 9,
   "metadata": {
    "scrolled": true
   },
   "outputs": [
    {
     "name": "stdout",
     "output_type": "stream",
     "text": [
      "Attribute                                Datatype        Example Value\n",
      "---------                                --------        -------------\n",
      "id                                       int64           1\n",
      "timestamp                                object          2011-08-20\n",
      "full_sq                                  float64         43.0\n",
      "life_sq                                  float64         27.0\n",
      "floor                                    float64         4.0\n",
      "max_floor                                float64         17.0\n",
      "material                                 float64         1.0\n",
      "build_year                               float64         1907.0\n",
      "num_room                                 float64         2.0\n",
      "kitch_sq                                 float64         11.0\n",
      "state                                    float64         3.0\n",
      "product_type                             object          Investment\n",
      "sub_area                                 object          Bibirevo\n",
      "area_m                                   float64         6407578.1\n",
      "raion_popul                              int64           155572\n",
      "green_zone_part                          float64         0.189727117\n",
      "indust_part                              float64         6.99893e-05\n",
      "children_preschool                       int64           9576\n",
      "preschool_quota                          float64         5001.0\n",
      "preschool_education_centers_raion        int64           5\n",
      "children_school                          int64           10309\n",
      "school_quota                             float64         11065.0\n",
      "school_education_centers_raion           int64           5\n",
      "school_education_centers_top_20_raion    int64           0\n",
      "hospital_beds_raion                      float64         240.0\n",
      "healthcare_centers_raion                 int64           1\n",
      "university_top_20_raion                  int64           0\n",
      "sport_objects_raion                      int64           7\n",
      "additional_education_raion               int64           3\n",
      "culture_objects_top_25                   object          no\n",
      "culture_objects_top_25_raion             int64           0\n",
      "shopping_centers_raion                   int64           16\n",
      "office_raion                             int64           1\n",
      "thermal_power_plant_raion                object          no\n",
      "incineration_raion                       object          no\n",
      "oil_chemistry_raion                      object          no\n",
      "radiation_raion                          object          no\n",
      "railroad_terminal_raion                  object          no\n",
      "big_market_raion                         object          no\n",
      "nuclear_reactor_raion                    object          no\n",
      "detention_facility_raion                 object          no\n",
      "full_all                                 int64           86206\n",
      "male_f                                   int64           40477\n",
      "female_f                                 int64           45729\n",
      "young_all                                int64           21154\n",
      "young_male                               int64           11007\n",
      "young_female                             int64           10147\n",
      "work_all                                 int64           98207\n",
      "work_male                                int64           52277\n",
      "work_female                              int64           45930\n",
      "ekder_all                                int64           36211\n",
      "ekder_male                               int64           10580\n",
      "ekder_female                             int64           25631\n",
      "0_6_all                                  int64           9576\n",
      "0_6_male                                 int64           4899\n",
      "0_6_female                               int64           4677\n",
      "7_14_all                                 int64           10309\n",
      "7_14_male                                int64           5463\n",
      "7_14_female                              int64           4846\n",
      "0_17_all                                 int64           23603\n",
      "0_17_male                                int64           12286\n",
      "0_17_female                              int64           11317\n",
      "16_29_all                                int64           17508\n",
      "16_29_male                               int64           9425\n",
      "16_29_female                             int64           8083\n",
      "0_13_all                                 int64           18654\n",
      "0_13_male                                int64           9709\n",
      "0_13_female                              int64           8945\n",
      "raion_build_count_with_material_info     float64         211.0\n",
      "build_count_block                        float64         25.0\n",
      "build_count_wood                         float64         0.0\n",
      "build_count_frame                        float64         0.0\n",
      "build_count_brick                        float64         0.0\n",
      "build_count_monolith                     float64         2.0\n",
      "build_count_panel                        float64         184.0\n",
      "build_count_foam                         float64         0.0\n",
      "build_count_slag                         float64         0.0\n",
      "build_count_mix                          float64         0.0\n",
      "raion_build_count_with_builddate_info    float64         211.0\n",
      "build_count_before_1920                  float64         0.0\n",
      "build_count_1921-1945                    float64         0.0\n",
      "build_count_1946-1970                    float64         0.0\n",
      "build_count_1971-1995                    float64         206.0\n",
      "build_count_after_1995                   float64         5.0\n",
      "ID_metro                                 int64           1\n",
      "metro_min_avto                           float64         2.590241095\n",
      "metro_km_avto                            float64         1.131259906\n",
      "metro_min_walk                           float64         13.57511887\n",
      "metro_km_walk                            float64         1.131259906\n",
      "kindergarten_km                          float64         0.14569955199999998\n",
      "school_km                                float64         0.17797535\n",
      "park_km                                  float64         2.158587074\n",
      "green_zone_km                            float64         0.600973099\n",
      "industrial_km                            float64         1.080934313\n",
      "water_treatment_km                       float64         23.68346\n",
      "cemetery_km                              float64         1.804127\n",
      "incineration_km                          float64         3.6333339999999996\n",
      "railroad_station_walk_km                 float64         5.419893032\n",
      "railroad_station_walk_min                float64         65.03871639\n",
      "ID_railroad_station_walk                 float64         1.0\n",
      "railroad_station_avto_km                 float64         5.419893032\n",
      "railroad_station_avto_min                float64         6.905892968\n",
      "ID_railroad_station_avto                 int64           1\n",
      "public_transport_station_km              float64         0.274985143\n",
      "public_transport_station_min_walk        float64         3.2998217139999997\n",
      "water_km                                 float64         0.992631058\n",
      "water_1line                              object          no\n",
      "mkad_km                                  float64         1.42239141\n",
      "ttk_km                                   float64         10.9185867\n",
      "sadovoe_km                               float64         13.10061764\n",
      "bulvar_ring_km                           float64         13.67565705\n",
      "kremlin_km                               float64         15.15621058\n",
      "big_road1_km                             float64         1.422391404\n",
      "ID_big_road1                             int64           1\n",
      "big_road1_1line                          object          no\n",
      "big_road2_km                             float64         3.830951404\n",
      "ID_big_road2                             int64           5\n",
      "railroad_km                              float64         1.305159492\n",
      "railroad_1line                           object          no\n",
      "zd_vokzaly_avto_km                       float64         14.23196091\n",
      "ID_railroad_terminal                     int64           101\n",
      "bus_terminal_avto_km                     float64         24.2924061\n",
      "ID_bus_terminal                          int64           1\n",
      "oil_chemistry_km                         float64         18.152338\n",
      "nuclear_reactor_km                       float64         5.718518835\n",
      "radiation_km                             float64         1.210027392\n",
      "power_transmission_line_km               float64         1.0625130459999999\n",
      "thermal_power_plant_km                   float64         5.814134663\n",
      "ts_km                                    float64         4.308127002\n",
      "big_market_km                            float64         10.81417151\n",
      "market_shop_km                           float64         1.6762583130000002\n",
      "fitness_km                               float64         0.485841388\n",
      "swim_pool_km                             float64         3.0650470989999996\n",
      "ice_rink_km                              float64         1.1075942090000002\n",
      "stadium_km                               float64         8.148590774\n",
      "basketball_km                            float64         3.5165129110000004\n",
      "hospice_morgue_km                        float64         2.392353035\n",
      "detention_facility_km                    float64         4.2480358869999995\n",
      "public_healthcare_km                     float64         0.974742843\n",
      "university_km                            float64         6.715025787\n",
      "workplaces_km                            float64         0.8843500209999999\n",
      "shopping_centers_km                      float64         0.648487637\n",
      "office_km                                float64         0.637188832\n",
      "additional_education_km                  float64         0.947961657\n",
      "preschool_km                             float64         0.17797535\n",
      "big_church_km                            float64         0.625783434\n",
      "church_synagogue_km                      float64         0.628186549\n",
      "mosque_km                                float64         3.932040333\n",
      "theater_km                               float64         14.05304655\n",
      "museum_km                                float64         7.389497904\n",
      "exhibition_km                            float64         7.023704919\n",
      "catering_km                              float64         0.516838085\n",
      "ecology                                  object          good\n",
      "green_part_500                           float64         0.0\n",
      "prom_part_500                            float64         0.0\n",
      "office_count_500                         int64           0\n",
      "office_sqm_500                           int64           0\n",
      "trc_count_500                            int64           0\n",
      "trc_sqm_500                              int64           0\n",
      "cafe_count_500                           int64           0\n",
      "cafe_sum_500_min_price_avg               float64         860.0\n",
      "cafe_sum_500_max_price_avg               float64         1500.0\n",
      "cafe_avg_price_500                       float64         1180.0\n",
      "cafe_count_500_na_price                  int64           0\n",
      "cafe_count_500_price_500                 int64           0\n",
      "cafe_count_500_price_1000                int64           0\n",
      "cafe_count_500_price_1500                int64           0\n",
      "cafe_count_500_price_2500                int64           0\n",
      "cafe_count_500_price_4000                int64           0\n",
      "cafe_count_500_price_high                int64           0\n",
      "big_church_count_500                     int64           0\n",
      "church_count_500                         int64           0\n",
      "mosque_count_500                         int64           0\n",
      "leisure_count_500                        int64           0\n",
      "sport_count_500                          int64           1\n",
      "market_count_500                         int64           0\n",
      "green_part_1000                          float64         7.36\n",
      "prom_part_1000                           float64         0.0\n",
      "office_count_1000                        int64           1\n",
      "office_sqm_1000                          int64           30500\n",
      "trc_count_1000                           int64           3\n",
      "trc_sqm_1000                             int64           55600\n",
      "cafe_count_1000                          int64           19\n",
      "cafe_sum_1000_min_price_avg              float64         527.78\n",
      "cafe_sum_1000_max_price_avg              float64         888.89\n",
      "cafe_avg_price_1000                      float64         708.33\n",
      "cafe_count_1000_na_price                 int64           1\n",
      "cafe_count_1000_price_500                int64           10\n",
      "cafe_count_1000_price_1000               int64           4\n",
      "cafe_count_1000_price_1500               int64           3\n",
      "cafe_count_1000_price_2500               int64           1\n",
      "cafe_count_1000_price_4000               int64           0\n",
      "cafe_count_1000_price_high               int64           0\n",
      "big_church_count_1000                    int64           1\n",
      "church_count_1000                        int64           2\n",
      "mosque_count_1000                        int64           0\n",
      "leisure_count_1000                       int64           0\n",
      "sport_count_1000                         int64           6\n",
      "market_count_1000                        int64           1\n",
      "green_part_1500                          float64         14.27\n",
      "prom_part_1500                           float64         6.92\n",
      "office_count_1500                        int64           3\n",
      "office_sqm_1500                          int64           39554\n",
      "trc_count_1500                           int64           9\n",
      "trc_sqm_1500                             int64           171420\n",
      "cafe_count_1500                          int64           34\n",
      "cafe_sum_1500_min_price_avg              float64         566.67\n",
      "cafe_sum_1500_max_price_avg              float64         969.7\n",
      "cafe_avg_price_1500                      float64         768.18\n",
      "cafe_count_1500_na_price                 int64           1\n",
      "cafe_count_1500_price_500                int64           14\n",
      "cafe_count_1500_price_1000               int64           11\n",
      "cafe_count_1500_price_1500               int64           6\n",
      "cafe_count_1500_price_2500               int64           2\n",
      "cafe_count_1500_price_4000               int64           0\n",
      "cafe_count_1500_price_high               int64           0\n",
      "big_church_count_1500                    int64           1\n",
      "church_count_1500                        int64           2\n",
      "mosque_count_1500                        int64           0\n",
      "leisure_count_1500                       int64           0\n",
      "sport_count_1500                         int64           7\n",
      "market_count_1500                        int64           1\n",
      "green_part_2000                          float64         11.77\n",
      "prom_part_2000                           float64         15.97\n",
      "office_count_2000                        int64           9\n",
      "office_sqm_2000                          int64           188854\n",
      "trc_count_2000                           int64           19\n",
      "trc_sqm_2000                             int64           1244891\n",
      "cafe_count_2000                          int64           36\n",
      "cafe_sum_2000_min_price_avg              float64         614.29\n",
      "cafe_sum_2000_max_price_avg              float64         1042.86\n",
      "cafe_avg_price_2000                      float64         828.57\n",
      "cafe_count_2000_na_price                 int64           1\n",
      "cafe_count_2000_price_500                int64           15\n",
      "cafe_count_2000_price_1000               int64           11\n",
      "cafe_count_2000_price_1500               int64           6\n",
      "cafe_count_2000_price_2500               int64           2\n",
      "cafe_count_2000_price_4000               int64           1\n",
      "cafe_count_2000_price_high               int64           0\n",
      "big_church_count_2000                    int64           1\n",
      "church_count_2000                        int64           2\n",
      "mosque_count_2000                        int64           0\n",
      "leisure_count_2000                       int64           0\n",
      "sport_count_2000                         int64           10\n",
      "market_count_2000                        int64           1\n",
      "green_part_3000                          float64         11.98\n",
      "prom_part_3000                           float64         13.55\n",
      "office_count_3000                        int64           12\n",
      "office_sqm_3000                          int64           251554\n",
      "trc_count_3000                           int64           23\n",
      "trc_sqm_3000                             int64           1419204\n",
      "cafe_count_3000                          int64           68\n",
      "cafe_sum_3000_min_price_avg              float64         639.68\n",
      "cafe_sum_3000_max_price_avg              float64         1079.37\n",
      "cafe_avg_price_3000                      float64         859.52\n",
      "cafe_count_3000_na_price                 int64           5\n",
      "cafe_count_3000_price_500                int64           21\n",
      "cafe_count_3000_price_1000               int64           22\n",
      "cafe_count_3000_price_1500               int64           16\n",
      "cafe_count_3000_price_2500               int64           3\n",
      "cafe_count_3000_price_4000               int64           1\n",
      "cafe_count_3000_price_high               int64           0\n",
      "big_church_count_3000                    int64           2\n",
      "church_count_3000                        int64           4\n",
      "mosque_count_3000                        int64           0\n",
      "leisure_count_3000                       int64           0\n",
      "sport_count_3000                         int64           21\n",
      "market_count_3000                        int64           1\n",
      "green_part_5000                          float64         13.09\n",
      "prom_part_5000                           float64         13.31\n",
      "office_count_5000                        int64           29\n",
      "office_sqm_5000                          int64           807385\n",
      "trc_count_5000                           int64           52\n",
      "trc_sqm_5000                             int64           4036616\n",
      "cafe_count_5000                          int64           152\n",
      "cafe_sum_5000_min_price_avg              float64         708.57\n",
      "cafe_sum_5000_max_price_avg              float64         1185.71\n",
      "cafe_avg_price_5000                      float64         947.14\n",
      "cafe_count_5000_na_price                 int64           12\n",
      "cafe_count_5000_price_500                int64           39\n",
      "cafe_count_5000_price_1000               int64           48\n",
      "cafe_count_5000_price_1500               int64           40\n",
      "cafe_count_5000_price_2500               int64           9\n",
      "cafe_count_5000_price_4000               int64           4\n",
      "cafe_count_5000_price_high               int64           0\n",
      "big_church_count_5000                    int64           13\n",
      "church_count_5000                        int64           22\n",
      "mosque_count_5000                        int64           1\n",
      "leisure_count_5000                       int64           0\n",
      "sport_count_5000                         int64           52\n",
      "market_count_5000                        int64           4\n",
      "price_doc                                object          5850000\n"
     ]
    }
   ],
   "source": [
    "# Attributes with corresponding Datatypes and Examples from the Russian Housing Market dataset\n",
    "print(\"{:<40} {:<15} {}\".format(\"Attribute\", \"Datatype\", \"Example Value\"))\n",
    "print(\"{:<40} {:<15} {}\".format(\"---------\", \"--------\", \"-------------\"))\n",
    "\n",
    "example_values = []\n",
    "for col in list(df.columns):\n",
    "    values = [x for x in list(df[col].values) if str(x) != \"nan\"]\n",
    "    example_values.append(values[0])\n",
    "    \n",
    "for col in np.c_[list(df.columns), list(df.dtypes), list(example_values)]:\n",
    "    print(\"{:<40} {:<15} {}\".format(col[0], str(col[1]), col[2]))"
   ]
  },
  {
   "cell_type": "markdown",
   "metadata": {},
   "source": [
    "There are four distinct types of attributes, those being *nominal attributes*, *ordinal attributes*, *interval-scaled attributes* and *ratio-scaled attributes*. Furthermore, there are also discrete and continuous classifications for distinguishing types of attributes. Since there are a total of 292 attributes in the primary dataset we will not describe the specific attribute type for each attribute. Instead, we will provide examples of attributes from the dataset that fulfill the criteria of the different attribute types.\n",
    "\n",
    "**Nominal attributes**\n",
    "\n",
    "Nominal attributes are those which are qualitative and do not have any inherent order or ranking. An example of this type of attribute within the dataset is the `sub_area` attribute. This attribute represents the name of the district that the data sample (property) belongs to. It takes on values such as \"Juzhnoe Butovo\" and \"Perovo\".\n",
    "\n",
    "**Ordinal attributes**\n",
    "\n",
    "Ordinal attributes are again qualitative. However, the values that these attributes take on have a meaningful order. In the primary housing market dataset there are no attributes that are ordinal. \n",
    "\n",
    "**Interval-scaled attributes**\n",
    "\n",
    "Interval-scaled attributes are ordered, and are those which, as the name implies, are measured on a particular equal-sized interval scale. The distinguishing factor between interval-scaled attributes and ratio-scaled attributes is that interval-scaled attributes do not have a true zero point (i.e. they can be positive, zero, or negative). After observing the name and meaning of each of the attributes in the primary dataset, we did not find any attributes that appeared interval-scaled. We further check this observation below:"
   ]
  },
  {
   "cell_type": "code",
   "execution_count": 36,
   "metadata": {},
   "outputs": [],
   "source": [
    "# Check for negative values in DataFrame\n",
    "for col_name in list(df.columns):\n",
    "    col = df[col_name]\n",
    "    \n",
    "    if col.dtype == \"float64\" or col.dtype == \"int64\":\n",
    "        neg_values = []\n",
    "        \n",
    "        for val in col:\n",
    "            if not math.isnan(val) and val < 0:\n",
    "                neg_values.append(val)\n",
    "                \n",
    "        if neg_values:\n",
    "            print(\"Column: {}\".format(col_name))\n",
    "            print(\"Negative values: {}\".format(len(neg_values)))"
   ]
  },
  {
   "cell_type": "markdown",
   "metadata": {},
   "source": [
    "**Ratio-scaled attributes**\n",
    "\n",
    "Ratio-scaled attributes, like those which are interval-scaled, are ordered measurements which have a particular scale. However, what differentiates ratio-scaled attributes is that they have a true zero point (i.e. they can be positive or zero). An example of a ratio-scaled attribute within the housing market dataset is `full_sq`. This attribute represents the total area of the property in square meters. Since area has an inherent zero-point, as you cannot have a house with negative area, this is a clear example of a ratio-scaled attribute.  \n",
    "\n",
    "**Discrete attributes**\n",
    "\n",
    "Discrete attributes are attributes which take on a finite or countably infinite set of possible values. The attribute `product_type` is an example of a discrete attribute within the primary dataset. This attribute states whether the property was bought as an investment property, or for owner-occupancy. Since there are two possible values this attribute can take on (i.e. \"OwnerOccupier\" or \"Investment\"), it has a finite set of values and is therefore a discrete attribute. \n",
    "\n",
    "**Continuous attributes**\n",
    "\n",
    "Continuous attributes, in contrast to discrete attributes, take on real valued numbers over a continuous range. An example of this type of attribute in the Russian housing market dataset is `metro_min_walk`, which provides the time it would take to walk to the metro on foot from the property (in minutes). This attribute has floating-point values over a continuous range and can therefore be classified as a continuous attribute."
   ]
  },
  {
   "cell_type": "markdown",
   "metadata": {},
   "source": [
    "### Feature Selection"
   ]
  },
  {
   "cell_type": "markdown",
   "metadata": {},
   "source": [
    "The primary Russian housing market dataset contains a significant number of attributes, 292 in total. Consequently, for this investigation we will perform feature selection to select a few attributes which seem interesting and/or significant for predicting property sale price to study in data exploration and visualisation. In Firstly, we will perform manual feature selection by examining the features and using domain knowledge to determine which attributes would not be interesting "
   ]
  },
  {
   "cell_type": "markdown",
   "metadata": {},
   "source": [
    "#### Manual Selection"
   ]
  },
  {
   "cell_type": "code",
   "execution_count": null,
   "metadata": {},
   "outputs": [],
   "source": []
  },
  {
   "cell_type": "markdown",
   "metadata": {},
   "source": [
    "#### Analysis/Metric-based Selection"
   ]
  },
  {
   "cell_type": "code",
   "execution_count": null,
   "metadata": {},
   "outputs": [],
   "source": []
  },
  {
   "cell_type": "markdown",
   "metadata": {},
   "source": [
    "### Statistical Information"
   ]
  },
  {
   "cell_type": "code",
   "execution_count": null,
   "metadata": {},
   "outputs": [],
   "source": []
  },
  {
   "cell_type": "markdown",
   "metadata": {},
   "source": [
    "## 2) Data Visualisation"
   ]
  },
  {
   "cell_type": "code",
   "execution_count": null,
   "metadata": {},
   "outputs": [],
   "source": []
  },
  {
   "cell_type": "markdown",
   "metadata": {},
   "source": [
    "## 3) Data Pre-Processing"
   ]
  },
  {
   "cell_type": "code",
   "execution_count": null,
   "metadata": {},
   "outputs": [],
   "source": []
  },
  {
   "cell_type": "code",
   "execution_count": null,
   "metadata": {},
   "outputs": [],
   "source": []
  },
  {
   "cell_type": "code",
   "execution_count": null,
   "metadata": {},
   "outputs": [],
   "source": []
  },
  {
   "cell_type": "code",
   "execution_count": null,
   "metadata": {},
   "outputs": [],
   "source": []
  }
 ],
 "metadata": {
  "kernelspec": {
   "display_name": "Python 3",
   "language": "python",
   "name": "python3"
  },
  "language_info": {
   "codemirror_mode": {
    "name": "ipython",
    "version": 3
   },
   "file_extension": ".py",
   "mimetype": "text/x-python",
   "name": "python",
   "nbconvert_exporter": "python",
   "pygments_lexer": "ipython3",
   "version": "3.7.4"
  }
 },
 "nbformat": 4,
 "nbformat_minor": 2
}
